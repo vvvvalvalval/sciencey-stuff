{
 "cells": [
  {
   "cell_type": "markdown",
   "metadata": {},
   "source": [
    "# Inferring the Earth's tilt from day lengths"
   ]
  },
  {
   "cell_type": "markdown",
   "metadata": {},
   "source": [
    "If you're more than 1 year old, you've probably notice that the **daylight length** (the time between sunrise and sunset) varies depending on the time of the year: it reaches its maximum and minimum at solstices, and is about 12 hours at equinoxes. What's more, as you approach the Equator, this variation gets smaller and smaller: at the Equator, you get about 12 hours of daylight per day, all year long.\n",
    "\n",
    "This, as well as seasons, is explained by the **Earth's tilt**: the axis of rotation of the Earth is not quite parallel to its axis of rotation around the Sun. The angle between these axes is called the _Earth's tilt_ or *obliquity*; I'll denote it $\\alpha$ in this article.\n",
    "\n",
    "This has prompted me to tackle the following problem: \n",
    "\n",
    "### Problem statement\n",
    "\n",
    "**_Can we, given the daylight lengths at various places and times around the globe, infer the Earth's tilt $\\alpha$ reliably?_**"
   ]
  },
  {
   "cell_type": "code",
   "execution_count": 53,
   "metadata": {},
   "outputs": [],
   "source": [
    "import random\n",
    "import numpy as np\n",
    "import matplotlib.pyplot as plt\n",
    "import scipy.io\n",
    "import json\n",
    "import io\n",
    "import time\n",
    "import numpy.random as rnd\n",
    "import numpy.linalg as linalg\n",
    "import datetime"
   ]
  },
  {
   "cell_type": "markdown",
   "metadata": {},
   "source": [
    "## Collecting data"
   ]
  },
  {
   "cell_type": "code",
   "execution_count": 54,
   "metadata": {},
   "outputs": [],
   "source": [
    "N = 200 ## the number of samples we want to collect\n",
    "\n",
    "\n",
    "cities = [ ## some cities scattered over the world (between polar circles though)\n",
    "  {'name': 'New York', 'pos': [40.7128, -74.0060]},\n",
    "  {'name': 'Beijing', 'pos': [39.9042, 116.4074]},\n",
    "  {'name': 'Buenos Aires', 'pos': [-34.6037, -58.3816]},\n",
    "  {'name': 'Lisboa', 'pos': [38.7223, -9.1393]},\n",
    "  {'name': 'Makassar', 'pos': [-5.1477, 119.4327]},\n",
    "  {'name': 'Ushuaia', 'pos': [-54.8019, -68.3030]},\n",
    "  {'name': 'Mumbai', 'pos': [19.0760, 72.8777]},\n",
    "  {'name': 'Istanbul', 'pos': [41.0082, 28.9784]},\n",
    "  {'name': 'Nairobi', 'pos': [-1.2921, 36.8219]},\n",
    "  {'name': 'Sydney', 'pos': [-33.8688, 151.2093]},\n",
    "  {'name': 'Los Angeles', 'pos': [34.0522, -118.2437]},\n",
    "  {'name': 'Cape Town', 'pos': [-33.9249, 18.4241]},\n",
    "  {'name': 'Noumea', 'pos': [-22.2735, 166.4481]},\n",
    "  {'name': 'Tokyo', 'pos': [35.6762, 139.6503]}\n",
    "  ]\n",
    "\n",
    "epoch_2020 = datetime.datetime(2020,1,1).timestamp()\n",
    "ordinal_2020 = datetime.date(2020,1,1).toordinal()\n",
    "epoch_2019 = datetime.datetime(2019,1,1).timestamp()\n",
    "ordinal_2019 = datetime.date(2019,1,1).toordinal()\n",
    "year_duration_s = epoch_2020 - epoch_2019\n",
    "\n",
    "def random_date_in_2019():\n",
    "    return datetime.date.fromordinal(random.randrange(ordinal_2019, ordinal_2020))\n",
    "\n",
    "def generate_data_template(N):\n",
    "    ret = []\n",
    "    for i in range(N):\n",
    "        city = random.choice(cities)\n",
    "        date = random_date_in_2019()\n",
    "        m = {}\n",
    "        m.update(city)\n",
    "        m.update({'date': date.isoformat(), 'daylight': '?'})\n",
    "        ret.append(m)\n",
    "    def sortfn(m):\n",
    "        return m['name'] + '|' + m['date']\n",
    "    return sorted(ret, key=sortfn)\n",
    "\n",
    "def print_data_template_as_json(template, out):\n",
    "    out.write('[\\n')\n",
    "    for i in range(len(template)):\n",
    "        if(i > 0):\n",
    "            out.write(',\\n')\n",
    "        m = template[i]\n",
    "        out.write(json.dumps(m))\n",
    "    out.write('\\n]\\n')\n",
    "\n",
    "def write_data_template_to_file():\n",
    "    random.seed(38)\n",
    "    template = generate_data_template(N)\n",
    "    with open('./data/day-durations-template.json', 'w') as outfile:\n",
    "        print_data_template_as_json(template, outfile)"
   ]
  },
  {
   "cell_type": "markdown",
   "metadata": {},
   "source": [
    "We can now generate a data template to be filled manually by evaluating `write_data_template_to_file()`."
   ]
  },
  {
   "cell_type": "markdown",
   "metadata": {},
   "source": [
    "## Generic functions across all models"
   ]
  },
  {
   "cell_type": "code",
   "execution_count": 55,
   "metadata": {},
   "outputs": [],
   "source": [
    "raw_training_data = json.load(io.open(\"./data/day-durations-training.json\"))\n",
    "raw_test_data = json.load(io.open(\"./data/day-durations-test.json\"))\n",
    "\n",
    "def parse_daylight_s(dl_raw):\n",
    "    hours, minutes = dl_raw.split(':')\n",
    "    return (3600 * float(hours)) + (60 * float(minutes))\n",
    "\n",
    "def parse_year_fraction(date_raw, lng):\n",
    "    ## TODO use lng\n",
    "    y,m,d = date_raw.split('-')\n",
    "    return (datetime.datetime(int(y),int(m),int(d)).timestamp() - epoch_2019) / year_duration_s\n",
    "\n",
    "    \n",
    "def daylight_durations(raw_data):\n",
    "    arr = []\n",
    "    for m in raw_data:\n",
    "        arr.append(parse_daylight_s(m['daylight']))\n",
    "    return np.array(arr)\n",
    "        \n",
    "daylight_durations(raw_training_data)\n",
    "\n",
    "def rms_test_error(predicted_daylight_durations, actual_daylight_durations):\n",
    "    return np.sqrt(np.average((predicted_daylight_durations - actual_daylight_durations)**2))\n",
    "\n",
    "june21_yf = parse_year_fraction(\"2019-06-21\", 0) ## The year fraction of the Summer Solstice\n",
    "day_duration_s = 86400"
   ]
  },
  {
   "cell_type": "markdown",
   "metadata": {},
   "source": [
    "## Model 1: a simple linear model"
   ]
  },
  {
   "cell_type": "markdown",
   "metadata": {},
   "source": [
    "Our first model is the most elementary I could come up with, making several idealized hypotheses:\n",
    "\n",
    "1. The Earth is a perfect sphere.\n",
    "2. The Earth receives the light of the Sun as straight parallel rays (i.e the Sun is a punctual source at infinite distance).\n",
    "3. The Earth orbits the Sun in a perfect circle at constant speed.\n",
    "4. At a given latitude and time of the year, the daylight length is equal to the fraction of the iso-latitude circle that's in the light.\n",
    "\n",
    "Based on these assumptions, I arrived at the following model:\n",
    "\n",
    "---\n",
    "\n",
    "#### Formula for Model 1:\n",
    "\n",
    "$$ d_f = 1 - \\frac{1}{\\pi} \\arccos(\\sin(\\alpha) \\tan(\\phi) \\cos(2 \\pi \\frac{t - t_S}{T_Y})) $$\n",
    "\n",
    "---\n",
    "\n",
    "... in which the various symbols are defined as follows:\n",
    "\n",
    "* $d_f$ : **daylight fraction**, the fraction of the day in daylight ($\\frac{1}{2}$ if there are 12 hours of daylight, $\\frac{2}{3}$ if there are 16 hours of daylight, etc.). _Part of the collected data._\n",
    "* $\\alpha$ : the **Earth's tilt**, an angle between 0° and 90°. _To be inferred._\n",
    "* $\\phi$ : the **latitude**, i.e the angle between the place in consideration and the Equator, ranging from -90° to 90°. _Part of the collected data._\n",
    "* $t$ : the **time of the year**. _Part of the collected data._\n",
    "* $t_S$ : the **time of Summer Solstice in the Northern Hemisphere**, the time of the year where days are longest in the Northern Hemisphere. _To be inferred._\n",
    "* $T_Y$ : the **duration of the year.** _Known constant._\n",
    "\n",
    "Let's restate **our goal: _infer the Earth's tilt $\\alpha$ and the solstice time $t_S$ based on the collected values of $(d_f, \\phi, t)$._**"
   ]
  },
  {
   "cell_type": "markdown",
   "metadata": {},
   "source": [
    "### Framing Model 1 as a linear regression"
   ]
  },
  {
   "cell_type": "markdown",
   "metadata": {},
   "source": [
    "A popular technique for fitting parameters to data is express the parameters as weights in a linear relationship between the data features, at which point Least-Squares-Fitting gives you a direct expression for the best-fit parameters.\n",
    "\n",
    "Unfortunately, the above formula does not exhibit a linear relationship between $d_f$, $\\phi$ and $t$, so we will need to rework it a little to get to a linear model.\n",
    "\n",
    "First, our model can be rewritten to:\n",
    "\n",
    "$$ \\cos(\\pi (1 - d_f)) = \\sin(\\alpha) \\tan(\\phi) \\cos(2 \\pi \\frac{t - t_S}{T_Y}) $$\n",
    "\n",
    "Here $\\sin(\\alpha)$ acts as a linear weight, so we've made progress. Unfortunately, the dependence on $t_S$ is still not linear. \n",
    "\n",
    "However, recalling the trigonometry identity $\\cos(a-b) = \\cos(a)\\cos(b) + \\sin(a)\\sin(b)$, we can 'separate' $t$ and $t_S$ as follows:\n",
    "\n",
    "$$\\cos(2 \\pi \\frac{t - t_S}{T_Y}) =  \\cos(2 \\pi \\frac{t_S}{T_Y})\\cos(2 \\pi \\frac{t}{T_Y}) + \\sin(2 \\pi \\frac{t_S}{T_Y})\\sin(2 \\pi \\frac{t}{T_Y})$$\n",
    "\n",
    "We can now rewrite our formula as:\n",
    "\n",
    "$$ \\cos(\\pi (1 - d_f)) = \\sin(\\alpha) \\cos(2 \\pi \\frac{t_S}{T_Y}) \\tan(\\phi) \\cos(2 \\pi \\frac{t}{T_Y}) + \\sin(\\alpha) \\sin(2 \\pi \\frac{t_S}{T_Y}) \\tan(\\phi) \\sin(2 \\pi \\frac{t}{T_Y}) $$\n",
    "\n",
    "It may not be immediately obvious, but the right-hand side is a linear combination between parameters and data features, which is what we need. \n",
    "\n",
    "To make it clearer, let's define $A := \\sin(\\alpha) \\cos(2 \\pi \\frac{t_S}{T_Y})$ and $B:= \\sin(\\alpha) \\sin(2 \\pi \\frac{t_S}{T_Y})$, our relationship then becomes:\n",
    "\n",
    "---\n",
    "#### Model 1 as a linear regression: \n",
    "\n",
    "$$ \\cos(\\pi (1 - d_f)) = A \\tan(\\phi) \\cos(2 \\pi \\frac{t}{T_Y}) + B \\tan(\\phi) \\sin(2 \\pi \\frac{t}{T_Y}) $$\n",
    "\n",
    "... in which $d_f$, $t$ and $\\phi$ are observed, and $A$, $B$ are model parameters.\n",
    "\n",
    "---\n",
    "\n",
    "We can now use 2-dimensional **linear least-squares regression** to find the best-fit values of $A$ and $B$, and then work out $\\alpha$ and $t_S$ from these values."
   ]
  },
  {
   "cell_type": "markdown",
   "metadata": {},
   "source": [
    "### Model 1: implementing the regression"
   ]
  },
  {
   "cell_type": "markdown",
   "metadata": {},
   "source": [
    "To run the linear regression, we will use a built-in function of `numpy.linalg`:"
   ]
  },
  {
   "cell_type": "code",
   "execution_count": 56,
   "metadata": {},
   "outputs": [],
   "source": [
    "import numpy.linalg as linalg"
   ]
  },
  {
   "cell_type": "markdown",
   "metadata": {},
   "source": [
    "First, we define a function that does the required _feature engineering_ to run linear regression, i.e compute the required basis functions and target values from the training data and put them into a matrix:"
   ]
  },
  {
   "cell_type": "code",
   "execution_count": 57,
   "metadata": {},
   "outputs": [],
   "source": [
    "def model1_design_matrix(raw_data):\n",
    "    \"\"\"\n",
    "    Processes the raw data into a matrix suitable for inferring model parameters via a linear regression.\n",
    "    The first 2 columns are basis functions, the last one is the target.\n",
    "    \"\"\"\n",
    "    rows = []\n",
    "    for m in raw_data:\n",
    "        lat, lng = m['pos']\n",
    "        dl_s = parse_daylight_s(m['daylight'])\n",
    "        year_f = parse_year_fraction(m['date'], lng)\n",
    "        psi = year_f * (2 * np.pi)\n",
    "        tan_phi = np.tan(lat * np.pi / 180)\n",
    "        night_fraction = (1 - dl_s / day_duration_s)\n",
    "        target = np.cos(np.pi * night_fraction)\n",
    "        rows.append([\n",
    "          (tan_phi * np.cos(psi)),\n",
    "          (tan_phi * np.sin(psi)),\n",
    "          target\n",
    "          ])\n",
    "    return np.array(rows)"
   ]
  },
  {
   "cell_type": "markdown",
   "metadata": {},
   "source": [
    "We then write a function that runs the linear regression, then returns the inferred values of $\\alpha$ and $\\frac{t_S}{T_Y}$:"
   ]
  },
  {
   "cell_type": "code",
   "execution_count": 58,
   "metadata": {},
   "outputs": [],
   "source": [
    "def model1_fit_alpha_and_sf(raw_data):\n",
    "    mat = model1_design_matrix(raw_data)\n",
    "    N = len(raw_data)\n",
    "    best_fit = linalg.lstsq(mat[:,0:-1], mat[:,-1], rcond=None)\n",
    "    A,B = best_fit[0]\n",
    "    alpha = np.arcsin((A**2 + B**2)**0.5)\n",
    "    solstice_fraction = np.arccos(A / np.sin(alpha)) / (2 * np.pi)\n",
    "    rmse = np.sqrt(best_fit[1][0] / N)\n",
    "    return (alpha, solstice_fraction, rmse, best_fit)\n"
   ]
  },
  {
   "cell_type": "markdown",
   "metadata": {},
   "source": [
    "### Model 1: results"
   ]
  },
  {
   "cell_type": "markdown",
   "metadata": {},
   "source": [
    "Let's run this algorithm on our training data:"
   ]
  },
  {
   "cell_type": "code",
   "execution_count": 59,
   "metadata": {},
   "outputs": [],
   "source": [
    "m1_alpha, m1_sf, _, m1_lsqfit = model1_fit_alpha_and_sf(raw_training_data)"
   ]
  },
  {
   "cell_type": "markdown",
   "metadata": {},
   "source": [
    "... then print the **inferred parameters** in English:"
   ]
  },
  {
   "cell_type": "code",
   "execution_count": 60,
   "metadata": {},
   "outputs": [
    {
     "name": "stdout",
     "output_type": "stream",
     "text": [
      "Inferred Earth tilt (alpha) and solstice date with linear regression: 25.55°, Sat Jun 22 06:06:50 2019\n"
     ]
    }
   ],
   "source": [
    "def year_fraction_to_date(sf):\n",
    "    return datetime.datetime.fromtimestamp(datetime.datetime(2019,1,1).timestamp() + sf * year_duration_s)\n",
    "\n",
    "print('Inferred Earth tilt (alpha) and solstice date with linear regression: {:.2f}°, {}'.format(m1_alpha * 180 / np.pi, year_fraction_to_date(m1_sf).ctime())) ## 25.022396735018944°"
   ]
  },
  {
   "cell_type": "markdown",
   "metadata": {},
   "source": [
    "That's not too bad! The actual values are something like 23.44° and June 21, so our model seems to be a reasonable approximation.\n",
    "\n",
    "What's the **prediction error**?"
   ]
  },
  {
   "cell_type": "code",
   "execution_count": 61,
   "metadata": {},
   "outputs": [
    {
     "name": "stdout",
     "output_type": "stream",
     "text": [
      "On test data, Model 1 achieves a Root Mean Squared prediction error of 11.1 minutes.\n"
     ]
    }
   ],
   "source": [
    "def model1_daylight_predictions(raw_data, alpha, solstice_fraction):\n",
    "    mat = model1_design_matrix(raw_data)\n",
    "    sf2pi = 2 * np.pi * solstice_fraction\n",
    "    p_cos_pi_nf = np.sin(alpha) * (np.cos(sf2pi ) * mat[:,0] + np.sin(sf2pi) * mat[:,1])\n",
    "    return day_duration_s * (1 - np.arccos(p_cos_pi_nf) / np.pi)\n",
    "\n",
    "print(\"On test data, Model 1 achieves a Root Mean Squared prediction error of {:.1f} minutes.\".format(rms_test_error(model1_daylight_predictions(raw_test_data, m1_alpha, m1_sf), daylight_durations(raw_test_data))  / 60))"
   ]
  },
  {
   "cell_type": "markdown",
   "metadata": {},
   "source": [
    "11 minutes of error, out of day lenghts on the order of 12 hours (720 minutes). It's not *that* bad."
   ]
  },
  {
   "cell_type": "markdown",
   "metadata": {},
   "source": [
    "To make things a bit more visual, let's plot the RMS error in the parameters landscape:"
   ]
  },
  {
   "cell_type": "code",
   "execution_count": 105,
   "metadata": {},
   "outputs": [
    {
     "data": {
      "image/png": "[encoded data removed]",
      "text/plain": [
       "<Figure size 432x288 with 2 Axes>"
      ]
     },
     "metadata": {
      "needs_background": "light"
     },
     "output_type": "display_data"
    }
   ],
   "source": [
    "def plot_model1_rms(raw_data, fit_alpha, fit_soltice_yf):\n",
    "    sin_alphas = np.linspace(0.3, 0.6, 5e2) ## sin alphas\n",
    "    soltice_yearfs = np.linspace(0.3, 0.6, 5e2) ## solstice year_f\n",
    "\n",
    "    C = np.zeros((np.shape(soltice_yearfs)[0], np.shape(sin_alphas)[0]))\n",
    "    for m in raw_data:\n",
    "        lat, lng = m['pos']\n",
    "        dl_s = parse_daylight_s(m['daylight'])\n",
    "        year_f = parse_year_fraction(m['date'], lng)\n",
    "        tan_phi = np.tan(lat * np.pi / 180)\n",
    "        night_fraction = (1 - dl_s / day_duration_s)\n",
    "        target = np.cos(np.pi * night_fraction)\n",
    "        Rn = (target -  tan_phi * np.matmul(np.transpose(np.mat(np.cos(2 * np.pi * (year_f - soltice_yearfs)))), np.mat(sin_alphas)))\n",
    "        C += np.square(Rn)\n",
    "    C = (C / N) ** 0.5\n",
    "\n",
    "    fig, (ax0) = plt.subplots(nrows=1)\n",
    "    im = ax0.contourf(sin_alphas, soltice_yearfs, C, 50)\n",
    "    fig.colorbar(im, ax=ax0)\n",
    "    ax0.set_title('Model1 RMSE depending on model params')\n",
    "    ax0.scatter(np.array([np.sin(fit_alpha)]), np.array([fit_soltice_yf]), marker='+', color='r', label=\"Best fit\")\n",
    "    ax0.scatter(np.array([np.sin(real_tilt)]), np.array([june21_yf]), marker='+', color='w', label=\"True params\")\n",
    "    ax0.yaxis.set_label_text('$t_S$ / $T_Y$')\n",
    "    ax0.xaxis.set_label_text('sin(alpha)')\n",
    "    ax0.legend()\n",
    "    plt.show()\n",
    "\n",
    "plot_model1_rms(raw_training_data, m1_alpha, m1_sf)  "
   ]
  },
  {
   "cell_type": "markdown",
   "metadata": {},
   "source": [
    "## Model 1 bis - $\\alpha$ as the only parameter"
   ]
  },
  {
   "cell_type": "markdown",
   "metadata": {},
   "source": [
    "In this part, we treat the solstice time $t_S$ as a known constant, and infer only the Earth's tilt $\\alpha$. \n",
    "\n",
    "This turns the problem into a 1-dimensional linear regression, which is easier to visualize."
   ]
  },
  {
   "cell_type": "code",
   "execution_count": 63,
   "metadata": {},
   "outputs": [
    {
     "name": "stdout",
     "output_type": "stream",
     "text": [
      "Inferred alpha with northern summer solstice at the correct date: 25.51\n"
     ]
    }
   ],
   "source": [
    "psi_sf = 2 * np.pi * june21_yf\n",
    "\n",
    "def fit_alpha_at_solstice(raw_data):\n",
    "    mat = model1_design_matrix(raw_data)\n",
    "    features = np.cos(psi_sf) * mat[:,0:1] + np.sin(psi_sf) * mat[:,1:2]\n",
    "    best_fit = linalg.lstsq(features, mat[:,-1], rcond=None)\n",
    "    sin_alpha = best_fit[0][0]\n",
    "    alpha = np.arcsin(sin_alpha)\n",
    "    rmse = np.sqrt(best_fit[1][0] / N)\n",
    "    return (alpha, rmse, best_fit)\n",
    "\n",
    "m1_alpha_2, _rmse, _ = fit_alpha_at_solstice(raw_training_data)\n",
    "\n",
    "print('Inferred alpha with northern summer solstice at the correct date: {:.2f}'.format(m1_alpha_2 * 180 / np.pi)) ## 25.022396735018944°"
   ]
  },
  {
   "cell_type": "markdown",
   "metadata": {},
   "source": [
    "Not much difference, as we see. But because we now only have one basis function, we can more easily plot visually the data and fitted curves:"
   ]
  },
  {
   "cell_type": "code",
   "execution_count": 64,
   "metadata": {
    "scrolled": true
   },
   "outputs": [
    {
     "data": {
      "image/png": "[encoded data removed]",
      "text/plain": [
       "<Figure size 432x288 with 1 Axes>"
      ]
     },
     "metadata": {
      "needs_background": "light"
     },
     "output_type": "display_data"
    }
   ],
   "source": [
    "real_tilt = 23.44 * np.pi / 180\n",
    "\n",
    "def plot_model1_bis_fit(raw_data, fit_alpha):\n",
    "    mat = model1_design_matrix(raw_data)\n",
    "    x_range = np.linspace(-1.5, 1.5, 100)\n",
    "    plt.plot(\n",
    "        np.cos(psi_sf) * mat[:,0] + np.sin(psi_sf) * mat[:,1],\n",
    "        mat[:,2],\n",
    "        'r+',\n",
    "        label=\"Training data\")\n",
    "    plt.plot(\n",
    "        x_range,\n",
    "        np.sin(fit_alpha) * x_range,\n",
    "        'b',\n",
    "        label=\"Best-fit prediction ({:.2f}°)\".format(fit_alpha * 180 / np.pi))\n",
    "    plt.plot(\n",
    "        x_range,\n",
    "        np.sin(real_tilt) * x_range,\n",
    "        'g--',\n",
    "        label=\"True tilt prediction ({:.2f}°)\".format(real_tilt * 180 / np.pi))\n",
    "    ax = plt.gca()\n",
    "    ax.set_title('Model 1 bis linear fit')\n",
    "    ax.set_ylabel('$cos(pi * (1 - d_f))$')\n",
    "    ax.set_xlabel('$tan(phi) * cos(2* pi * (t - t_S) / T_Y)$')\n",
    "    plt.legend()\n",
    "    plt.show()\n",
    "\n",
    "plot_model1_bis_fit(raw_training_data, m1_alpha_2)"
   ]
  },
  {
   "cell_type": "markdown",
   "metadata": {},
   "source": [
    "I find this visualization reassuring - our linear model, although idealized, is visually rather credible."
   ]
  },
  {
   "cell_type": "markdown",
   "metadata": {},
   "source": [
    "## Model 2: accounting for an excess angle $\\epsilon$"
   ]
  },
  {
   "cell_type": "markdown",
   "metadata": {},
   "source": [
    "### Refined physical model"
   ]
  },
  {
   "cell_type": "markdown",
   "metadata": {},
   "source": [
    "<img src=\"./img/earth-tilt-sketch.jpg\" />"
   ]
  },
  {
   "cell_type": "markdown",
   "metadata": {},
   "source": [
    "Let's try refining our model. We'll start from the assumption that *some phenomenon* is causing our previous Model 1 to be slightly inaccurate - it could be the fact that the Sun is not punctual, or maybe atmospheric refraction... Whatever that *some phenomenon* is, we'll assume it respects a symmetry around the Earth-Sun axis.\n",
    "\n",
    "This means that the sunlight covers a little more than half a sphere: **it 'overflows' by a small angle $\\epsilon$.** Because the Earth orbit is close to circular, we'll assume that this angle is constant over time.\n",
    "\n",
    "In addition to the Earth tilt $\\alpha$, we'll now try to infer $\\epsilon$ from the data.\n",
    "\n",
    "The geometric derivation is a bit more involved here, but eventually I reached the following formula:\n",
    "\n",
    "$$ \\cos(\\pi (1 - d_f)) = \\sin(\\epsilon) \\frac{1}{\\cos(\\phi)\\cos(\\theta(t))} + \\sin(\\theta(t))\\tan(\\phi) $$\n",
    "\n",
    "Here we introduce some **new notation:**\n",
    "\n",
    "* $\\theta(t)$ is the angle between the Earth Equatorial Plane and the Earth-Sun axis. This angle is 0 at equinoxes, and $\\pm \\alpha$ at solstices.\n",
    "* We define a shorthand $\\psi(t) := \\frac{2 \\pi (t - t_S)}{T_Y}$\n",
    "* It can be shown that $\\sin(\\theta(t)) = \\sin(\\alpha)\\cos(\\psi(t))$\n",
    "\n",
    "Recalling that $cos(a) = \\pm \\sqrt{1 - \\sin(a)^2}$, the above formula expands into:\n",
    "\n",
    "$$ \\cos(\\pi (1 - d_f)) = \\frac{\\sin(\\epsilon)}{\\cos(\\phi)\\sqrt{1 - \\sin(\\alpha)^2 \\cos(\\psi)^2}} + \\sin(\\alpha) \\cos(\\psi)\\tan(\\phi) $$\n",
    "\n",
    "Compared to Model 1, we have added a new term involving $\\epsilon$.\n",
    "\n",
    "Remember, our goal is to infer $\\alpha$ and $\\epsilon$; we'll do that by inferring $u := \\sin(\\alpha)$ and $v := \\sin(\\epsilon)$. This yields the following **non-linear model in parameters $u$ and $v$:**\n",
    "\n",
    "---\n",
    "#### Formula for Model 2:\n",
    "\n",
    "$$ \\cos(\\pi (1 - d_f)) = \\frac{v}{\\cos(\\phi)\\sqrt{1 - u^2 \\cos(\\psi)^2}} + u\\cos(\\psi)\\tan(\\phi) $$\n",
    "\n",
    "... in which $d_f$, $\\psi$, and $\\phi$ are observed, and $u$, $v$ are model parameters.\n",
    "\n",
    "---\n",
    "\n",
    "This is not a linear model, so we won't be able to directly apply least-squares linear regression as we did for Model 1. But it doesn't mean that we can't apply least-squares regression at all: it only means that the resulting optimization problem is more difficult to solve."
   ]
  },
  {
   "cell_type": "markdown",
   "metadata": {},
   "source": [
    "### Implementing the regression by numerical optimization"
   ]
  },
  {
   "cell_type": "markdown",
   "metadata": {},
   "source": [
    "We'll solve the optimization problem of least-squares fitting $u$ and $v$ to the data using a numerical algorithm."
   ]
  },
  {
   "cell_type": "code",
   "execution_count": 65,
   "metadata": {},
   "outputs": [],
   "source": [
    "import scipy.optimize as opt"
   ]
  },
  {
   "cell_type": "markdown",
   "metadata": {},
   "source": [
    "Now, the $(u, v)$ parameter space that this algorithm has to explore is really quite small - a bounded box of 2 dimensions. So we could just use a 'brute-force' algorithm to find the best fit.\n",
    "\n",
    "However I find it much more exiting to use an algorithm that makes use of differential information such as the gradient and hessian, and it gives me an occasion to show off some symbolic computing as well. What's more, having the Hessian will prove useful in the next section, when we use the Laplace Approximation for Bayesian inference.\n",
    "\n",
    "Indeed, I could compute the gradient and Hessian by hand from the above formula, but I'm really terrible at this sort of calculation, so I'll let the machine do it for me:"
   ]
  },
  {
   "cell_type": "code",
   "execution_count": 66,
   "metadata": {},
   "outputs": [],
   "source": [
    "import sympy as sy\n",
    "from sympy.utilities.lambdify import lambdify"
   ]
  },
  {
   "cell_type": "markdown",
   "metadata": {},
   "source": [
    "First, let's define some Sympy expressions for computing our error, in terms of our data and parameters:"
   ]
  },
  {
   "cell_type": "code",
   "execution_count": 67,
   "metadata": {},
   "outputs": [],
   "source": [
    "t_n, phi_n, psi_n = sy.symbols('t_n phi_n psi_n') ## data\n",
    "u, v = sy.symbols('u v') ## params\n",
    "\n",
    "p_n = (v / ((sy.cos(phi_n) * sy.sqrt(1 - (sy.cos(psi_n) * u)**2)))) + (u * sy.tan(phi_n) * sy.cos(psi_n)) ## the prediction\n",
    "g_n = t_n - p_n ## residual\n",
    "e_n = (g_n ** 2) / 2 ## squared error"
   ]
  },
  {
   "cell_type": "markdown",
   "metadata": {},
   "source": [
    "Here is our squared error term for one data point:"
   ]
  },
  {
   "cell_type": "code",
   "execution_count": 68,
   "metadata": {
    "scrolled": false
   },
   "outputs": [
    {
     "data": {
      "text/latex": [
       "$\\displaystyle \\frac{\\left(t_{n} - u \\cos{\\left(\\psi_{n} \\right)} \\tan{\\left(\\phi_{n} \\right)} - \\frac{v}{\\sqrt{- u^{2} \\cos^{2}{\\left(\\psi_{n} \\right)} + 1} \\cos{\\left(\\phi_{n} \\right)}}\\right)^{2}}{2}$"
      ],
      "text/plain": [
       "(t_n - u*cos(psi_n)*tan(phi_n) - v/(sqrt(-u**2*cos(psi_n)**2 + 1)*cos(phi_n)))**2/2"
      ]
     },
     "execution_count": 68,
     "metadata": {},
     "output_type": "execute_result"
    }
   ],
   "source": [
    "e_n"
   ]
  },
  {
   "cell_type": "markdown",
   "metadata": {},
   "source": [
    "Here $t_n$ denotes the 'target' value of the regression, i.e $t_n := \\cos(\\pi (1 - d_f))$."
   ]
  },
  {
   "cell_type": "markdown",
   "metadata": {},
   "source": [
    "What amount of work can SymPy save us? As an example, let's compute one of the second derivatives that our algorithm will use:"
   ]
  },
  {
   "cell_type": "code",
   "execution_count": 69,
   "metadata": {
    "scrolled": true
   },
   "outputs": [
    {
     "data": {
      "text/latex": [
       "$\\displaystyle \\frac{\\left(\\frac{u v \\cos{\\left(\\psi_{n} \\right)}}{\\left(- u^{2} \\cos^{2}{\\left(\\psi_{n} \\right)} + 1\\right)^{\\frac{3}{2}} \\cos{\\left(\\phi_{n} \\right)}} + \\frac{u \\left(- t_{n} + u \\cos{\\left(\\psi_{n} \\right)} \\tan{\\left(\\phi_{n} \\right)} + \\frac{v}{\\sqrt{- u^{2} \\cos^{2}{\\left(\\psi_{n} \\right)} + 1} \\cos{\\left(\\phi_{n} \\right)}}\\right) \\cos{\\left(\\psi_{n} \\right)}}{- u^{2} \\cos^{2}{\\left(\\psi_{n} \\right)} + 1} + \\tan{\\left(\\phi_{n} \\right)}\\right) \\cos{\\left(\\psi_{n} \\right)}}{\\sqrt{- u^{2} \\cos^{2}{\\left(\\psi_{n} \\right)} + 1} \\cos{\\left(\\phi_{n} \\right)}}$"
      ],
      "text/plain": [
       "(u*v*cos(psi_n)/((-u**2*cos(psi_n)**2 + 1)**(3/2)*cos(phi_n)) + u*(-t_n + u*cos(psi_n)*tan(phi_n) + v/(sqrt(-u**2*cos(psi_n)**2 + 1)*cos(phi_n)))*cos(psi_n)/(-u**2*cos(psi_n)**2 + 1) + tan(phi_n))*cos(psi_n)/(sqrt(-u**2*cos(psi_n)**2 + 1)*cos(phi_n))"
      ]
     },
     "execution_count": 69,
     "metadata": {},
     "output_type": "execute_result"
    }
   ],
   "source": [
    "sy.diff(e_n, u, v)"
   ]
  },
  {
   "cell_type": "markdown",
   "metadata": {},
   "source": [
    "Ugh, alright, I'm happy not to have done it by hand."
   ]
  },
  {
   "cell_type": "markdown",
   "metadata": {},
   "source": [
    "Now let's implement our regression algorithm. As before, we start with a feature engineering function:"
   ]
  },
  {
   "cell_type": "code",
   "execution_count": 70,
   "metadata": {},
   "outputs": [],
   "source": [
    "def model2_feature_matrix(raw_data):\n",
    "    rows = []\n",
    "    for m in raw_data:\n",
    "        lat, lng = m['pos']\n",
    "        dl_s = parse_daylight_s(m['daylight'])\n",
    "        year_f = parse_year_fraction(m['date'], lng)\n",
    "        psi = (year_f - june21_yf) * (2 * np.pi)\n",
    "        phi = lat * np.pi / 180\n",
    "        night_fraction = (1 - dl_s / day_duration_s)\n",
    "        t = np.cos(np.pi * night_fraction)\n",
    "        rows.append([\n",
    "          phi,\n",
    "          psi,\n",
    "          t\n",
    "          ])\n",
    "    return np.array(rows)"
   ]
  },
  {
   "cell_type": "markdown",
   "metadata": {},
   "source": [
    "Now, we'll use `scipy.optimize` to minimize the sum of squared errors, while leaving the heavy lifting of evaluating the error and its derivatives to `sympy`. Because this is a small-dimensional problem and we have exact derivative information, we'll use the `trust-exact` method:"
   ]
  },
  {
   "cell_type": "code",
   "execution_count": 71,
   "metadata": {},
   "outputs": [],
   "source": [
    "def model2_fit_params(raw_data):\n",
    "    feat_mat = model2_feature_matrix(raw_data)\n",
    "\n",
    "    t = feat_mat[:,2]\n",
    "    phi = feat_mat[:,0]\n",
    "    psi = feat_mat[:,1]\n",
    "    \n",
    "    lam_en = lambdify([t_n, phi_n, psi_n, u, v], e_n)\n",
    "    def squared_error(u_v):\n",
    "        u, v = u_v\n",
    "        return np.average(lam_en(t, phi, psi, u, v))\n",
    "\n",
    "    jac_lambdas = [lambdify([t_n, phi_n, psi_n, u, v], sy.diff(e_n, var1)) for var1 in [u, v]]\n",
    "    def squared_err_jac(u_v):\n",
    "        u, v = u_v\n",
    "        return np.array([np.average(l(t, phi, psi, u, v)) for l in jac_lambdas])\n",
    "\n",
    "    hess_lambdas = [[lambdify([t_n, phi_n, psi_n, u, v], sy.diff(e_n, var1, var2)) for var2 in [u, v]] for var1 in [u, v]]    \n",
    "    def squared_err_hess(u_v):\n",
    "        u, v = u_v\n",
    "        return np.array([[np.average(l(t, phi, psi, u, v)) for l in row] for row in hess_lambdas])\n",
    "\n",
    "    def squared_err_hessp(u_v, p):\n",
    "        hess = np.matrix(squared_err_hess(u_v))\n",
    "        return np.matmul(hess, p)\n",
    "\n",
    "    opt_res = opt.minimize(\n",
    "        squared_error, (0.01, 0.01), \n",
    "        bounds = ((0, 1), (0, 1)),\n",
    "        method='trust-exact', \n",
    "        jac=squared_err_jac, \n",
    "        hess=squared_err_hess\n",
    "        )\n",
    "    \n",
    "    return opt_res"
   ]
  },
  {
   "cell_type": "markdown",
   "metadata": {},
   "source": [
    "### Model 2: results"
   ]
  },
  {
   "cell_type": "markdown",
   "metadata": {},
   "source": [
    "Let's run the above algorithm on our training data, to see the **inferred parameters**:"
   ]
  },
  {
   "cell_type": "code",
   "execution_count": 72,
   "metadata": {},
   "outputs": [
    {
     "name": "stdout",
     "output_type": "stream",
     "text": [
      "Model 2 best-fit params are alpha = 25.38° and epsilon = 0.84°\n"
     ]
    }
   ],
   "source": [
    "model2_optres = model2_fit_params(raw_training_data)\n",
    "u_opt, v_opt = model2_optres.x\n",
    "print(\"Model 2 best-fit params are alpha = {:.2f}° and epsilon = {:.2f}°\".format(np.arcsin(u_opt) * 180 / np.pi, np.arcsin(v_opt) * 180 / np.pi))\n",
    "model2_rmse = np.sqrt(model2_optres.fun * 2)"
   ]
  },
  {
   "cell_type": "markdown",
   "metadata": {},
   "source": [
    "Bad news: we don't get a much better fit for $\\alpha$. But we do get a non-zero value for $\\epsilon$, so it might still be that our refined model is an improvement. What **test error** do we get now?"
   ]
  },
  {
   "cell_type": "code",
   "execution_count": 73,
   "metadata": {},
   "outputs": [
    {
     "name": "stdout",
     "output_type": "stream",
     "text": [
      "On test data, Model 2 achieves a Root Mean Squared prediction error of 3.9 minutes.\n"
     ]
    }
   ],
   "source": [
    "def model2_daylight_predictions(raw_data, u_opt, v_opt):\n",
    "    feat_mat = model2_feature_matrix(raw_data)\n",
    "    lam_pn = lambdify([phi_n, psi_n, u, v], p_n)\n",
    "    phi = feat_mat[:,0]\n",
    "    psi = feat_mat[:,1]\n",
    "    p_cos_pi_nf = lam_pn(phi, psi, u_opt, v_opt)\n",
    "    return day_duration_s * (1 - np.arccos(p_cos_pi_nf) / np.pi)\n",
    "\n",
    "print(\"On test data, Model 2 achieves a Root Mean Squared prediction error of {:.1f} minutes.\".format(rms_test_error(model2_daylight_predictions(raw_test_data, u_opt, v_opt), daylight_durations(raw_test_data))  / 60))\n"
   ]
  },
  {
   "cell_type": "markdown",
   "metadata": {},
   "source": [
    "Cool, we got our error down from 11 minutes to about 4 minutes!"
   ]
  },
  {
   "cell_type": "markdown",
   "metadata": {},
   "source": [
    "Are we sure we found the best-fit values for our parameters? As before, let's plot our optimization landscape:"
   ]
  },
  {
   "cell_type": "code",
   "execution_count": 74,
   "metadata": {
    "scrolled": false
   },
   "outputs": [
    {
     "data": {
      "image/png": "[encoded data removed]",
      "text/plain": [
       "<Figure size 432x288 with 2 Axes>"
      ]
     },
     "metadata": {
      "needs_background": "light"
     },
     "output_type": "display_data"
    }
   ],
   "source": [
    "def plot_model2_rms(raw_data, model2_optres):\n",
    "    u_opt, v_opt = model2_optres.x\n",
    "    \n",
    "    us = np.linspace(0.2, 0.6, 1e2)\n",
    "    vs = np.linspace(0.0, 0.4, 1e2)\n",
    "\n",
    "    C2 = np.zeros((np.shape(vs)[0], np.shape(us)[0]))\n",
    "    for m in raw_data:\n",
    "        lat, lng = m['pos']\n",
    "        dl_s = parse_daylight_s(m['daylight'])\n",
    "        year_f = parse_year_fraction(m['date'], lng)\n",
    "        psi = 2 * np.pi * (year_f - june21_yf)\n",
    "        phi = lat * np.pi / 180\n",
    "        night_fraction = (1 - dl_s / day_duration_s)\n",
    "        t = np.cos(np.pi * night_fraction)\n",
    "        Rn = np.square(t - np.matmul(np.mat(vs).transpose(), np.mat((1 - (np.cos(psi) * us) ** 2) ** (-0.5) / np.cos(phi))) - np.tan(phi) * np.cos(psi) * np.matmul(np.mat(np.ones(len(vs))).transpose(), np.mat(us)))\n",
    "        C2 += Rn\n",
    "    C2 = (C2 / N) ** 0.5\n",
    "\n",
    "    fig, (ax0) = plt.subplots(nrows=1)\n",
    "    im = ax0.contourf(us, vs, C2, 50)\n",
    "    fig.colorbar(im, ax=ax0)\n",
    "    ax0.set_title('Model 2 RMSE')\n",
    "    ax0.xaxis.set_label_text('u (a.k.a sin(alpha))')\n",
    "    ax0.yaxis.set_label_text('v (a.k.a sin(eps))')\n",
    "    ax0.plot([u_opt], [v_opt], marker='+', color='r', label=\"Best fit\")\n",
    "    ax0.plot(np.full(len(vs), np.sin(real_tilt)), vs, color='w', linestyle='--', label=\"True alpha\")\n",
    "    ax0.legend()\n",
    "    plt.show()\n",
    "    \n",
    "plot_model2_rms(raw_training_data, model2_optres)"
   ]
  },
  {
   "cell_type": "markdown",
   "metadata": {},
   "source": [
    "This looks like a nicely convex problem, well approximated by a quadratic function, so its no surprise that a Hessian-based algorithm quickly converged to the best solution:"
   ]
  },
  {
   "cell_type": "code",
   "execution_count": 75,
   "metadata": {},
   "outputs": [
    {
     "data": {
      "text/plain": [
       "     fun: 0.0001239977572583541\n",
       "    hess: array([[0.29566738, 0.04806548],\n",
       "       [0.04806548, 1.70032203]])\n",
       "     jac: array([3.64946893e-07, 1.66596319e-07])\n",
       " message: 'Optimization terminated successfully.'\n",
       "    nfev: 3\n",
       "    nhev: 3\n",
       "     nit: 2\n",
       "    njev: 3\n",
       "  status: 0\n",
       " success: True\n",
       "       x: array([0.42866841, 0.01458687])"
      ]
     },
     "execution_count": 75,
     "metadata": {},
     "output_type": "execute_result"
    }
   ],
   "source": [
    "model2_optres"
   ]
  },
  {
   "cell_type": "markdown",
   "metadata": {},
   "source": [
    "The above object is a `scipy.optimize` optimization result. We see that the optimization converged in only 2 iterations. Also notice that we get the best-fit point (`x`), value (`fun`) and hessian (`hess`) - these will be useful in the next section!"
   ]
  },
  {
   "cell_type": "markdown",
   "metadata": {},
   "source": [
    "## Bayesian analysis"
   ]
  },
  {
   "cell_type": "markdown",
   "metadata": {},
   "source": [
    "The above analysis leaves some questions open. Model 2 fits the data better, but Model 1 is simpler, so it's not clear which one we should prefer. What's more, we have found best-fit parameters for both models, but we don't know what kind of _confidence_ the models have around these inferred values - in particular, could the difference between 23.44° and 25.5° be explained by the fact that inference made by the model is a 'fuzzy' one?\n",
    "\n",
    "I'll approach these questions using Bayesian methods. This means that I will use a probability distribution to quantify my (our) 'belief' regarding what values our model parameters might take, and then use the observed data to update this belief based on new information, which will result in focusing this probability distribution.\n",
    "\n",
    "Professional data scientists would typically use specific software package for this, but for our small-scale problem Scipy will suffice, and I find it interesting to see how Scipy might be used for Bayesian analysis."
   ]
  },
  {
   "cell_type": "markdown",
   "metadata": {},
   "source": [
    "### A review of Bayesian methods"
   ]
  },
  {
   "cell_type": "markdown",
   "metadata": {},
   "source": [
    "Say we have a model $M_i$ for our data. This model has parameters $\\Theta$, and our goal is to infer $\\Theta$ from observed data $D$.\n",
    "\n",
    "We start by choosing a _prior distribution_ $P(\\Theta | M_i)$ that we can all agree on for our parameters: this is a probability distribution which describes quantitatively what values $\\Theta$ might reasonably take. $P(\\Theta | M_i)$ will typically be rather broad, because we want to be open-minded about the possible values of our parameters.\n",
    "\n",
    "We also choose a probability distribution $P(D | \\Theta, M_i)$ for the observed data $D$ given the parameters $\\Theta$. In the case of curve-fitting (which is what we're doing here), the observed data $D$ will typically consist of observations $(t_n, x_n)$, describe probabilistically as $t_n = f_{\\Theta}(x_n) + \\nu_n$, where the $\\nu_n$ are independent 'noise' random variables which distribution depends on $\\Theta$ (a common choice is to choose 0-mean gaussian distributions for the $\\nu_n$).\n",
    "\n",
    "Having done that, we infer our _posterior belief_ in the parameters using Bayes' Theorem:\n",
    "\n",
    "$$P(\\Theta | D, M_i) = \\frac{1}{P(D | M_i)} P(D | \\Theta, M_i) P(\\Theta | M_i)$$\n",
    "\n",
    "In the above formula, the only factor we can't compute directly is $P(D | M_i)$, a.k.a the _model evidence_. But note that it does not depend on $\\Theta$, so that $\\frac{1}{P(D | M_i)}$ can be treated as a normalization constant. What's more, since $P(\\Theta | D, M_i)$ is a probability density for $\\Theta$ (thus summing to $1$):\n",
    "\n",
    "$$ P(D | M_i) = \\int{P(D | \\Theta, M_i) P(\\Theta | M_i) d\\Theta} $$"
   ]
  },
  {
   "cell_type": "markdown",
   "metadata": {},
   "source": [
    "### Bayesian analysis of Model 1"
   ]
  },
  {
   "cell_type": "markdown",
   "metadata": {},
   "source": [
    "In the case of Model 1, we define $\\Theta := (u, \\sigma)$ where $u = \\sin(\\alpha)$ and $\\sigma$ is the standard deviation for the noise around observations.\n",
    "\n",
    "We choose $P(D | \\Theta, M_1)$ by saying that:\n",
    "\n",
    "$$t_n = f_{\\Theta}(\\phi_n, \\psi_n) + \\nu_n$$ \n",
    "\n",
    "...where:\n",
    "\n",
    "* $t_n := \\cos(\\pi (1 - d_f))$ is the 'target' variable of the regression.\n",
    "* $\\phi_n$ is the latitude, $\\psi_n$ is the angle representing the time of the year ($\\psi := 2 \\pi \\frac{t - t_S}{T_Y}$)\n",
    "* $f_{\\Theta}(\\phi_n, \\psi_n) := u \\tan(\\phi_n) \\cos(\\psi_n)$\n",
    "* $\\nu_n$ is the element of randomness: a 'noise' random variable with a 0-mean gaussian distribution, i.e:\n",
    "\n",
    "$$P(\\nu_n | \\Theta, M_1) = \\frac{1}{\\sqrt{2 \\pi} \\sigma} e^{-\\frac{\\nu_n^2}{2 \\sigma^2}}$$\n",
    "\n",
    "The above may seem arbitrary, but we have only reformulated our previous least-squares regression problem in probabilistic terms, so we are not really departing from Model 1. (More precisely, what we did in the least-squares regression corresponded to finding a _maximum likelihood_ estimate for $u$ in the above formula; our Bayesian analysis will yield a more nuanced answer as to what $u$ might be, as it will be a posterior probability distribution rather than a single point estimate).\n",
    "\n",
    "Finally, we have to choose a prior $P(\\Theta| M_1)$. I'll make the following assumptions, hopefully you won't find them too arbitrary:\n",
    "\n",
    "1. Given that $u = sin(\\alpha)$, I'll assume that **$u$ has a uniform distribution in $[0, 1]$.**\n",
    "2. I have no precise idea of what the order of magnitude of $\\sigma$ might be. Since $t_n$ ranges in $[0,1]$, I'll assume $\\sigma$ can be no higher than $1$. Since my daylight lengths are measured with the precision of 1 minute, I expect at least that level of noise on $d_f$. To be open-minded about this, I'll assume $\\sigma$ can't go below $10^{-4}$. Putting all these arguments together, I'll assume that **$\\log_{10}(\\sigma)$ has a uniform distribution in $[-4, 0]$.**"
   ]
  },
  {
   "cell_type": "markdown",
   "metadata": {},
   "source": [
    "#### SymPy representation"
   ]
  },
  {
   "cell_type": "markdown",
   "metadata": {},
   "source": [
    "To help with our future computations, let's program these modeled probabilities using SymPy. Because probabilities tend to multiply, and additions are easier to handle than multiplications, we'll work with log-probabilities rather than direct probabilities.\n",
    "\n",
    "Let's start by describing our prior distribution by defining $\\ln(P(\\Theta =(u, \\sigma) | M_1))$:"
   ]
  },
  {
   "cell_type": "code",
   "execution_count": 84,
   "metadata": {},
   "outputs": [
    {
     "data": {
      "text/latex": [
       "$\\displaystyle \\log{\\left(\\frac{1}{\\sigma} \\right)} - 2.22032680636785$"
      ],
      "text/plain": [
       "log(1/sigma) - 2.22032680636785"
      ]
     },
     "execution_count": 84,
     "metadata": {},
     "output_type": "execute_result"
    }
   ],
   "source": [
    "sigma = sy.symbols('sigma')\n",
    "\n",
    "u_bounds = (0, 1)\n",
    "sigma_bounds = (1e-4, 1)\n",
    "\n",
    "lp1_theta = np.log(1 / (u_bounds[1] - u_bounds[0])) + sy.ln(1 / sigma) - np.log(np.log(sigma_bounds[1]) - np.log(sigma_bounds[0]))\n",
    "\n",
    "lp1_theta"
   ]
  },
  {
   "cell_type": "markdown",
   "metadata": {},
   "source": [
    "Now we define the probability $\\ln(P(t_n, x_{1n}| \\Theta, M_1))$ of observing a data point (here $x_{1n}$ is a shorhand for $\\tan(\\phi_n) \\cos(\\psi_n)$):"
   ]
  },
  {
   "cell_type": "code",
   "execution_count": 86,
   "metadata": {},
   "outputs": [
    {
     "data": {
      "text/latex": [
       "$\\displaystyle - \\log{\\left(\\sigma \\right)} - 0.918938533204673 - \\frac{\\left(t_{n} - u x_{1n}\\right)^{2}}{2 \\sigma^{2}}$"
      ],
      "text/plain": [
       "-log(sigma) - 0.918938533204673 - (t_n - u*x_1n)**2/(2*sigma**2)"
      ]
     },
     "execution_count": 86,
     "metadata": {},
     "output_type": "execute_result"
    }
   ],
   "source": [
    "x_1 = sy.symbols('x_1n')\n",
    "lp1_n = - sy.ln(sigma) - 0.5 * np.log(2 * np.pi) - (((t_n  - u * x_1) / sigma)**2) / 2\n",
    "lp1_n"
   ]
  },
  {
   "cell_type": "markdown",
   "metadata": {},
   "source": [
    "Now let's start the work of inference."
   ]
  },
  {
   "cell_type": "markdown",
   "metadata": {},
   "source": [
    "#### Inference with the Laplace Approximation"
   ]
  },
  {
   "cell_type": "markdown",
   "metadata": {},
   "source": [
    "As we saw above, exact computation of $P(\\Theta | D, M_1)$ involves integrating the function $P_1^{*}(\\Theta) := P(D | \\Theta, M_i) P(\\Theta | M_i)$. We can easily evaluate $P_1^{*}(\\Theta)$ at a given point $\\Theta$, but **integrals are not easy,** even for computers.\n",
    "\n",
    "So instead of doing that, we'll first use an approximation called the **Laplace Method**. This approximation will turn out to be very accurate here, and will also help us do the exact integration downstream.\n",
    "\n",
    "The Laplace Method consist at approximating $P(\\Theta | D, M_1)$ by a Gaussian. To do that, we need to find a point $\\Theta_{MAP}$ at which $P_1^{*}$ reaches its maximum ('MAP' stands for _Maximum A Posteriori_ ), as well as the Hessian of $P_1^{*}(\\Theta)$ at $\\Theta_{MAP}$, which will correspond to the precision matrix of the Gaussian.\n",
    "\n",
    "Luckily, `scipy.optimize` gives us everything we need for doing that efficiently: we can use `scipy.optimize.minimize()` for finding $\\Theta_{MAP}$ by minimizing $- \\ln (P_1^{*}(\\Theta))$, along with Sympy for differentiating (and in particular computing the Hessian).\n",
    "\n",
    "I wrote a generic helper function [`find_map()`](./utils/scipy_bayes.py#L17) for doing that in a package `utils.scipy_bayes`, which we can now apply to Model 1:"
   ]
  },
  {
   "cell_type": "code",
   "execution_count": 76,
   "metadata": {},
   "outputs": [],
   "source": [
    "import utils.scipy_bayes as scp_bayes"
   ]
  },
  {
   "cell_type": "code",
   "execution_count": 89,
   "metadata": {},
   "outputs": [],
   "source": [
    "def find_model1_map(raw_data):\n",
    "    mat = model1_design_matrix(raw_data)\n",
    "    t = mat[:,-1]\n",
    "    x_1s = np.cos(psi_sf) * mat[:,0] + np.sin(psi_sf) * mat[:,1]\n",
    "    \n",
    "    return scp_bayes.find_map(lp1_theta, lp1_n, [t_n, x_1], [u, sigma], [t, x_1s], [0.0, 0.1], (u_bounds, sigma_bounds))\n",
    "\n",
    "m1_map = find_model1_map(raw_training_data)"
   ]
  },
  {
   "cell_type": "code",
   "execution_count": 78,
   "metadata": {},
   "outputs": [
    {
     "data": {
      "text/plain": [
       "     fun: -458.13513570720363\n",
       "    hess: array([[ 9.75260441e+04, -7.68195605e-08],\n",
       "       [-7.68195605e-08,  6.63866833e+05]])\n",
       "     jac: array([ 9.45078682e-10, -1.52221489e-08])\n",
       " message: 'Optimization terminated successfully.'\n",
       "    nfev: 15\n",
       "    nhev: 15\n",
       "     nit: 14\n",
       "    njev: 11\n",
       "  status: 0\n",
       " success: True\n",
       "       x: array([0.43069156, 0.02460779])"
      ]
     },
     "execution_count": 78,
     "metadata": {},
     "output_type": "execute_result"
    }
   ],
   "source": [
    "m1_map"
   ]
  },
  {
   "cell_type": "markdown",
   "metadata": {},
   "source": [
    "The above optimization result gives us the mean (`m1_map.x`) and precision matrix (`m1_map.hess`) of the approximating Gaussian. We can use these to compute 99% confidence intervals for $\\alpha$ and $\\sigma$. Again, we use a small generic function written for that purpose:"
   ]
  },
  {
   "cell_type": "code",
   "execution_count": 88,
   "metadata": {},
   "outputs": [
    {
     "data": {
      "text/plain": [
       "[24.9031170507984, 26.122894405103352]"
      ]
     },
     "execution_count": 88,
     "metadata": {},
     "output_type": "execute_result"
    }
   ],
   "source": [
    "m1_alpha_99 = [np.arcsin(u) * 180 / np.pi for u in scp_bayes.laplace_99_confidence_interval(m1_map, 0)]\n",
    "m1_alpha_99"
   ]
  },
  {
   "cell_type": "markdown",
   "metadata": {},
   "source": [
    "The true value of $\\alpha$ (23.44°) falls well outside of this confidence interval, so I would not explain the inaccuracy of our estimate by the fussyness of our inference. Our model is _extremely confident_ that $\\alpha \\neq 23.44°$."
   ]
  },
  {
   "cell_type": "markdown",
   "metadata": {},
   "source": [
    "#### Inference with numerical integration"
   ]
  },
  {
   "cell_type": "markdown",
   "metadata": {},
   "source": [
    "We'll now compute the posterior distribution using numerical integration.\n",
    "\n",
    "`scipy.integrate` gives us ready-made algorithms for integration, but they unfortunately have trouble dealing with sharply-peaked integrands, as is typically the case of $P_1^{*}(\\Theta)$. We'll need to help `scipy.integrate` a bit, by pointing it at a region where most of the probability mass lies.\n",
    "\n",
    "Fortunately, our previous work for the Laplace Approximation as already given us all we need: $\\Theta_{MAP}$ tells us where the probability peak is, and the Hessian tells us the approximate dimensions occupied by this peak.\n",
    "\n",
    "Let's write a generic function for running the required integrations and plotting the posterior distribution of a model parameter:"
   ]
  },
  {
   "cell_type": "code",
   "execution_count": 106,
   "metadata": {},
   "outputs": [],
   "source": [
    "import scipy.integrate as intgr\n",
    "\n",
    "def plot_posterior(prior_logp_expr, datum_logp_expr, data_syms, theta_syms, data_values, theta0, theta_bounds, plotted_i):\n",
    "    map_optres = scp_bayes.find_map(prior_logp_expr, datum_logp_expr, data_syms, theta_syms, data_values, theta0, theta_bounds)\n",
    "    \n",
    "    cov = linalg.inv(map_optres.hess)\n",
    "    std_dev = np.sqrt(cov[plotted_i,plotted_i])\n",
    "    mode = map_optres.x[plotted_i]\n",
    "    radius = 5 * std_dev\n",
    "    xs = np.linspace(mode - radius, mode + radius, 100)\n",
    "    ## Laplace Approximation\n",
    "    ys_lpl = np.array([np.exp(-0.5 * ((x - mode) / std_dev) ** 2) for x in xs])\n",
    "    ys_lpl = ys_lpl / np.sum(ys_lpl)\n",
    "    plt.plot(\n",
    "            xs,\n",
    "            ys_lpl,\n",
    "            '',\n",
    "            label=\"Laplace Approximation\")\n",
    "    \n",
    "    all_syms = [] + list(data_syms) + list(theta_syms)\n",
    "    lam_f_n = lambdify(all_syms, datum_logp_expr)\n",
    "    lam_f_prior = lambdify(all_syms, prior_logp_expr)\n",
    "    pvalues = [] + list(data_values)\n",
    "    \n",
    "    def f(theta):\n",
    "        args = pvalues + list(theta)\n",
    "        ## NOTE we're normalizing such that the density is 1 at the mode of the distribution.\n",
    "        return np.exp(np.sum(lam_f_n(*args)) + lam_f_prior(*args) + map_optres.fun)\n",
    "\n",
    "    D = len(theta_bounds)\n",
    "    \n",
    "    def fx(x):\n",
    "        def h(*theta1):\n",
    "            theta = theta1[0:plotted_i] + (x,) + theta1[plotted_i: D - 1]\n",
    "            return f(theta)\n",
    "        return h\n",
    "    \n",
    "    theta1_bounds = theta_bounds[0:plotted_i] + theta_bounds[plotted_i + 1: D]\n",
    "    \n",
    "    def var_intgr_opts(i):\n",
    "        points = [(map_optres.x[i] + k*np.sqrt(cov[i,i])) for k in [-10, 0, 10]]\n",
    "        return {'points': points}\n",
    "    \n",
    "    intgr_opts = [var_intgr_opts(i) for i in range(D) if i != plotted_i]\n",
    "    \n",
    "    def g(x):\n",
    "        r, err = intgr.nquad(fx(x), theta1_bounds, opts=intgr_opts)\n",
    "        return r\n",
    "    \n",
    "    ys_intr = np.array([g(x) for x in xs])\n",
    "    ys_intr = ys_intr / np.sum(ys_intr)\n",
    "    plt.plot(\n",
    "            xs,\n",
    "            ys_intr,\n",
    "            '',\n",
    "            label=\"Numerical Integration\")\n",
    "    ax = plt.gca()\n",
    "    ax.set_title('Posterior probability of {}'.format(str(theta_syms[plotted_i])))\n",
    "    ax.set_ylabel('Probability density')\n",
    "    ax.set_xlabel(str(theta_syms[plotted_i]))\n",
    "    plt.legend()\n",
    "    plt.show()"
   ]
  },
  {
   "cell_type": "markdown",
   "metadata": {},
   "source": [
    "Applying this to Model 1:"
   ]
  },
  {
   "cell_type": "code",
   "execution_count": 92,
   "metadata": {},
   "outputs": [
    {
     "data": {
      "image/png": "[encoded data removed]",
      "text/plain": [
       "<Figure size 432x288 with 1 Axes>"
      ]
     },
     "metadata": {
      "needs_background": "light"
     },
     "output_type": "display_data"
    }
   ],
   "source": [
    "def plot_posterior_m1(raw_data, var_idx):\n",
    "    mat = model1_design_matrix(raw_data)\n",
    "    t = mat[:,-1]\n",
    "    x_1s = np.cos(psi_sf) * mat[:,0] + np.sin(psi_sf) * mat[:,1]\n",
    "    \n",
    "    theta0 = [0.0, 0.1]\n",
    "    theta_bounds = (u_bounds, sigma_bounds)\n",
    "    \n",
    "    return plot_posterior(lp1_theta, lp1_n, [t_n, x_1], [u, sigma], [t, x_1s], \n",
    "              theta0, theta_bounds,\n",
    "              var_idx)\n",
    "\n",
    "    \n",
    "def plot_u_posterior_m1(raw_data):\n",
    "    return plot_posterior_m1(raw_data, 0)\n",
    "\n",
    "\n",
    "plot_u_posterior_m1(raw_training_data)"
   ]
  },
  {
   "cell_type": "markdown",
   "metadata": {},
   "source": [
    "This plot confirms that the Laplace Approximation worked really well for $u$.\n",
    "\n",
    "Let's do the same for $\\sigma$:"
   ]
  },
  {
   "cell_type": "code",
   "execution_count": 93,
   "metadata": {},
   "outputs": [
    {
     "data": {
      "image/png": "[encoded data removed]",
      "text/plain": [
       "<Figure size 432x288 with 1 Axes>"
      ]
     },
     "metadata": {
      "needs_background": "light"
     },
     "output_type": "display_data"
    }
   ],
   "source": [
    "def plot_sigma_posterior_m1(raw_data):\n",
    "    return plot_posterior_m1(raw_data, 1)\n",
    "\n",
    "\n",
    "plot_sigma_posterior_m1(raw_training_data)"
   ]
  },
  {
   "cell_type": "markdown",
   "metadata": {},
   "source": [
    "Here the Laplace Approximation looks less effective, but still pretty good."
   ]
  },
  {
   "cell_type": "markdown",
   "metadata": {},
   "source": [
    "### Bayesian analysis of Model 2"
   ]
  },
  {
   "cell_type": "markdown",
   "metadata": {},
   "source": [
    "Our definition of Model 2 is very similar to Model1, with 2 differences:\n",
    "\n",
    "1. We add a parameter $v$, such that $\\Theta := (u, v, \\sigma)$. Similarly to $u$, because $v := \\sin(\\epsilon)$, our prior distribution for $v$ is uniform on $[0, 1]$.\n",
    "2. Our basis function $f_\\Theta$ is more complex: \n",
    "\n",
    "$$f_{\\Theta}(\\phi_n, \\psi_n) := \\frac{v}{\\cos(\\phi_n)\\sqrt{1 - u^2 \\cos(\\psi_n)^2}} + u \\tan(\\phi_n) \\cos(\\psi_n)$$"
   ]
  },
  {
   "cell_type": "markdown",
   "metadata": {},
   "source": [
    "We'll now do the analysis by following the same steps as Model 1.\n",
    "\n",
    "We represent our log-probabilities using SymPy:"
   ]
  },
  {
   "cell_type": "code",
   "execution_count": 96,
   "metadata": {},
   "outputs": [
    {
     "data": {
      "text/latex": [
       "$\\displaystyle \\log{\\left(\\frac{1}{\\sigma} \\right)} - 2.22032680636785$"
      ],
      "text/plain": [
       "log(1/sigma) - 2.22032680636785"
      ]
     },
     "execution_count": 96,
     "metadata": {},
     "output_type": "execute_result"
    }
   ],
   "source": [
    "v_bounds = (0, 1)\n",
    "\n",
    "lp2_theta = np.log(1 / (u_bounds[1] - u_bounds[0])) + np.log(1 / (v_bounds[1] - v_bounds[0])) + sy.ln(1 / sigma) - np.log(np.log(sigma_bounds[1]) - np.log(sigma_bounds[0]))\n",
    "lp2_theta"
   ]
  },
  {
   "cell_type": "code",
   "execution_count": 97,
   "metadata": {},
   "outputs": [
    {
     "data": {
      "text/latex": [
       "$\\displaystyle - \\log{\\left(\\sigma \\right)} - 0.918938533204673 - \\frac{\\left(t_{n} - u \\cos{\\left(\\psi_{n} \\right)} \\tan{\\left(\\phi_{n} \\right)} - \\frac{v}{\\sqrt{- u^{2} \\cos^{2}{\\left(\\psi_{n} \\right)} + 1} \\cos{\\left(\\phi_{n} \\right)}}\\right)^{2}}{2 \\sigma^{2}}$"
      ],
      "text/plain": [
       "-log(sigma) - 0.918938533204673 - (t_n - u*cos(psi_n)*tan(phi_n) - v/(sqrt(-u**2*cos(psi_n)**2 + 1)*cos(phi_n)))**2/(2*sigma**2)"
      ]
     },
     "execution_count": 97,
     "metadata": {},
     "output_type": "execute_result"
    }
   ],
   "source": [
    "lp2_n = - sy.ln(sigma) - 0.5 * np.log(2 * np.pi) - (((t_n - p_n) / sigma)**2) / 2\n",
    "lp2_n"
   ]
  },
  {
   "cell_type": "markdown",
   "metadata": {},
   "source": [
    "We now find the MAP parameters:"
   ]
  },
  {
   "cell_type": "code",
   "execution_count": 98,
   "metadata": {},
   "outputs": [
    {
     "data": {
      "text/plain": [
       "     fun: -548.3542544680583\n",
       "    hess: array([[ 2.39637976e+05,  3.89568993e+04, -3.23052518e-09],\n",
       "       [ 3.89568993e+04,  1.37810754e+06,  8.44011083e-10],\n",
       "       [-3.23052518e-09,  8.44011083e-10,  1.62910205e+06]])\n",
       "     jac: array([ 2.58069122e-11, -6.59383659e-12, -4.32166303e-10])\n",
       " message: 'Optimization terminated successfully.'\n",
       "    nfev: 16\n",
       "    nhev: 16\n",
       "     nit: 15\n",
       "    njev: 11\n",
       "  status: 0\n",
       " success: True\n",
       "       x: array([0.42866719, 0.0145868 , 0.01570865])"
      ]
     },
     "execution_count": 98,
     "metadata": {},
     "output_type": "execute_result"
    }
   ],
   "source": [
    "def find_model2_map(raw_data):\n",
    "    feat_mat = model2_feature_matrix(raw_data)\n",
    "    \n",
    "    t = feat_mat[:,2]\n",
    "    phi = feat_mat[:,0]\n",
    "    psi = feat_mat[:,1]\n",
    "    \n",
    "    theta0 = (0.0, 0.0, 0.1)\n",
    "    theta_bounds = (u_bounds, v_bounds, sigma_bounds)\n",
    "    \n",
    "    return scp_bayes.find_map(lp2_theta, lp2_n, [t_n, phi_n, psi_n], [u, v, sigma], [t, phi, psi], theta0, theta_bounds)\n",
    "\n",
    "m2_map = find_model2_map(raw_training_data)\n",
    "m2_map"
   ]
  },
  {
   "cell_type": "markdown",
   "metadata": {},
   "source": [
    "We now use the Laplace Approximation to get confidence intervals for $\\alpha$ and $\\epsilon$:"
   ]
  },
  {
   "cell_type": "code",
   "execution_count": 99,
   "metadata": {},
   "outputs": [
    {
     "data": {
      "text/plain": [
       "[24.994086039920838, 25.773183418838254]"
      ]
     },
     "execution_count": 99,
     "metadata": {},
     "output_type": "execute_result"
    }
   ],
   "source": [
    "m2_alpha_99 = [np.arcsin(u) * 180 / np.pi for u in scp_bayes.laplace_99_confidence_interval(m2_map, 0)]\n",
    "m2_alpha_99"
   ]
  },
  {
   "cell_type": "code",
   "execution_count": 100,
   "metadata": {},
   "outputs": [
    {
     "data": {
      "text/plain": [
       "[0.6890205557151041, 0.9825686095629951]"
      ]
     },
     "execution_count": 100,
     "metadata": {},
     "output_type": "execute_result"
    }
   ],
   "source": [
    "m2_eps_99 = [np.arcsin(v) * 180 / np.pi for v in scp_bayes.laplace_99_confidence_interval(m2_map, 1)]\n",
    "m2_eps_99"
   ]
  },
  {
   "cell_type": "markdown",
   "metadata": {},
   "source": [
    "Let's now plot the posterior distributions for our parameters:"
   ]
  },
  {
   "cell_type": "code",
   "execution_count": 102,
   "metadata": {},
   "outputs": [],
   "source": [
    "def plot_posterior_m2(raw_data, var_idx):\n",
    "    feat_mat = model2_feature_matrix(raw_data)\n",
    "    \n",
    "    t = feat_mat[:,2]\n",
    "    phi = feat_mat[:,0]\n",
    "    psi = feat_mat[:,1]\n",
    "    \n",
    "    theta0 = (0.0, 0.0, 0.1)\n",
    "    theta_bounds = (u_bounds, v_bounds, sigma_bounds)\n",
    "    \n",
    "    return plot_posterior(lp2_theta, lp2_n, [t_n, phi_n, psi_n], [u, v, sigma], \n",
    "              [t, phi, psi], theta0, theta_bounds,\n",
    "              var_idx)"
   ]
  },
  {
   "cell_type": "code",
   "execution_count": 103,
   "metadata": {
    "scrolled": false
   },
   "outputs": [
    {
     "data": {
      "image/png": "[encoded data removed]",
      "text/plain": [
       "<Figure size 432x288 with 1 Axes>"
      ]
     },
     "metadata": {
      "needs_background": "light"
     },
     "output_type": "display_data"
    }
   ],
   "source": [
    "def plot_u_posterior_m2(raw_data):\n",
    "    return plot_posterior_m2(raw_data, 0)\n",
    "    \n",
    "plot_u_posterior_m2(raw_training_data)"
   ]
  },
  {
   "cell_type": "code",
   "execution_count": 104,
   "metadata": {
    "scrolled": true
   },
   "outputs": [
    {
     "data": {
      "image/png": "[encoded data removed]",
      "text/plain": [
       "<Figure size 432x288 with 1 Axes>"
      ]
     },
     "metadata": {
      "needs_background": "light"
     },
     "output_type": "display_data"
    }
   ],
   "source": [
    "def plot_v_posterior_m2(raw_data):\n",
    "    return plot_posterior_m2(raw_data, 1)\n",
    "\n",
    "plot_v_posterior_m2(raw_training_data)"
   ]
  },
  {
   "cell_type": "markdown",
   "metadata": {},
   "source": [
    "On my machine, these took much longer to execute, as it now involves integration in 3D. We start understanding why data scientists use specialized integration tools! (or approximations)."
   ]
  },
  {
   "cell_type": "code",
   "execution_count": null,
   "metadata": {},
   "outputs": [],
   "source": []
  }
 ],
 "metadata": {
  "kernelspec": {
   "display_name": "Python 3",
   "language": "python",
   "name": "python3"
  },
  "language_info": {
   "codemirror_mode": {
    "name": "ipython",
    "version": 3
   },
   "file_extension": ".py",
   "mimetype": "text/x-python",
   "name": "python",
   "nbconvert_exporter": "python",
   "pygments_lexer": "ipython3",
   "version": "3.7.4"
  }
 },
 "nbformat": 4,
 "nbformat_minor": 2
}
