{
 "cells": [
  {
   "cell_type": "code",
   "execution_count": 1,
   "metadata": {},
   "outputs": [],
   "source": [
    "import random\n",
    "import numpy as np\n",
    "import matplotlib.pyplot as plt\n",
    "import scipy.io\n",
    "import json\n",
    "import io\n",
    "import time\n",
    "import numpy.random as rnd\n",
    "import numpy.linalg as linalg\n",
    "import datetime"
   ]
  },
  {
   "cell_type": "markdown",
   "metadata": {},
   "source": [
    "## Collecting data"
   ]
  },
  {
   "cell_type": "code",
   "execution_count": 2,
   "metadata": {},
   "outputs": [],
   "source": [
    "N = 200 ## the number of samples we want to collect\n",
    "\n",
    "\n",
    "cities = [ ## some cities scattered over the world (between polar circles though)\n",
    "  {'name': 'New York', 'pos': [40.7128, -74.0060]},\n",
    "  {'name': 'Beijing', 'pos': [39.9042, 116.4074]},\n",
    "  {'name': 'Buenos Aires', 'pos': [-34.6037, -58.3816]},\n",
    "  {'name': 'Lisboa', 'pos': [38.7223, -9.1393]},\n",
    "  {'name': 'Makassar', 'pos': [-5.1477, 119.4327]},\n",
    "  {'name': 'Ushuaia', 'pos': [-54.8019, -68.3030]},\n",
    "  {'name': 'Mumbai', 'pos': [19.0760, 72.8777]},\n",
    "  {'name': 'Istanbul', 'pos': [41.0082, 28.9784]},\n",
    "  {'name': 'Nairobi', 'pos': [-1.2921, 36.8219]},\n",
    "  {'name': 'Sydney', 'pos': [-33.8688, 151.2093]},\n",
    "  {'name': 'Los Angeles', 'pos': [34.0522, -118.2437]},\n",
    "  {'name': 'Cape Town', 'pos': [-33.9249, 18.4241]},\n",
    "  {'name': 'Noumea', 'pos': [-22.2735, 166.4481]},\n",
    "  {'name': 'Tokyo', 'pos': [35.6762, 139.6503]}\n",
    "  ]\n",
    "\n",
    "epoch_2020 = datetime.datetime(2020,1,1).timestamp()\n",
    "ordinal_2020 = datetime.date(2020,1,1).toordinal()\n",
    "epoch_2019 = datetime.datetime(2019,1,1).timestamp()\n",
    "ordinal_2019 = datetime.date(2019,1,1).toordinal()\n",
    "year_duration_s = epoch_2020 - epoch_2019\n",
    "\n",
    "def random_date_in_2019():\n",
    "    return datetime.date.fromordinal(random.randrange(ordinal_2019, ordinal_2020))\n",
    "\n",
    "def generate_data_template(N):\n",
    "    ret = []\n",
    "    for i in range(N):\n",
    "        city = random.choice(cities)\n",
    "        date = random_date_in_2019()\n",
    "        m = {}\n",
    "        m.update(city)\n",
    "        m.update({'date': date.isoformat(), 'daylight': '?'})\n",
    "        ret.append(m)\n",
    "    def sortfn(m):\n",
    "        return m['name'] + '|' + m['date']\n",
    "    return sorted(ret, key=sortfn)\n",
    "\n",
    "def print_data_template_as_json(template, out):\n",
    "    out.write('[\\n')\n",
    "    for i in range(len(template)):\n",
    "        if(i > 0):\n",
    "            out.write(',\\n')\n",
    "        m = template[i]\n",
    "        out.write(json.dumps(m))\n",
    "    out.write('\\n]\\n')\n",
    "\n",
    "def write_data_template_to_file():\n",
    "    random.seed(38)\n",
    "    template = generate_data_template(N)\n",
    "    with open('./data/day-durations-template.json', 'w') as outfile:\n",
    "        print_data_template_as_json(template, outfile)"
   ]
  },
  {
   "cell_type": "markdown",
   "metadata": {},
   "source": [
    "We can now generate a data template to be filled manually by evaluating:"
   ]
  },
  {
   "cell_type": "code",
   "execution_count": 3,
   "metadata": {},
   "outputs": [],
   "source": [
    "#write_data_template_to_file()"
   ]
  },
  {
   "cell_type": "markdown",
   "metadata": {},
   "source": [
    "## Generic functions across all models"
   ]
  },
  {
   "cell_type": "code",
   "execution_count": 5,
   "metadata": {},
   "outputs": [],
   "source": [
    "raw_training_data = json.load(io.open(\"./data/day-durations-training.json\"))\n",
    "raw_test_data = json.load(io.open(\"./data/day-durations-test.json\"))\n",
    "\n",
    "def parse_daylight_s(dl_raw):\n",
    "    hours, minutes = dl_raw.split(':')\n",
    "    return (3600 * float(hours)) + (60 * float(minutes))\n",
    "\n",
    "def parse_year_fraction(date_raw, lng):\n",
    "    ## TODO use lng\n",
    "    y,m,d = date_raw.split('-')\n",
    "    return (datetime.datetime(int(y),int(m),int(d)).timestamp() - epoch_2019) / year_duration_s\n",
    "\n",
    "    \n",
    "def daylight_durations(raw_data):\n",
    "    arr = []\n",
    "    for m in raw_data:\n",
    "        arr.append(parse_daylight_s(m['daylight']))\n",
    "    return np.array(arr)\n",
    "        \n",
    "daylight_durations(raw_training_data)\n",
    "\n",
    "def rms_test_error(predicted_daylight_durations, actual_daylight_durations):\n",
    "    return np.sqrt(np.average((predicted_daylight_durations - actual_daylight_durations)**2))\n",
    "\n",
    "june21_yf = parse_year_fraction(\"2019-06-21\", 0) ## The year fraction of the Summer Solstice\n",
    "day_duration_s = 86400"
   ]
  },
  {
   "cell_type": "markdown",
   "metadata": {},
   "source": [
    "## Model 1: a simple linear model"
   ]
  },
  {
   "cell_type": "code",
   "execution_count": 6,
   "metadata": {},
   "outputs": [
    {
     "name": "stdout",
     "output_type": "stream",
     "text": [
      "Inferred Earth tilt (alpha) and sostice date with linear regression: 25.55, Sat Jun 22 06:06:50 2019\n"
     ]
    }
   ],
   "source": [
    "\n",
    "def model1_design_matrix(raw_data):\n",
    "    \"\"\"\n",
    "    Processes the raw data into a matrix suitable for inferring model parameters via a linear regression.\n",
    "    The first 2 columns are basis functions, the last one is the target.\n",
    "    \"\"\"\n",
    "    rows = []\n",
    "    for m in raw_data:\n",
    "        lat, lng = m['pos']\n",
    "        dl_s = parse_daylight_s(m['daylight'])\n",
    "        year_f = parse_year_fraction(m['date'], lng)\n",
    "        psi = year_f * (2 * np.pi)\n",
    "        tan_phi = np.tan(lat * np.pi / 180)\n",
    "        night_fraction = (1 - dl_s / day_duration_s)\n",
    "        target = np.cos(np.pi * night_fraction)\n",
    "        rows.append([\n",
    "          (tan_phi * np.cos(psi)),\n",
    "          (tan_phi * np.sin(psi)),\n",
    "          target\n",
    "          ])\n",
    "    return np.array(rows)\n",
    "        \n",
    "#mat = model1_design_matrix(raw_data)\n",
    "\n",
    "def model1_fit_alpha_and_sf(raw_data):\n",
    "    mat = model1_design_matrix(raw_data)\n",
    "    N = len(raw_data)\n",
    "    best_fit = linalg.lstsq(mat[:,0:-1], mat[:,-1], rcond=None)\n",
    "    A,B = best_fit[0]\n",
    "    alpha = np.arcsin((A**2 + B**2)**0.5)\n",
    "    solstice_fraction = np.arccos(A / np.sin(alpha)) / (2 * np.pi)\n",
    "    rmse = np.sqrt(best_fit[1][0] / N)\n",
    "    return (alpha, solstice_fraction, rmse, best_fit)\n",
    "\n",
    "m1_alpha, m1_sf, _, m1_lsqfit = model1_fit_alpha_and_sf(raw_training_data)\n",
    "\n",
    "## What are the inferred model parameters, in human form?\n",
    "def year_fraction_to_date(sf):\n",
    "    return datetime.datetime.fromtimestamp(datetime.datetime(2019,1,1).timestamp() + sf * year_duration_s)\n",
    "\n",
    "print('Inferred Earth tilt (alpha) and sostice date with linear regression: {:.2f}, {}'.format(m1_alpha * 180 / np.pi, year_fraction_to_date(m1_sf).ctime())) ## 25.022396735018944°\n"
   ]
  },
  {
   "cell_type": "markdown",
   "metadata": {},
   "source": [
    "What's the prediction error?"
   ]
  },
  {
   "cell_type": "code",
   "execution_count": 7,
   "metadata": {},
   "outputs": [
    {
     "data": {
      "text/plain": [
       "668.9611997734474"
      ]
     },
     "execution_count": 7,
     "metadata": {},
     "output_type": "execute_result"
    }
   ],
   "source": [
    "\n",
    "## What's the prediction error?\n",
    "def model1_daylight_predictions(raw_data, alpha, solstice_fraction):\n",
    "    mat = model1_design_matrix(raw_data)\n",
    "    sf2pi = 2 * np.pi * solstice_fraction\n",
    "    p_cos_pi_nf = np.sin(alpha) * (np.cos(sf2pi ) * mat[:,0] + np.sin(sf2pi) * mat[:,1])\n",
    "    return day_duration_s * (1 - np.arccos(p_cos_pi_nf) / np.pi)\n",
    "\n",
    "rms_test_error(model1_daylight_predictions(raw_test_data, m1_alpha, m1_sf), daylight_durations(raw_test_data)) ## 668.9611997734474 s, so about 11 minutes\n"
   ]
  },
  {
   "cell_type": "markdown",
   "metadata": {},
   "source": [
    "That's a standard error of about 11 minutes, out of day lenghts of about 12 hours. It's not *that* bad."
   ]
  },
  {
   "cell_type": "markdown",
   "metadata": {},
   "source": [
    "### Model 1 bis - let's say we know the date of the solstice, and only infer alpha"
   ]
  },
  {
   "cell_type": "code",
   "execution_count": 8,
   "metadata": {},
   "outputs": [
    {
     "name": "stdout",
     "output_type": "stream",
     "text": [
      "Inferred alpha with northern summer solstice at the correct date: 25.51\n"
     ]
    }
   ],
   "source": [
    "psi_sf = 2 * np.pi * june21_yf\n",
    "\n",
    "def fit_alpha_at_solstice(raw_data):\n",
    "    mat = model1_design_matrix(raw_data)\n",
    "    features = np.cos(psi_sf) * mat[:,0:1] + np.sin(psi_sf) * mat[:,1:2]\n",
    "    best_fit = linalg.lstsq(features, mat[:,-1], rcond=None)\n",
    "    sin_alpha = best_fit[0][0]\n",
    "    alpha = np.arcsin(sin_alpha)\n",
    "    rmse = np.sqrt(best_fit[1][0] / N)\n",
    "    return (alpha, rmse, best_fit)\n",
    "\n",
    "m1_alpha_2, _rmse, _ = fit_alpha_at_solstice(raw_training_data)\n",
    "\n",
    "print('Inferred alpha with northern summer solstice at the correct date: {:.2f}'.format(m1_alpha_2 * 180 / np.pi)) ## 25.022396735018944°\n"
   ]
  },
  {
   "cell_type": "markdown",
   "metadata": {},
   "source": [
    "Not much difference, as we see. But because we now only have one basis function, we can more easily plot visually the data and fitted curves:"
   ]
  },
  {
   "cell_type": "code",
   "execution_count": 9,
   "metadata": {},
   "outputs": [
    {
     "data": {
      "image/png": "[encoded data removed]",
      "text/plain": [
       "<Figure size 432x288 with 1 Axes>"
      ]
     },
     "metadata": {
      "needs_background": "light"
     },
     "output_type": "display_data"
    }
   ],
   "source": [
    "real_tilt = 23.44 * np.pi / 180\n",
    "\n",
    "def plot_model1_bis_fit(raw_data, fit_alpha):\n",
    "    mat = model1_design_matrix(raw_data)\n",
    "    x_range = np.linspace(-1.5, 1.5, 100)\n",
    "    plt.plot(\n",
    "        np.cos(psi_sf) * mat[:,0] + np.sin(psi_sf) * mat[:,1],\n",
    "        mat[:,2],\n",
    "        'r+',\n",
    "        label=\"Training data\")\n",
    "    plt.plot(\n",
    "        x_range,\n",
    "        np.sin(fit_alpha) * x_range,\n",
    "        'b',\n",
    "        label=\"Best-fit prediction ({:.2f}°)\".format(fit_alpha * 180 / np.pi))\n",
    "    plt.plot(\n",
    "        x_range,\n",
    "        np.sin(real_tilt) * x_range,\n",
    "        'g--',\n",
    "        label=\"True tilt prediction ({:.2f}°)\".format(real_tilt * 180 / np.pi))\n",
    "    ax = plt.gca()\n",
    "    ax.set_title('Model 1 linear fit')\n",
    "    ax.set_ylabel('cos(pi * night_fraction)')\n",
    "    ax.set_xlabel('tan(phi) * cos(2* pi * (yf - solstice_yf))')\n",
    "    plt.legend()\n",
    "    plt.show()\n",
    "\n",
    "plot_model1_bis_fit(raw_training_data, m1_alpha_2)"
   ]
  },
  {
   "cell_type": "markdown",
   "metadata": {},
   "source": [
    "Let's see what the standard error looks like in the parameters landscape:"
   ]
  },
  {
   "cell_type": "code",
   "execution_count": 10,
   "metadata": {
    "scrolled": true
   },
   "outputs": [
    {
     "data": {
      "image/png": "[encoded data removed]",
      "text/plain": [
       "<Figure size 432x288 with 2 Axes>"
      ]
     },
     "metadata": {
      "needs_background": "light"
     },
     "output_type": "display_data"
    }
   ],
   "source": [
    "def plot_model1_rms(raw_data, fit_alpha, fit_soltice_yf):\n",
    "    sin_alphas = np.linspace(0.3, 0.6, 5e2) ## sin alphas\n",
    "    soltice_yearfs = np.linspace(0.3, 0.6, 5e2) ## solstice year_f\n",
    "\n",
    "    C = np.zeros((np.shape(soltice_yearfs)[0], np.shape(sin_alphas)[0]))\n",
    "    for m in raw_data:\n",
    "        lat, lng = m['pos']\n",
    "        dl_s = parse_daylight_s(m['daylight'])\n",
    "        year_f = parse_year_fraction(m['date'], lng)\n",
    "        tan_phi = np.tan(lat * np.pi / 180)\n",
    "        night_fraction = (1 - dl_s / day_duration_s)\n",
    "        target = np.cos(np.pi * night_fraction)\n",
    "        Rn = (target -  tan_phi * np.matmul(np.transpose(np.mat(np.cos(2 * np.pi * (year_f - soltice_yearfs)))), np.mat(sin_alphas)))\n",
    "        C += np.square(Rn)\n",
    "    C = (C / N) ** 0.5\n",
    "\n",
    "    ## Plotting the square root squared residuals for various values of sin(alpha) (vertical asin_alphasis) and solstice_yf (horizontal asin_alphasis). Lower (colder) is a better fit.\n",
    "    fig, (ax0) = plt.subplots(nrows=1)\n",
    "    im = ax0.contourf(sin_alphas, soltice_yearfs, C, 50)\n",
    "    fig.colorbar(im, ax=ax0)\n",
    "    ax0.set_title('Model1 RMSE depending model params')\n",
    "    ax0.scatter(np.array([np.sin(fit_alpha)]), np.array([fit_soltice_yf]), marker='+', color='r', label=\"Best fit\")\n",
    "    ax0.scatter(np.array([np.sin(real_tilt)]), np.array([june21_yf]), marker='+', color='w', label=\"True params\")\n",
    "    ax0.yaxis.set_label_text('soltice_yf')\n",
    "    ax0.xaxis.set_label_text('sin(alpha)')\n",
    "    ax0.legend()\n",
    "    plt.show()\n",
    "\n",
    "plot_model1_rms(raw_training_data, m1_alpha, m1_sf)  "
   ]
  },
  {
   "cell_type": "markdown",
   "metadata": {},
   "source": [
    "## Model 2: accounting for an excess angle $\\epsilon$"
   ]
  },
  {
   "cell_type": "markdown",
   "metadata": {},
   "source": [
    "### Refined physical model"
   ]
  },
  {
   "cell_type": "markdown",
   "metadata": {},
   "source": [
    "<img src=\"./img/earth-tilt-sketch.jpg\" />"
   ]
  },
  {
   "cell_type": "markdown",
   "metadata": {},
   "source": [
    "Let's try refining our model. We'll start from the assumption that *some phenomenon* is causing our model to be slightly inaccurate - it could be the fact that the Sun is not punctual, or maybe atmospheric refraction... Whatever that *some phenomenon* is, we'll assume it respects a symmetry around the Earth-Sun axis.\n",
    "\n",
    "This means that the sunlight covers a little more than half a sphere: **it 'overflows' by a small angle $\\epsilon$.** Because the Earth orbit is close to circular, we'll assume that this angle is constant over time.\n",
    "\n",
    "In addition to the Earth tilt $\\alpha$, we'll now try to infer $\\epsilon$ from the data.\n",
    "\n",
    "The geometric modeling is a bit more involved here, but eventually I reached the following formula:\n",
    "\n",
    "$$ \\cos(\\pi p_{night}) = \\sin(\\epsilon) \\frac{1}{\\cos(\\phi)\\cos(\\theta)} + \\sin(\\theta)\\tan(\\phi) $$\n",
    "\n",
    "Recalling that $\\sin(\\theta) = \\sin(\\alpha)\\cos(\\psi)$ and that $cos(\\theta) = \\sqrt{1 - \\sin(\\theta)^2}$, we get:\n",
    "\n",
    "$$ \\cos(\\pi p_{night}) = \\frac{\\sin(\\epsilon)}{\\cos(\\phi)\\sqrt{1 - \\sin(\\alpha)^2 \\cos(\\psi)^2}} + \\sin(\\alpha) \\cos(\\psi)\\tan(\\phi) $$\n",
    "\n",
    "Remember, our goal is to infer $\\alpha$ and $\\epsilon$; we'll do that by inferring $u := \\sin(\\alpha)$ and $v := \\sin(\\epsilon)$. This yields the following **non-linear model in parameters $u$ and $v$:**\n",
    "\n",
    "$$ \\cos(\\pi p_{night}) = \\frac{v}{\\cos(\\phi)\\sqrt{1 - u^2 \\cos(\\psi)^2}} + u\\cos(\\psi)\\tan(\\phi) $$\n",
    "\n",
    "This is not a linear model, so we won't be able to directly apply least-squares linear regression as we did for Model 1. But it doesn't mean that we can't apply least-squares regression at all: it only means that the resulting optimization problem is more difficult to solve."
   ]
  },
  {
   "cell_type": "markdown",
   "metadata": {},
   "source": [
    "### Optimization"
   ]
  },
  {
   "cell_type": "markdown",
   "metadata": {},
   "source": [
    "We'll solve the optimization problem of least-squares fitting $u$ and $v$ to the data using a numerical algorithm."
   ]
  },
  {
   "cell_type": "code",
   "execution_count": 14,
   "metadata": {},
   "outputs": [],
   "source": [
    "import scipy.optimize as opt\n",
    "import sympy as sy\n",
    "from sympy.utilities.lambdify import lambdify"
   ]
  },
  {
   "cell_type": "markdown",
   "metadata": {},
   "source": [
    "Now, the parameter space that this algorithm has to explore is really quite small - a bounded box of 2 dimensions. So we could just use a 'brute-force' algorithm to find the best fit.\n",
    "\n",
    "However I find it much more exiting to use an algorithm that makes use of differential information such as the gradient and hessian, and it gives me an occasion to show off some symbolic computing as well.\n",
    "\n",
    "Indeed, I could compute the gradient and Hessian by hand from the above formula, but I'm really terrible at this sort of calculation, so I'll let the machine do it for me:"
   ]
  },
  {
   "cell_type": "code",
   "execution_count": 26,
   "metadata": {},
   "outputs": [],
   "source": [
    "t_n, phi_n, psi_n, u, v = sy.symbols('t_n phi_n psi_n u v')\n",
    "\n",
    "p_n = (v / ((sy.cos(phi_n) * sy.sqrt(1 - (sy.cos(psi_n) * u)**2)))) + (u * sy.tan(phi_n) * sy.cos(psi_n)) ## the prediction\n",
    "g_n = t_n - p_n ## residual\n",
    "e_n = (g_n ** 2) / 2 ## squared error"
   ]
  },
  {
   "cell_type": "code",
   "execution_count": 34,
   "metadata": {},
   "outputs": [
    {
     "data": {
      "text/latex": [
       "$\\displaystyle \\frac{\\left(t_{n} - u \\cos{\\left(\\psi_{n} \\right)} \\tan{\\left(\\phi_{n} \\right)} - \\frac{v}{\\sqrt{- u^{2} \\cos^{2}{\\left(\\psi_{n} \\right)} + 1} \\cos{\\left(\\phi_{n} \\right)}}\\right)^{2}}{2}$"
      ],
      "text/plain": [
       "(t_n - u*cos(psi_n)*tan(phi_n) - v/(sqrt(-u**2*cos(psi_n)**2 + 1)*cos(phi_n)))**2/2"
      ]
     },
     "execution_count": 34,
     "metadata": {},
     "output_type": "execute_result"
    }
   ],
   "source": [
    "e_n"
   ]
  },
  {
   "cell_type": "markdown",
   "metadata": {},
   "source": [
    "What do these derivatives look like? Let's look at an example of second derivative:"
   ]
  },
  {
   "cell_type": "code",
   "execution_count": 29,
   "metadata": {
    "scrolled": true
   },
   "outputs": [
    {
     "data": {
      "text/latex": [
       "$\\displaystyle \\frac{\\left(\\frac{u v \\cos{\\left(\\psi_{n} \\right)}}{\\left(- u^{2} \\cos^{2}{\\left(\\psi_{n} \\right)} + 1\\right)^{\\frac{3}{2}} \\cos{\\left(\\phi_{n} \\right)}} + \\frac{u \\left(- t_{n} + u \\cos{\\left(\\psi_{n} \\right)} \\tan{\\left(\\phi_{n} \\right)} + \\frac{v}{\\sqrt{- u^{2} \\cos^{2}{\\left(\\psi_{n} \\right)} + 1} \\cos{\\left(\\phi_{n} \\right)}}\\right) \\cos{\\left(\\psi_{n} \\right)}}{- u^{2} \\cos^{2}{\\left(\\psi_{n} \\right)} + 1} + \\tan{\\left(\\phi_{n} \\right)}\\right) \\cos{\\left(\\psi_{n} \\right)}}{\\sqrt{- u^{2} \\cos^{2}{\\left(\\psi_{n} \\right)} + 1} \\cos{\\left(\\phi_{n} \\right)}}$"
      ],
      "text/plain": [
       "(u*v*cos(psi_n)/((-u**2*cos(psi_n)**2 + 1)**(3/2)*cos(phi_n)) + u*(-t_n + u*cos(psi_n)*tan(phi_n) + v/(sqrt(-u**2*cos(psi_n)**2 + 1)*cos(phi_n)))*cos(psi_n)/(-u**2*cos(psi_n)**2 + 1) + tan(phi_n))*cos(psi_n)/(sqrt(-u**2*cos(psi_n)**2 + 1)*cos(phi_n))"
      ]
     },
     "execution_count": 29,
     "metadata": {},
     "output_type": "execute_result"
    }
   ],
   "source": [
    "sy.diff(e_n, u, v)"
   ]
  },
  {
   "cell_type": "markdown",
   "metadata": {},
   "source": [
    "Ugh, alright, I'm happy not to have done it by hand."
   ]
  },
  {
   "cell_type": "markdown",
   "metadata": {},
   "source": [
    "Now, we'll use `scipy.optimize` to minimize the sum of squared errors, while leaving the heavy lifting of evaluating the error and its derivatives to `sympy`. Because this is a small-dimensional problem and we have exact derivative information, we'll use the `trust-exact` method:"
   ]
  },
  {
   "cell_type": "code",
   "execution_count": 32,
   "metadata": {},
   "outputs": [
    {
     "name": "stdout",
     "output_type": "stream",
     "text": [
      "Model 2 best-fit params are alpha = 25.38° and epsilon = 0.84°\n"
     ]
    }
   ],
   "source": [
    "def model2_feature_matrix(raw_data):\n",
    "    rows = []\n",
    "    for m in raw_data:\n",
    "        lat, lng = m['pos']\n",
    "        dl_s = parse_daylight_s(m['daylight'])\n",
    "        year_f = parse_year_fraction(m['date'], lng)\n",
    "        psi = (year_f - june21_yf) * (2 * np.pi)\n",
    "        phi = lat * np.pi / 180\n",
    "        night_fraction = (1 - dl_s / day_duration_s)\n",
    "        t = np.cos(np.pi * night_fraction)\n",
    "        rows.append([\n",
    "          phi,\n",
    "          psi,\n",
    "          t\n",
    "          ])\n",
    "    return np.array(rows)\n",
    "\n",
    "def model2_fit_params(raw_data):\n",
    "    feat_mat = model2_feature_matrix(raw_data)\n",
    "\n",
    "    t = feat_mat[:,2]\n",
    "    phi = feat_mat[:,0]\n",
    "    psi = feat_mat[:,1]\n",
    "    \n",
    "    lam_en = lambdify([t_n, phi_n, psi_n, u, v], e_n)\n",
    "    def squared_error(u_v):\n",
    "        u, v = u_v\n",
    "        return np.average(lam_en(t, phi, psi, u, v))\n",
    "\n",
    "    jac_lambdas = [lambdify([t_n, phi_n, psi_n, u, v], sy.diff(e_n, var1)) for var1 in [u, v]]\n",
    "    def squared_err_jac(u_v):\n",
    "        u, v = u_v\n",
    "        return np.array([np.average(l(t, phi, psi, u, v)) for l in jac_lambdas])\n",
    "\n",
    "    hess_lambdas = [[lambdify([t_n, phi_n, psi_n, u, v], sy.diff(e_n, var1, var2)) for var2 in [u, v]] for var1 in [u, v]]    \n",
    "    def squared_err_hess(u_v):\n",
    "        u, v = u_v\n",
    "        return np.array([[np.average(l(t, phi, psi, u, v)) for l in row] for row in hess_lambdas])\n",
    "\n",
    "    def squared_err_hessp(u_v, p):\n",
    "        hess = np.matrix(squared_err_hess(u_v))\n",
    "        return np.matmul(hess, p)\n",
    "\n",
    "    opt_res = opt.minimize(\n",
    "        squared_error, (0.01, 0.01), \n",
    "        bounds = ((0, 1), (0, 1)),\n",
    "        method='trust-exact', \n",
    "        jac=squared_err_jac, \n",
    "        hess=squared_err_hess\n",
    "        )\n",
    "    \n",
    "    return opt_res\n",
    "    \n",
    "model2_optres = model2_fit_params(raw_training_data)\n",
    "u_opt, v_opt = model2_optres.x\n",
    "print(\"Model 2 best-fit params are alpha = {:.2f}° and epsilon = {:.2f}°\".format(np.arcsin(u_opt) * 180 / np.pi, np.arcsin(v_opt) * 180 / np.pi))\n",
    "model2_rmse = np.sqrt(model2_optres.fun * 2)"
   ]
  },
  {
   "cell_type": "markdown",
   "metadata": {},
   "source": [
    "Bad news: we don't get a much better fit for $\\alpha$. But we do get a non-zero value for $\\epsilon$, so it might still be that our refined model is an improvement. What test error do we get now?"
   ]
  },
  {
   "cell_type": "code",
   "execution_count": 19,
   "metadata": {},
   "outputs": [
    {
     "data": {
      "text/plain": [
       "234.167937603125"
      ]
     },
     "execution_count": 19,
     "metadata": {},
     "output_type": "execute_result"
    }
   ],
   "source": [
    "def model2_daylight_predictions(raw_data, u_opt, v_opt):\n",
    "    feat_mat = model2_feature_matrix(raw_data)\n",
    "    lam_pn = lambdify([phi_n, psi_n, u, v], p_n)\n",
    "    phi = feat_mat[:,0]\n",
    "    psi = feat_mat[:,1]\n",
    "    p_cos_pi_nf = lam_pn(phi, psi, u_opt, v_opt)\n",
    "    return day_duration_s * (1 - np.arccos(p_cos_pi_nf) / np.pi)\n",
    "\n",
    "    \n",
    "rms_test_error(model2_daylight_predictions(raw_test_data, u_opt, v_opt), daylight_durations(raw_test_data)) ## 234.5997870975872 s, so about 4 minutes"
   ]
  },
  {
   "cell_type": "markdown",
   "metadata": {},
   "source": [
    "Cool, we got our error down from 11 minutes to about 4 minutes!"
   ]
  },
  {
   "cell_type": "markdown",
   "metadata": {},
   "source": [
    "Are we sure we found the best-fit values for our parameters? As before, let's plot our optimization landscape:"
   ]
  },
  {
   "cell_type": "code",
   "execution_count": 31,
   "metadata": {
    "scrolled": true
   },
   "outputs": [
    {
     "data": {
      "image/png": "[encoded data removed]",
      "text/plain": [
       "<Figure size 432x288 with 2 Axes>"
      ]
     },
     "metadata": {
      "needs_background": "light"
     },
     "output_type": "display_data"
    }
   ],
   "source": [
    "\n",
    "def plot_model2_rms(raw_data, model2_optres):\n",
    "    u_opt, v_opt = model2_optres.x\n",
    "    \n",
    "    us = np.linspace(0.2, 0.6, 1e2)\n",
    "    vs = np.linspace(0.0, 0.4, 1e2)\n",
    "\n",
    "    C2 = np.zeros((np.shape(vs)[0], np.shape(us)[0]))\n",
    "    for m in raw_data:\n",
    "        lat, lng = m['pos']\n",
    "        dl_s = parse_daylight_s(m['daylight'])\n",
    "        year_f = parse_year_fraction(m['date'], lng)\n",
    "        psi = 2 * np.pi * (year_f - june21_yf)\n",
    "        phi = lat * np.pi / 180\n",
    "        night_fraction = (1 - dl_s / day_duration_s)\n",
    "        t = np.cos(np.pi * night_fraction)\n",
    "        Rn = np.square(t - np.matmul(np.mat(vs).transpose(), np.mat((1 - (np.cos(psi) * us) ** 2) ** (-0.5) / np.cos(phi))) - np.tan(phi) * np.cos(psi) * np.matmul(np.mat(np.ones(len(vs))).transpose(), np.mat(us)))\n",
    "        C2 += Rn\n",
    "    C2 = (C2 / N) ** 0.5\n",
    "\n",
    "    fig, (ax0) = plt.subplots(nrows=1)\n",
    "    im = ax0.contourf(us, vs, C2, 50)\n",
    "    fig.colorbar(im, ax=ax0)\n",
    "    ax0.set_title('Model 2 RMSE')\n",
    "    ax0.xaxis.set_label_text('u (a.k.a sin(alpha))')\n",
    "    ax0.yaxis.set_label_text('v (a.k.a sin(eps))')\n",
    "    ax0.plot([u_opt], [v_opt], marker='+', color='r', label=\"Best fit\")\n",
    "    ax0.plot(np.full(len(vs), np.sin(real_tilt)), vs, color='w', linestyle='--', label=\"True alpha\")\n",
    "    ax0.legend()\n",
    "    plt.show()\n",
    "    \n",
    "plot_model2_rms(raw_training_data, model2_optres)"
   ]
  },
  {
   "cell_type": "markdown",
   "metadata": {},
   "source": [
    "This looks like a nicely convex problem, well approximated by a quadratic function, so its no surprise that a Hessian-based algorithm quickly converged to the best solution:"
   ]
  },
  {
   "cell_type": "code",
   "execution_count": 25,
   "metadata": {},
   "outputs": [
    {
     "data": {
      "text/plain": [
       "     fun: 0.0001239977572583541\n",
       "    hess: array([[0.29566738, 0.04806548],\n",
       "       [0.04806548, 1.70032203]])\n",
       "     jac: array([3.64946893e-07, 1.66596319e-07])\n",
       " message: 'Optimization terminated successfully.'\n",
       "    nfev: 3\n",
       "    nhev: 3\n",
       "     nit: 2\n",
       "    njev: 3\n",
       "  status: 0\n",
       " success: True\n",
       "       x: array([0.42866841, 0.01458687])"
      ]
     },
     "execution_count": 25,
     "metadata": {},
     "output_type": "execute_result"
    }
   ],
   "source": [
    "model2_optres"
   ]
  },
  {
   "cell_type": "code",
   "execution_count": null,
   "metadata": {},
   "outputs": [],
   "source": []
  }
 ],
 "metadata": {
  "kernelspec": {
   "display_name": "Python 3",
   "language": "python",
   "name": "python3"
  },
  "language_info": {
   "codemirror_mode": {
    "name": "ipython",
    "version": 3
   },
   "file_extension": ".py",
   "mimetype": "text/x-python",
   "name": "python",
   "nbconvert_exporter": "python",
   "pygments_lexer": "ipython3",
   "version": "3.7.4"
  }
 },
 "nbformat": 4,
 "nbformat_minor": 2
}
