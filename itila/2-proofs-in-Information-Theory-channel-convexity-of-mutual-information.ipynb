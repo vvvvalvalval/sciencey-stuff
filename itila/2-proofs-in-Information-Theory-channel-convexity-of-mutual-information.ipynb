{
 "cells": [
  {
   "cell_type": "markdown",
   "metadata": {},
   "source": [
    "# 2 proofs in Information Theory: channel-convexity of mutual information"
   ]
  },
  {
   "cell_type": "markdown",
   "metadata": {},
   "source": [
    "I've been studying Information Theory lately, through David MacKay's excellent book [_Information Theory, Inference, and Learning Algorithms_](http://www.inference.org.uk/mackay/itila/). In it, there's an elementary Information Theory result left as an uncorrected exercise ([Exercise 10.7](http://www.inference.org.uk/mackay/itprnn/ps/161.173.pdf)), which could be phrased informally as: _the Mutual Information is a convex function of the channel parameters_.\n",
    "\n",
    "In this article, I will give 2 proofs of this proposition: \n",
    "\n",
    "* The first proof uses typical calculus tools, proving convexity by computing the Hessian and showing that it's positive semi-definite. \n",
    "* The second proof only uses information-theoretical arguments.\n",
    "\n",
    "The second proof is shorter, clearer, more insightful, and more self-contained. The first proof is the first one I delivered; it is longer and more technical.\n",
    "\n",
    "So why write about the first proof at all? Because I see a few benefits to it:\n",
    "\n",
    "1. It serves as a **cautionary tale** against always rushing to analytical methods, instead of searching for an insightful perspective on the problem.\n",
    "2. From a pedagogical standpoint, it serves as an occasion to demonstrate how some **classical tools from calculus and linear algebra** can be used together.\n",
    "3. If you're anything like me, you've always dreamt of knowing what the **Hessian of Mutual Information** looks like. (Come on, admit it.)"
   ]
  },
  {
   "cell_type": "markdown",
   "metadata": {},
   "source": [
    "## Problem statement"
   ]
  },
  {
   "cell_type": "markdown",
   "metadata": {},
   "source": [
    "### Background\n",
    "\n",
    "Given two finite sets $X$ and $Y$, a **discrete memoryless channel** is a specification of probability distributions $P(y | x)$, for $x \\in X$ and $y \\in Y$.\n",
    "\n",
    "Informally, this notion is motivated as follows: a _sender_ chooses a message $x \\in X$ to send, which after going through the communication channel will result in a _receiver_ receiving some $y \\in Y$. In an ideal world, we would be certain of what $y$ would be received after sending $x$ (in other words, y would be a _function_ of $x$); but unfortunately, the channel adds random _noise_ to the signal, such that after having chosen to send $x$, we only know the _probability distribution_ $P(y | x)$ of what might be received.\n",
    "\n",
    "Because the channel consists of $|X|$ probability distributions over a set of $Y$ elements, the channel can be represented by an $|Y| \\times |X|$ **transition matrix** $Q$:\n",
    "\n",
    "$$ Q_{yx} := P(y | x) $$\n",
    "\n",
    "Therefore, each cell of $Q$ contains a values between 0 and 1, and the columns of Q sum to 1.\n",
    "\n",
    "If we assume of probability distribution $P_X$ over $X$, a channel $Q$ gives us a probability distribution $P_Y$ of $Y$, by $P(y) = \\sum_{x}{P(y | x)P(x)}$. Representing $P_X$ and $P_Y$ as vectors, this relation can be written as a matrix multiplication:\n",
    "\n",
    "$$ P_Y = Q P_X $$\n",
    "\n",
    "The **mutual information** $I[X;Y]$ between $X$ and $Y$ represents the average amount of information about $X$ that is gained by learning $Y$; phrased differently, it is the amount of _uncertainty_ (**entropy**) about $X$ that goes away by learning $Y$. Formally:\n",
    "\n",
    "$$ I[X;Y] = H[X] - H[X | Y] = H[Y] - H[Y | X] $$\n",
    "\n",
    "In the above formula, $H[X]$ is the **entropy** of random variable $X$, and $H[X | Y]$ is the **conditional entropy** of $X$ given $Y$:\n",
    "\n",
    "$$ H[Y] = \\sum_{y}{P(y) \\log(\\frac{1}{P(y)})} $$\n",
    "$$ H[Y | X] = \\sum_{x}{P(x) H[Y | X = x]} = \\sum_{x}{P(x) \\sum_{y}{P(y | x) \\log(\\frac{1}{P(y | x)})} } $$\n",
    "\n",
    "### What we want to prove\n",
    "\n",
    "The result we want to prove is the following:\n",
    "\n",
    "> Given a probability distribution over $X$, the function $I: Q \\mapsto I[X;Y]$ is convex.\n",
    "\n",
    "In details, this means that given 2 channels $Q^{(0)}$ and $Q^{(1)}$, and a weight $\\lambda \\in [0,1]$, we can define a 'mixed' channel $Q^{(\\lambda)} := \\lambda Q^{(0)} + (1 - \\lambda)Q^{(1)}$, with the property that $I(Q^{(\\lambda)}) \\leq \\lambda I(Q^{(0)}) + (1 - \\lambda)I(Q^{(1)})$\n",
    "\n",
    "### Intuitive interpretation\n",
    "\n",
    "With regards to the capacity of conveying information, mixing 2 channels is always worse than using the most informative of the 2 channels we started with.\n",
    "\n",
    "In particular, mixing 2 fully-deterministic channels (which are maximally informative) can result in a noisy channel!"
   ]
  },
  {
   "cell_type": "markdown",
   "metadata": {},
   "source": [
    "## Method 1: differentiation and Hessian"
   ]
  },
  {
   "cell_type": "markdown",
   "metadata": {},
   "source": [
    "A common approach to proving that a function is convex is to differentiate it twice, yielding a Hessian matrix, and to prove that this Hessian is positive semidefinite. That's what we'll set out to do here.\n",
    "\n",
    "### Computing the Hessian\n",
    "\n",
    "$I(Q)$ can be viewed as a function of $|X| \\times |Y|$ variables, therefore our Hessian will be a square matrix containing $(|X||Y|)^2$ entries, of the form $\\frac{\\partial^2I}{\\partial Q_{yx} \\partial Q_{vu}}$.\n",
    "\n",
    "To make calculations more lightweight, we'll use some **shorthand notation:**\n",
    "\n",
    "$$ \\pi_x := P(x) $$\n",
    "$$ \\rho_y = \\rho_y(Q) := P(y) $$\n",
    "\n",
    "Recall that $\\rho = Q \\pi$, which can be reformulated to:\n",
    "\n",
    "$$ \\rho_y = \\sum_{x}{Q_{yx} \\pi_x} $$\n",
    "\n",
    "As a result:\n",
    "\n",
    "$$ \\frac{\\partial \\rho_y}{\\partial Q_{vu}} = \\delta_{v = y} \\pi_u $$\n",
    "\n",
    "We now differentiate $H[Y]$ and $H[Y | X]$ with respect to $Q_{uv}$:\n",
    "\n",
    "$$ \\frac{\\partial H[Y]}{\\partial Q_{vu}} = \\sum_{y}{\\frac{\\partial}{\\partial Q_{vu}}\\big\\{\\rho_y \\log(\\frac{1}{\\rho_y})\\big\\}} = \\sum_{y}{\\frac{\\partial \\rho_y}{\\partial Q_{vu}} \\frac{\\partial}{\\partial \\rho_y}\\big\\{- \\rho_y \\log(\\rho_y)\\big\\}} $$\n",
    "\n",
    "$$ \\frac{\\partial H[Y]}{\\partial Q_{vu}} = - \\pi_u (1 + \\log(\\rho_y))$$\n",
    "\n",
    "$$ \\frac{\\partial H[Y | X]}{\\partial Q_{vu}} = \\sum_{x}{\\pi_x \\frac{\\partial}{\\partial Q_{vu}}H[Y | X = x]} = \\pi_u \\frac{\\partial}{\\partial Q_{vu}}H[Y | X = u] = \\pi_u \\frac{\\partial}{\\partial Q_{vu}}\\big\\{\\sum_{y}{Q_{yu} \\log(\\frac{1}{Q_{yu}})}\\big\\}$$\n",
    "\n",
    "$$ \\frac{\\partial H[Y | X]}{\\partial Q_{vu}} = - \\pi_u (1 + \\log(Q_{vu}))$$\n",
    "\n",
    "Combining both results yields: \n",
    "\n",
    "$$ \\frac{\\partial I(Q)}{\\partial Q_{yx}} = \\pi_x \\log(\\frac{Q_{yx}}{\\rho_y})$$\n",
    "\n",
    "Differentiating one more time, we obtain the **entries of the Hessian:**\n",
    "\n",
    "$$ H_{(yx)(vu)} = \\frac{\\partial^2 I(Q)}{\\partial Q_{yx} \\partial Q_{vu}} = \\delta_{x=u}\\delta_{y=v} \\frac{\\pi_x}{Q_{yx}} - \\delta_{y=v} \\frac{\\pi_x \\pi_u}{\\rho_y}$$\n",
    "\n",
    "\n",
    "### Proving the Hessian is positive semi-definite\n",
    "\n",
    "Ordering the indices $yx$ in lexicographic order, thanks to the $\\delta_{y=v}$ factor, we see that **the Hessian matrix has a block-diagonal layout**, with diagonal blocks $B^{(y)}$ of shape $|X| \\times |X|$. It is therefore **sufficient to prove that each diagonal block $B^{(y)}$ is positive semi-definite.**\n",
    "\n",
    "Denoting $\\Delta := \\text{diag}((\\frac{\\pi_x}{Q_{yx}})_{x \\in X})$, we can write:\n",
    "\n",
    "$$ B^{(y)} = \\Delta - \\frac{1}{\\rho_y}\\pi\\pi^\\top $$\n",
    "\n",
    "We now prove that $B^{(y)}$ is positive semi-definite. Let $\\epsilon$ a vector; we want to prove $\\epsilon^\\top B^{(y)} \\epsilon \\geq 0$.\n",
    "\n",
    "$$ \\epsilon^\\top B^{(y)} \\epsilon = \\epsilon^\\top \\Delta \\epsilon - \\frac{1}{\\rho_y} (\\pi^\\top \\epsilon)^2$$\n",
    "\n",
    "Therefore, our goal becomes to prove:\n",
    "\n",
    "$$ \\epsilon^\\top \\Delta \\epsilon  \\geq  \\frac{1}{\\rho_y} (\\pi^\\top \\epsilon)^2 $$\n",
    "\n",
    "$$ \\Uparrow $$\n",
    "\n",
    "$$ (\\pi^\\top \\epsilon)^2 \\leq \\rho_y (\\epsilon^\\top \\Delta \\epsilon)$$\n",
    "\n",
    "$$ \\Uparrow $$\n",
    "\n",
    "$$ \\big(\\sum_{x}{\\pi_x \\epsilon_x}\\big)^2  \\leq  \\big(\\sum_{x}{Q_{yx} \\pi_x}\\big) \\big(\\sum_{x}{\\frac{\\pi_x}{Q_{yx}} \\epsilon_x^2}\\big) $$\n",
    "\n",
    "So we want to compare a squared sum of products to a product of two sums... this looks like a job for the good old **[Cauchy-Schwartz inequality](https://en.wikipedia.org/wiki/Cauchy%E2%80%93Schwarz_inequality)**! And indeed, observing that $\\pi_x \\epsilon_x = (\\sqrt{Q_{yx} \\pi_x})\\big(\\sqrt{\\frac{\\pi_x}{Q_{yx}}} \\epsilon_x \\big)$, it is easily verified that the Cauchy-Schwartz inequality yields the desired result.\n",
    "\n",
    "\n",
    "### Some justifications regarding domains of validity\n",
    "\n",
    "Looking at the above derivation, you may want to object as to the validity of certain derivations. I'll try to make the required justifications here:\n",
    "\n",
    "> **You treated $I(Q)$ as a function of $|X||Y|$ unconstrained variables, whereas it's really defined on an $|X|(|Y| - 1)$-dimensional polytope, because of the constraints on the columns sums.**\n",
    "\n",
    "True, but it doesn't hurt to extend the domain of definition of $I(Q)$ - if the extended function is convex, so is its restriction to values of $Q$ that are truly channels.\n",
    "\n",
    "> **To differentiate, you have assumed that $Q_{yx}$ is non-zero.**\n",
    "\n",
    "Indeed; we prove the convexity of $I$ to the (dense, open and convex) subset of $Q$s where that's true, and can then conclude $I$ is convex on its entire domain using a continuity argument.\n",
    "\n",
    "> **To differentiate, you have assumed that $\\rho_y$ is non-zero.**\n",
    "\n",
    "True; however, observe that this assumption is valid provided that all $Q_{yx}$ are non-zero."
   ]
  },
  {
   "cell_type": "markdown",
   "metadata": {},
   "source": [
    "## Method 2: an elegant, idiomatic proof"
   ]
  },
  {
   "cell_type": "markdown",
   "metadata": {},
   "source": [
    "We now revisit the notion of \"mixing two channels\", by interpreting the mixing coefficients themselves as probabilities."
   ]
  },
  {
   "cell_type": "markdown",
   "metadata": {},
   "source": [
    "We denote $Q^{(\\lambda)} := \\lambda Q^{(1)} + (1 - \\lambda) Q^{(0)}$."
   ]
  },
  {
   "cell_type": "markdown",
   "metadata": {},
   "source": [
    "Consider the following protocol of communication. When we send message $x$, a random $z \\in \\{0, 1\\}$ is independently generated, with $P(z=1) = \\lambda$: if $z = 0$, $x$ is sent through channel $Q^{(0)}$, otherwise through channel $Q^{(1)}$.\n",
    "\n",
    "![](../img/qlambda.jpg)"
   ]
  },
  {
   "cell_type": "markdown",
   "metadata": {},
   "source": [
    "We can verify that **this 'composite' communication channel is exactly equivalent to $Q^{(\\lambda)}$:**\n",
    "\n",
    "$$ P(y | x) = P(y, z=0 | x) + P(y, z=0 | x) = P(z=0)P(y|x, z=0) + P(z=1)P(y|x, z=1) $$\n",
    "\n",
    "$$ P(y | x) = (1 - \\lambda)Q^{(0)}_{yx} + \\lambda Q^{(1)}_{yx} = Q^{(\\lambda)}_{yx}$$"
   ]
  },
  {
   "cell_type": "markdown",
   "metadata": {},
   "source": [
    "We can now derive the proof by starting with an incredibly intuitive argument: **knowing both $y$ _and_ $z$ gives us more information on $x$ than knowing $y$ alone.** Formally:\n",
    "\n",
    "$$ H[X | Y, Z] \\leq H[X | Y] $$\n",
    "\n",
    "$$ \\Downarrow $$\n",
    "\n",
    "$$ P(z = 0)H[X | Y, z = 0] + P(z = 1)H[X | Y, z = 1] \\leq H[X | Y] $$\n",
    "\n",
    "$$ \\Downarrow $$\n",
    "\n",
    "$$ (1 - \\lambda)H[X | Y](Q^{(0)}) + \\lambda H[X | Y](Q^{(1)}) \\leq H[X | Y](Q^{(\\lambda)}) $$\n",
    "\n",
    "$$ \\Downarrow $$\n",
    "\n",
    "$$ (1 - \\lambda)(H[X] - H[X | Y](Q^{(0)})) + \\lambda (H[X] - H[X | Y](Q^{(1)})) \\geq (H[X] - H[X | Y](Q^{(\\lambda)})) $$\n",
    "\n",
    "$$ \\Downarrow $$\n",
    "\n",
    "$$ (1 - \\lambda)I[X ; Y](Q^{(0)}) + \\lambda I[X ; Y](Q^{(1)}) \\geq I[X ; Y](Q^{(\\lambda)}) $$\n",
    "\n",
    "The last line expresses the convexity of $I(Q)$. QED."
   ]
  }
 ],
 "metadata": {
  "kernelspec": {
   "display_name": "Python 3",
   "language": "python",
   "name": "python3"
  },
  "language_info": {
   "codemirror_mode": {
    "name": "ipython",
    "version": 3
   },
   "file_extension": ".py",
   "mimetype": "text/x-python",
   "name": "python",
   "nbconvert_exporter": "python",
   "pygments_lexer": "ipython3",
   "version": "3.7.4"
  }
 },
 "nbformat": 4,
 "nbformat_minor": 2
}
