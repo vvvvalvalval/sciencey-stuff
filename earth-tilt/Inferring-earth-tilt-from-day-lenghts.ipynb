{
 "cells": [
  {
   "cell_type": "markdown",
   "metadata": {},
   "source": [
    "# Inferring the Earth's tilt from day lengths"
   ]
  },
  {
   "cell_type": "markdown",
   "metadata": {},
   "source": [
    "In this article, I will use some scientific computing tools to infer the [axial tilt](https://en.wikipedia.org/wiki/Axial_tilt) of the Earth based on how long days last. There is no scientific novelty here: it's only a little challenge I set up for myself, because I wanted to practice some physical modeling and data analysis using only a minimal set of scientific tools.\n",
    "\n",
    "**Concepts:** curve-fitting, least-squares regression, numerical optimization, symbolic computing, numerical integration, (Bayesian) inference, Laplace Method, (Euclidean) geometry, trigonometry.\n",
    "\n",
    "**Tools:** [Python](https://www.python.org/), [NumPy](https://numpy.org/), [SciPy](https://www.scipy.org/), [SymPy](https://www.sympy.org/), [Matplotlib](https://matplotlib.org/), [Jupyter](https://jupyter.org/), [GeoGebra](https://www.geogebra.org/).\n",
    "\n",
    "I expect this article to be read by people from many different backgrounds. If some things seem obvious to you, please don't take it as an insult to your intelligence. Enjoy your read!\n",
    "\n",
    "**Disclaimer:** astronomy is not my specialty, and I did most of this work while having very little access to the Internet. Expect some unconventional notation!"
   ]
  },
  {
   "cell_type": "markdown",
   "metadata": {},
   "source": [
    "#### Table of Contents:\n",
    "\n",
    "* [Introduction](#Introduction)\n",
    "* [Collecting data](#Collecting-data)\n",
    "* [Model-independent utilities](#Model-independent-utilities)\n",
    "    * [Datasets](#Datasets)\n",
    "    * [Parsing](#Parsing)\n",
    "    * [Test error](#test-error)\n",
    "    * [Miscellaneous](#Miscellaneous)\n",
    "* [ Model 1: a perfect half-sphere in sunlight](#Model-1:-a-perfect-half-sphere-in-sunlight)\n",
    "    * [Physical Model](#Physical-Model)\n",
    "    * [Framing Model 1 as a linear regression](#Framing-Model-1-as-a-linear-regression)\n",
    "    * [Model 1: implementing the regression](#Model-1:-implementing-the-regression)\n",
    "    * [Model 1: results](#Model-1:-results)\n",
    "* [Model 1 bis: non-linear least-squares regression](#Model-1-bis:-non-linear-least-squares-regression)\n",
    "    * [Implementing the regression by numerical optimization](#Implementing-the-regression-by-numerical-optimization)\n",
    "    * [Model 1 bis: results](#Model-1-bis:-results)\n",
    "* [Model 2: accounting for an excess angle $\\epsilon$](#Model-2:-accounting-for-an-excess-angle-$\\epsilon$)\n",
    "    * [Refined physical model](#Refined-physical-model)\n",
    "    * [Implementing the regression](#Implementing-the-regression)\n",
    "    * [Model 2: results](#Model-2:-results)\n",
    "    * [What might be causing $\\epsilon$?](#What-might-be-causing-$\\epsilon$?)\n",
    "* [Bayesian analysis](#Bayesian-analysis)\n",
    "    * [A review of Bayesian inference](#A-review-of-Bayesian-inference)\n",
    "    * [Bayesian analysis of Model 1 bis](#Bayesian-analysis-of-Model-1-bis)\n",
    "    * [Bayesian analysis of Model 2](#Bayesian-analysis-of-Model-2)\n",
    "    * [Model comparison](#Model-comparison)\n",
    "* [Confession: the math error in the model](#Confession:-the-math-error-in-the-model)\n",
    "* [Conclusion](#Conclusion)"
   ]
  },
  {
   "cell_type": "markdown",
   "metadata": {},
   "source": [
    "## Introduction"
   ]
  },
  {
   "cell_type": "markdown",
   "metadata": {},
   "source": [
    "![Illustration of the Earth orbit around the Sun and axial tilt](../img/earth-tilt-orbit.jpg)\n",
    "\n",
    "If you're any older than 1 year old, you've probably noticed that the **daylight length** (the duration between sunrise and sunset) varies depending on the time of the year: it reaches its maximum and minimum at solstices, and is about 12 hours at equinoxes. What's more, as you approach the Equator, this variation gets smaller and smaller: at the Equator, you get about 12 hours of daylight per day, all year long.\n",
    "\n",
    "This, as well as seasons, is explained by the **Earth's tilt**: the axis of rotation of the Earth is not quite parallel to its axis of rotation around the Sun. The angle between these axes is called the _Earth's tilt_ or *obliquity*; I'll denote it $\\alpha$ in this article.\n",
    "\n",
    "This has prompted me to tackle the following problem: \n",
    "\n",
    "---\n",
    "\n",
    "#### Problem statement\n",
    "\n",
    "**_Can we, given the daylight lengths at various places and times around the globe, infer the Earth's tilt $\\alpha$ reliably?_**\n",
    "\n",
    "---\n",
    "\n",
    "To answer this question, here's **what we'll do:**\n",
    "\n",
    "* We will do some theoretical thinking, resulting in _**physical models**_ for relating our observation data to the Earth's tilt $\\alpha$.\n",
    "* We will run some _**inference algorithms**_ to fit our models to the data, resulting in estimations for $\\alpha$. This will involve various tools for numerical and symbolic computing.\n",
    "* These estimations will be accompanied by some visually-comforting data visualizations.\n",
    "* We will **assess the reliability** of our estimations and models using prediction error and _**Bayesian analysis**_.\n",
    "\n",
    "Here are some libraries we will use throughout this notebook:"
   ]
  },
  {
   "cell_type": "code",
   "execution_count": 1,
   "metadata": {},
   "outputs": [],
   "source": [
    "import numpy as np\n",
    "import matplotlib.pyplot as plt\n",
    "import numpy.linalg as linalg"
   ]
  },
  {
   "cell_type": "markdown",
   "metadata": {},
   "source": [
    "## Collecting data"
   ]
  },
  {
   "cell_type": "markdown",
   "metadata": {},
   "source": [
    "To collect experimental data, I looked up the geographic coordinates of a handful of cities around the world, then went to a meteo website to manually collect daylight lengths at randomly selected days of the year 2019.\n",
    "\n",
    "This section shows some code that assited me in this task - feel free to skip it.\n",
    "\n",
    "I generated a JSON-formatted template, to be filled with daylight lengths for randomly selected places and locations."
   ]
  },
  {
   "cell_type": "code",
   "execution_count": 2,
   "metadata": {},
   "outputs": [],
   "source": [
    "import random\n",
    "import datetime\n",
    "import json\n",
    "import io\n",
    "\n",
    "N = 200 ## the number of samples we want to collect\n",
    "\n",
    "cities = [ ## some cities scattered over the world (between polar circles though)\n",
    "  {'name': 'New York', 'pos': [40.7128, -74.0060]},\n",
    "  {'name': 'Beijing', 'pos': [39.9042, 116.4074]},\n",
    "  {'name': 'Buenos Aires', 'pos': [-34.6037, -58.3816]},\n",
    "  {'name': 'Lisboa', 'pos': [38.7223, -9.1393]},\n",
    "  {'name': 'Makassar', 'pos': [-5.1477, 119.4327]},\n",
    "  {'name': 'Ushuaia', 'pos': [-54.8019, -68.3030]},\n",
    "  {'name': 'Mumbai', 'pos': [19.0760, 72.8777]},\n",
    "  {'name': 'Istanbul', 'pos': [41.0082, 28.9784]},\n",
    "  {'name': 'Nairobi', 'pos': [-1.2921, 36.8219]},\n",
    "  {'name': 'Sydney', 'pos': [-33.8688, 151.2093]},\n",
    "  {'name': 'Los Angeles', 'pos': [34.0522, -118.2437]},\n",
    "  {'name': 'Cape Town', 'pos': [-33.9249, 18.4241]},\n",
    "  {'name': 'Noumea', 'pos': [-22.2735, 166.4481]},\n",
    "  {'name': 'Tokyo', 'pos': [35.6762, 139.6503]}\n",
    "  ]\n",
    "\n",
    "epoch_2020 = datetime.datetime(2020,1,1).timestamp()\n",
    "ordinal_2020 = datetime.date(2020,1,1).toordinal()\n",
    "epoch_2019 = datetime.datetime(2019,1,1).timestamp()\n",
    "ordinal_2019 = datetime.date(2019,1,1).toordinal()\n",
    "year_duration_s = epoch_2020 - epoch_2019\n",
    "\n",
    "def random_date_in_2019():\n",
    "    return datetime.date.fromordinal(random.randrange(ordinal_2019, ordinal_2020))\n",
    "\n",
    "def generate_data_template(N):\n",
    "    ret = []\n",
    "    for i in range(N):\n",
    "        city = random.choice(cities)\n",
    "        date = random_date_in_2019()\n",
    "        m = {}\n",
    "        m.update(city)\n",
    "        m.update({'date': date.isoformat(), 'daylight': '?'})\n",
    "        ret.append(m)\n",
    "    def sortfn(m):\n",
    "        return m['name'] + '|' + m['date']\n",
    "    return sorted(ret, key=sortfn)\n",
    "\n",
    "def print_data_template_as_json(template, out):\n",
    "    out.write('[\\n')\n",
    "    for i in range(len(template)):\n",
    "        if(i > 0):\n",
    "            out.write(',\\n')\n",
    "        m = template[i]\n",
    "        out.write(json.dumps(m))\n",
    "    out.write('\\n]\\n')\n",
    "\n",
    "def write_data_template_to_file():\n",
    "    random.seed(38)\n",
    "    template = generate_data_template(N)\n",
    "    with open('./data/day-durations-template.json', 'w') as outfile:\n",
    "        print_data_template_as_json(template, outfile)"
   ]
  },
  {
   "cell_type": "markdown",
   "metadata": {},
   "source": [
    "We can now generate a data template to be filled manually by evaluating `write_data_template_to_file()`."
   ]
  },
  {
   "cell_type": "markdown",
   "metadata": {},
   "source": [
    "## Model-independent utilities"
   ]
  },
  {
   "cell_type": "markdown",
   "metadata": {},
   "source": [
    "This section contains some functions and constants that will be useful for all the models we will implement."
   ]
  },
  {
   "cell_type": "markdown",
   "metadata": {},
   "source": [
    "#### Datasets \n",
    "\n",
    "First, let's retrieve the data. There is one training dataset (200 examples) and one test dataset (27 examples), in the form of JSON files:"
   ]
  },
  {
   "cell_type": "code",
   "execution_count": 3,
   "metadata": {},
   "outputs": [],
   "source": [
    "raw_training_data = json.load(io.open(\"./data/day-durations-training.json\"))\n",
    "raw_test_data = json.load(io.open(\"./data/day-durations-test.json\"))"
   ]
  },
  {
   "cell_type": "markdown",
   "metadata": {},
   "source": [
    "Here's what our raw data looks like:"
   ]
  },
  {
   "cell_type": "code",
   "execution_count": 4,
   "metadata": {},
   "outputs": [
    {
     "data": {
      "text/plain": [
       "[{'name': 'Noumea',\n",
       "  'pos': [-22.2735, 166.4481],\n",
       "  'date': '2019-08-09',\n",
       "  'daylight': '11:14'},\n",
       " {'name': 'Buenos Aires',\n",
       "  'pos': [-34.6037, -58.3816],\n",
       "  'date': '2019-10-13',\n",
       "  'daylight': '12:52'},\n",
       " {'name': 'Beijing',\n",
       "  'pos': [39.9042, 116.4074],\n",
       "  'date': '2019-07-07',\n",
       "  'daylight': '14:53'},\n",
       " {'name': 'Ushuaia',\n",
       "  'pos': [-54.8019, -68.303],\n",
       "  'date': '2019-02-22',\n",
       "  'daylight': '14:09'},\n",
       " {'name': 'Los Angeles',\n",
       "  'pos': [34.0522, -118.2437],\n",
       "  'date': '2019-01-04',\n",
       "  'daylight': '9:33'},\n",
       " {'name': 'Lisboa',\n",
       "  'pos': [38.7223, -9.1393],\n",
       "  'date': '2019-06-05',\n",
       "  'daylight': '14:45'}]"
      ]
     },
     "execution_count": 4,
     "metadata": {},
     "output_type": "execute_result"
    }
   ],
   "source": [
    "random.seed(42)\n",
    "random.sample(raw_training_data, 6)"
   ]
  },
  {
   "cell_type": "markdown",
   "metadata": {},
   "source": [
    "#### Parsing\n",
    "\n",
    "I wrote some functions for parsing the dataset files:"
   ]
  },
  {
   "cell_type": "code",
   "execution_count": 5,
   "metadata": {},
   "outputs": [],
   "source": [
    "def parse_daylight_s(dl_raw):\n",
    "    hours, minutes = dl_raw.split(':')\n",
    "    return (3600 * float(hours)) + (60 * float(minutes))\n",
    "\n",
    "def parse_year_fraction(date_raw, lng):\n",
    "    ## TODO use lng\n",
    "    y,m,d = date_raw.split('-')\n",
    "    return (datetime.datetime(int(y),int(m),int(d)).timestamp() - epoch_2019) / year_duration_s\n",
    "\n",
    "    \n",
    "def daylight_durations(raw_data):\n",
    "    arr = []\n",
    "    for m in raw_data:\n",
    "        arr.append(parse_daylight_s(m['daylight']))\n",
    "    return np.array(arr)"
   ]
  },
  {
   "cell_type": "markdown",
   "metadata": {},
   "source": [
    "#### Test error\n",
    "\n",
    "We also define a function for testing the _predictions_ of our future models - they will predict daylight durations, and we will compare them to the actual values, measuring the Root Mean Squared error (RMS):"
   ]
  },
  {
   "cell_type": "code",
   "execution_count": 6,
   "metadata": {},
   "outputs": [],
   "source": [
    "def rms_test_error(predicted_daylight_durations, actual_daylight_durations):\n",
    "    return np.sqrt(np.average((predicted_daylight_durations - actual_daylight_durations)**2))\n"
   ]
  },
  {
   "cell_type": "markdown",
   "metadata": {},
   "source": [
    "#### Formatting\n",
    "\n",
    "These functions will be useful for displaying results:"
   ]
  },
  {
   "cell_type": "code",
   "execution_count": 7,
   "metadata": {},
   "outputs": [],
   "source": [
    "def in_degrees(angle_in_radians):\n",
    "    return angle_in_radians * 180 / np.pi\n",
    "\n",
    "def year_fraction_to_date(yf):\n",
    "    return datetime.datetime.fromtimestamp(datetime.datetime(2019,1,1).timestamp() + yf * year_duration_s)\n",
    "\n",
    "def human_readable_year_fraction(yf):\n",
    "    return year_fraction_to_date(yf).ctime()"
   ]
  },
  {
   "cell_type": "markdown",
   "metadata": {},
   "source": [
    "#### Miscellaneous\n",
    "\n",
    "Finally, these constants will come in handy:"
   ]
  },
  {
   "cell_type": "code",
   "execution_count": 8,
   "metadata": {},
   "outputs": [],
   "source": [
    "june21_yf = parse_year_fraction(\"2019-06-21\", 0) ## The year fraction of the Summer Solstice\n",
    "day_duration_s = 86400"
   ]
  },
  {
   "cell_type": "markdown",
   "metadata": {},
   "source": [
    "## Model 1: a perfect half-sphere in sunlight"
   ]
  },
  {
   "cell_type": "markdown",
   "metadata": {},
   "source": [
    "Our first model is the most elementary I could come up with, making several idealized hypotheses:\n",
    "\n",
    "1. The Earth is a perfect sphere.\n",
    "2. The Earth receives the light of the Sun as straight parallel rays (i.e the Sun is a punctual source at infinite distance).\n",
    "3. The Earth orbits the Sun in a perfect circle at constant speed.\n",
    "4. At a given latitude and time of the year, the daylight length is equal to the fraction of the iso-latitude circle that's in the light.\n",
    "\n",
    "Based on these assumptions, I arrived at the following model:\n",
    "\n",
    "---\n",
    "\n",
    "#### Formula for Model 1:\n",
    "\n",
    "$$ \\cos(\\pi (1- d_f)) =  \\tan(\\phi) \\tan\\left(\\arcsin\\left(\\sin\\left(\\alpha\\right) \\cos\\left(2 \\pi \\frac{t - t_S}{T_Y}\\right)\\right)\\right) $$\n",
    "\n",
    "---\n",
    "\n",
    "... in which the various symbols are defined as follows:\n",
    "\n",
    "* $d_f$ : **daylight fraction**, the fraction of the day in daylight ($\\frac{1}{2}$ if there are 12 hours of daylight, $\\frac{2}{3}$ if there are 16 hours of daylight, etc.). _Part of the collected data._\n",
    "* $\\alpha$ : the **Earth's tilt**, an angle between 0° and 90°. _To be inferred._\n",
    "* $\\phi$ : the **latitude**, i.e the angle between the place in consideration and the Equator, ranging from -90° to 90°. _Part of the collected data._\n",
    "* $t$ : the **time of the year**. _Part of the collected data._\n",
    "* $t_S$ : the **time of Summer Solstice in the Northern Hemisphere**, the time of the year where days are longest in the Northern Hemisphere. _To be inferred._\n",
    "* $T_Y$ : the **duration of the year.** _Known constant._\n",
    "\n",
    "Let's restate **our goal: _infer the Earth's tilt $\\alpha$ and the solstice time $t_S$ based on the collected values of $(d_f, \\phi, t)$._**"
   ]
  },
  {
   "cell_type": "markdown",
   "metadata": {},
   "source": [
    "### Physical Model"
   ]
  },
  {
   "cell_type": "markdown",
   "metadata": {},
   "source": [
    "In this theoretical section we do the geometric derivation leading to the above formula - feel free to skip it if not interested.\n",
    "\n",
    "We call **$\\theta(t)$ the angle between the Earth-Sun axis and the Earth equatorial plane**. This angle changes as the Earth orbits the Sun: $\\theta(t)$ is $0$ at equinoxes, and $\\pm \\alpha$ at solstices.\n",
    "\n",
    "The first observation is that, in our model, half of the Earth sphere receives sunlight; which half depends on $\\theta(t):$\n",
    "\n",
    "![Plane containing the Earth self-rotation axis and the Earth-Sun axis](../img/earth-sun-shade.png)\n",
    "\n",
    "Let us now consider the iso-latitude circle at latitude $\\phi$. The fraction of daylight in a day is (approximately) the part of the circle's circonference that's in sunlight, corresponding to an angle of $\\pi d_f$:\n",
    "\n",
    "![Iso-latitude plane at latitude phi](../img/earth-iso-latitude-plane.png)\n",
    "\n",
    "(In the above figure, $R$ denotes the Earth radius).\n",
    "\n",
    "Recalling that $\\tan(a) = \\frac{\\sin(a)}{\\cos(a)}$ We can then infer the following relationship:\n",
    "\n",
    "$$ \\cos(\\pi d_f) =  \\frac{- R \\sin(\\phi)\\tan(\\theta(t))}{R \\cos(\\phi)} = - \\tan(\\phi) \\tan(\\theta(t))$$\n",
    "\n",
    "The last thing we need is an expression of $\\theta(t)$, relating it to $t$, $\\alpha$ and $t_S$.\n",
    "\n",
    "Let: \n",
    "\n",
    "* $\\vec{u_E}$ a unit vector parallel to the Earth's rotation axis, directed from the Earth center to the North pole.\n",
    "* $\\vec{u_S}(t)$ a unit vector parallel to the Earth-Sun axis, going from the Earth to the Sun.\n",
    "\n",
    "Considering our first figure, we can see that $\\sin(\\theta(t)) = \\vec{u_E} . \\vec{u_S}(t)$.\n",
    "\n",
    "What's more, the projection of $\\vec{u_E}$ in the Earth's orbit plane is a (constant) vector of length $\\sin(\\alpha)$; it follows that $\\vec{u_E} . \\vec{u_S}(t) = \\sin(\\alpha) \\cos(2 \\pi \\frac{t - t_S}{T_Y})$, yielding:\n",
    "\n",
    "$$ \\theta(t) = \\arcsin(\\sin(\\alpha) \\cos(2 \\pi \\frac{t - t_S}{T_Y})) $$\n",
    "\n",
    "![Vectors in the Earth's orbit](../img/earth-tilt_orbit-vectors.png)\n",
    "\n",
    "Note: $2 \\pi \\frac{t - t_S}{T_Y}$ is an angle indicating where the Earth is in its orbit. How do we know this angle evolves at constant speed? We've used the fact that since the Earth's orbit is a circle, the Earth progresses along it at constant speed (the gravitational force being orthogonal to the direction of motion, the kinetic energy is constant, and so is the speed).\n",
    "\n",
    "We can then inject expression of $\\theta(t)$ this into the previous formula:\n",
    "\n",
    "$$ \\cos(\\pi d_f) =  - \\tan(\\phi) \\tan(\\arcsin(\\sin(\\alpha) \\cos(2 \\pi \\frac{t - t_S}{T_Y}))) $$\n",
    "\n",
    "Recalling that $-\\cos(a) = \\cos(\\pi - a)$, we simplify this into the desired result:\n",
    "\n",
    "$$ \\cos(\\pi (1- d_f)) =  \\tan(\\phi) \\tan(\\arcsin(\\sin(\\alpha) \\cos(2 \\pi \\frac{t - t_S}{T_Y}))) $$"
   ]
  },
  {
   "cell_type": "markdown",
   "metadata": {},
   "source": [
    "### Framing Model 1 as a linear regression"
   ]
  },
  {
   "cell_type": "markdown",
   "metadata": {},
   "source": [
    "A popular technique for fitting parameters to data is express the parameters as weights in a linear relationship between the data features, at which point Least-Squares-Fitting gives you a direct expression for the best-fit parameters.\n",
    "\n",
    "Unfortunately, the above formula does not exhibit a linear relationship between $d_f$, $\\phi$ and $t$, so we will need to rework it a little to get to a linear model.\n",
    "\n",
    "First, our model can be rewritten to:\n",
    "\n",
    "$$ \\sin(\\arctan(\\frac{\\cos(\\pi (1 - d_f))}{\\tan(\\phi)})) = \\sin(\\alpha) \\cos(2 \\pi \\frac{t - t_S}{T_Y}) $$\n",
    "\n",
    "Here $\\sin(\\alpha)$ acts as a linear weight, so we've made progress. Unfortunately, the dependence on $t_S$ is still not linear. \n",
    "\n",
    "However, recalling the trigonometry identity $\\cos(a-b) = \\cos(a)\\cos(b) + \\sin(a)\\sin(b)$, we can 'separate' $t$ and $t_S$ as follows:\n",
    "\n",
    "$$\\cos(2 \\pi \\frac{t - t_S}{T_Y}) =  \\cos(2 \\pi \\frac{t_S}{T_Y})\\cos(2 \\pi \\frac{t}{T_Y}) + \\sin(2 \\pi \\frac{t_S}{T_Y})\\sin(2 \\pi \\frac{t}{T_Y})$$\n",
    "\n",
    "We can now rewrite our formula as:\n",
    "\n",
    "$$ \\sin(\\arctan(\\frac{\\cos(\\pi (1 - d_f))}{\\tan(\\phi)})) = \\sin(\\alpha) \\cos(2 \\pi \\frac{t_S}{T_Y}) \\cos(2 \\pi \\frac{t}{T_Y}) + \\sin(\\alpha) \\sin(2 \\pi \\frac{t_S}{T_Y}) \\sin(2 \\pi \\frac{t}{T_Y}) $$\n",
    "\n",
    "It may not be immediately obvious, but the right-hand side is a linear combination between parameters and data features, which is what we need. \n",
    "\n",
    "To make it clearer, let's define $A := \\sin(\\alpha) \\cos(2 \\pi \\frac{t_S}{T_Y})$ and $B:= \\sin(\\alpha) \\sin(2 \\pi \\frac{t_S}{T_Y})$, our relationship then becomes:\n",
    "\n",
    "---\n",
    "#### Linear regression for model 1: \n",
    "\n",
    "$$ \\sin(\\arctan(\\frac{\\cos(\\pi (1 - d_f))}{\\tan(\\phi)})) = A \\cos(2 \\pi \\frac{t}{T_Y}) + B \\sin(2 \\pi \\frac{t}{T_Y}) $$\n",
    "\n",
    "... in which $d_f$, $t$ and $\\phi$ are observed, and $A$, $B$ are model parameters.\n",
    "\n",
    "---\n",
    "\n",
    "We can now use 2-dimensional **linear least-squares regression** to find the best-fit values of $A$ and $B$, and then work out $\\alpha$ and $t_S$ from these values."
   ]
  },
  {
   "cell_type": "markdown",
   "metadata": {},
   "source": [
    "### Model 1: implementing the regression"
   ]
  },
  {
   "cell_type": "markdown",
   "metadata": {},
   "source": [
    "To run the linear regression, we will use a built-in function of `numpy.linalg`:"
   ]
  },
  {
   "cell_type": "code",
   "execution_count": 9,
   "metadata": {},
   "outputs": [],
   "source": [
    "import numpy.linalg as linalg"
   ]
  },
  {
   "cell_type": "markdown",
   "metadata": {},
   "source": [
    "First, we define a function that does the required _feature engineering_ to run linear regression, i.e compute the required basis functions and target values from the training data and put them into a matrix:"
   ]
  },
  {
   "cell_type": "code",
   "execution_count": 10,
   "metadata": {},
   "outputs": [],
   "source": [
    "def model1_design_matrix(raw_data):\n",
    "    \"\"\"\n",
    "    Processes the raw data into a matrix suitable for inferring model parameters via a linear regression.\n",
    "    The first 2 columns are basis functions, the last one is the target.\n",
    "    \"\"\"\n",
    "    rows = []\n",
    "    for m in raw_data:\n",
    "        lat, lng = m['pos']\n",
    "        dl_s = parse_daylight_s(m['daylight'])\n",
    "        year_f = parse_year_fraction(m['date'], lng)\n",
    "        psi = year_f * (2 * np.pi)\n",
    "        tan_phi = np.tan(lat * np.pi / 180)\n",
    "        night_fraction = (1 - dl_s / day_duration_s)\n",
    "        z = np.cos(np.pi * night_fraction) / tan_phi\n",
    "        target = z / np.sqrt(1 + z**2) ## NOTE trigonometry says that this is what sin(arctan(z)) simplifies to.\n",
    "        rows.append([\n",
    "          np.cos(psi),\n",
    "          np.sin(psi),\n",
    "          tan_phi,  ## NOTE: this column is not useful for regression, but it will be useful for day length prediction.\n",
    "          target])\n",
    "    return np.array(rows)"
   ]
  },
  {
   "cell_type": "markdown",
   "metadata": {},
   "source": [
    "We then write a function that runs the linear regression, then returns the inferred values of $\\alpha$ and $\\frac{t_S}{T_Y}$:"
   ]
  },
  {
   "cell_type": "code",
   "execution_count": 11,
   "metadata": {},
   "outputs": [],
   "source": [
    "def model1_fit_alpha_and_sf(raw_data):\n",
    "    mat = model1_design_matrix(raw_data)\n",
    "    N = len(raw_data)\n",
    "    best_fit = linalg.lstsq(mat[:,0:2], mat[:,-1], rcond=None)\n",
    "    A,B = best_fit[0]\n",
    "    alpha = np.arcsin((A**2 + B**2)**0.5)\n",
    "    solstice_fraction = np.arccos(A / np.sin(alpha)) / (2 * np.pi)\n",
    "    rmse = np.sqrt(best_fit[1][0] / N)\n",
    "    return (alpha, solstice_fraction, rmse, best_fit)\n"
   ]
  },
  {
   "cell_type": "markdown",
   "metadata": {},
   "source": [
    "### Model 1: results"
   ]
  },
  {
   "cell_type": "markdown",
   "metadata": {},
   "source": [
    "Let's run this algorithm on our training data:"
   ]
  },
  {
   "cell_type": "code",
   "execution_count": 12,
   "metadata": {},
   "outputs": [],
   "source": [
    "m1_alpha, m1_sf, _, m1_lsqfit = model1_fit_alpha_and_sf(raw_training_data)"
   ]
  },
  {
   "cell_type": "markdown",
   "metadata": {},
   "source": [
    "... then print the **inferred parameters** in English:"
   ]
  },
  {
   "cell_type": "code",
   "execution_count": 13,
   "metadata": {},
   "outputs": [
    {
     "name": "stdout",
     "output_type": "stream",
     "text": [
      "Inferred Earth tilt (alpha) and solstice date with linear regression: 23.39°, Fri Jun 21 07:40:22 2019\n"
     ]
    }
   ],
   "source": [
    "print('Inferred Earth tilt (alpha) and solstice date with linear regression: {:.2f}°, {}'.format(in_degrees(m1_alpha), human_readable_year_fraction(m1_sf))) ## 25.022396735018944°"
   ]
  },
  {
   "cell_type": "markdown",
   "metadata": {},
   "source": [
    "The true value of $\\alpha$ is 23.44°, and the Northern Summer Solstice is indeed on June 21, so this looks pretty accurate!\n",
    "\n",
    "However, don't get too excited. As we'll see, **the fact that our regression hit so close to the target is mostly due to luck.** Although our result is only 0.06° apart from the true value, the uncertainty of our estimation is much larger than that.\n",
    "\n",
    "What's the **prediction error**?"
   ]
  },
  {
   "cell_type": "code",
   "execution_count": 14,
   "metadata": {},
   "outputs": [
    {
     "name": "stdout",
     "output_type": "stream",
     "text": [
      "On test data, Model 1 achieves a Root Mean Squared prediction error of 10.9 minutes.\n"
     ]
    }
   ],
   "source": [
    "def model1_daylight_predictions(raw_data, alpha, solstice_fraction):\n",
    "    mat = model1_design_matrix(raw_data)\n",
    "    sf2pi = 2 * np.pi * solstice_fraction\n",
    "    p_cos_pi_nf = mat[:,2] * np.tan(np.arcsin(np.sin(alpha) * (np.cos(sf2pi ) * mat[:,0] + np.sin(sf2pi) * mat[:,1])))\n",
    "    return day_duration_s * (1 - np.arccos(p_cos_pi_nf) / np.pi)\n",
    "\n",
    "print(\"On test data, Model 1 achieves a Root Mean Squared prediction error of {:.1f} minutes.\".format(rms_test_error(model1_daylight_predictions(raw_test_data, m1_alpha, m1_sf), daylight_durations(raw_test_data))  / 60))"
   ]
  },
  {
   "cell_type": "markdown",
   "metadata": {},
   "source": [
    "11 minutes of error, out of day lenghts on the order of 12 hours (720 minutes). It's not *that* bad."
   ]
  },
  {
   "cell_type": "markdown",
   "metadata": {},
   "source": [
    "To make things a bit more visual, let's plot the Root Mean Squared (RMS) error in the parameters landscape:"
   ]
  },
  {
   "cell_type": "code",
   "execution_count": 62,
   "metadata": {
    "scrolled": true
   },
   "outputs": [
    {
     "data": {
      "image/png": "[encoded data removed]",
      "text/plain": [
       "<Figure size 432x288 with 2 Axes>"
      ]
     },
     "metadata": {
      "needs_background": "light"
     },
     "output_type": "display_data"
    }
   ],
   "source": [
    "real_tilt = 23.44 * np.pi / 180\n",
    "\n",
    "def plot_model1_rms(raw_data, fit_alpha, fit_soltice_yf):\n",
    "    sin_alphas = np.linspace(0.3, 0.6, 5e2) ## sin alphas\n",
    "    soltice_yearfs = np.linspace(0.3, 0.6, 5e2) ## solstice year_f\n",
    "\n",
    "    C = np.zeros((np.shape(soltice_yearfs)[0], np.shape(sin_alphas)[0]))\n",
    "    for m in raw_data:\n",
    "        lat, lng = m['pos']\n",
    "        dl_s = parse_daylight_s(m['daylight'])\n",
    "        year_f = parse_year_fraction(m['date'], lng)\n",
    "        tan_phi = np.tan(lat * np.pi / 180)\n",
    "        night_fraction = (1 - dl_s / day_duration_s)\n",
    "        z = np.cos(np.pi * night_fraction) / tan_phi\n",
    "        target = z / np.sqrt(1 + z**2)\n",
    "        Rn = (target -  np.matmul(np.transpose(np.mat(np.cos(2 * np.pi * (year_f - soltice_yearfs)))), np.mat(sin_alphas)))\n",
    "        C += np.square(Rn)\n",
    "    C = (C / N) ** 0.5\n",
    "\n",
    "    fig, (ax0) = plt.subplots(nrows=1)\n",
    "    im = ax0.contourf(sin_alphas, soltice_yearfs, C, 50)\n",
    "    fig.colorbar(im, ax=ax0)\n",
    "    ax0.set_title('Model1 training RMSE depending on model params')\n",
    "    ax0.scatter(np.array([np.sin(fit_alpha)]), np.array([fit_soltice_yf]), marker='+', color='r', label=\"Best fit\")\n",
    "    ax0.scatter(np.array([np.sin(real_tilt)]), np.array([june21_yf]), marker='+', color='w', label=\"True params\")\n",
    "    ax0.yaxis.set_label_text('$t_S$ / $T_Y$')\n",
    "    ax0.xaxis.set_label_text('sin(alpha)')\n",
    "    ax0.legend()\n",
    "    plt.show()\n",
    "\n",
    "plot_model1_rms(raw_training_data, m1_alpha, m1_sf)  "
   ]
  },
  {
   "cell_type": "markdown",
   "metadata": {},
   "source": [
    "A RMS error of 0.15 is rather high, given that the target values range between -1 and 1.\n",
    "\n",
    "Let's get a visual assessment of how well our linear model fits the data. We're going to treat the solstice time $t_S$ as known from now, meaning that alpha is the only regression parameter, which will be easier to visualize:"
   ]
  },
  {
   "cell_type": "code",
   "execution_count": 16,
   "metadata": {},
   "outputs": [
    {
     "data": {
      "image/png": "[encoded data removed]",
      "text/plain": [
       "<Figure size 432x288 with 1 Axes>"
      ]
     },
     "metadata": {
      "needs_background": "light"
     },
     "output_type": "display_data"
    }
   ],
   "source": [
    "def plot_model1_fit_1D(raw_data, fit_alpha):\n",
    "    mat = model1_design_matrix(raw_data)\n",
    "    psi_sf = 2 * np.pi * june21_yf\n",
    "    x_range = np.linspace(-1.5, 1.5, 100)\n",
    "    plt.plot(\n",
    "        np.cos(psi_sf) * mat[:,0] + np.sin(psi_sf) * mat[:,1],\n",
    "        mat[:,-1],\n",
    "        'r+',\n",
    "        label=\"Training data\")\n",
    "    plt.plot(\n",
    "        x_range,\n",
    "        np.sin(fit_alpha) * x_range,\n",
    "        'b',\n",
    "        label=\"Best-fit prediction ({:.2f}°)\".format(in_degrees(fit_alpha)))\n",
    "    plt.plot(\n",
    "        x_range,\n",
    "        np.sin(real_tilt) * x_range,\n",
    "        'g--',\n",
    "        label=\"True tilt prediction ({:.2f}°)\".format(in_degrees(real_tilt)))\n",
    "    ax = plt.gca()\n",
    "    ax.set_title('Model 1 linear fit')\n",
    "    ax.set_ylabel('target')\n",
    "    ax.set_xlabel('$cos(2* pi * (t - t_S) / T_Y)$')\n",
    "    plt.legend()\n",
    "    plt.show()\n",
    "\n",
    "plot_model1_fit_1D(raw_training_data, m1_alpha)"
   ]
  },
  {
   "cell_type": "markdown",
   "metadata": {},
   "source": [
    "We do observe a linear trend here, but do you see how far some points stretch away from the fitted curve? This is because of the $\\frac{1}{\\tan(\\phi)}$ factor inside the target's expression. For places like Nairobi and Makassar that are close the the equator, $\\tan(\\phi)$ is close to $0$ and its inverse goes high, amplifying errors.\n",
    "\n",
    "To show you how fragile our current method of regression is, let's do a small experiment. I'll add a slight imbalance to the training dataset by removing the data points of Nairobi in winter, and re-run the regression on this new dataset:"
   ]
  },
  {
   "cell_type": "code",
   "execution_count": 17,
   "metadata": {},
   "outputs": [
    {
     "data": {
      "image/png": "[encoded data removed]",
      "text/plain": [
       "<Figure size 432x288 with 1 Axes>"
      ]
     },
     "metadata": {
      "needs_background": "light"
     },
     "output_type": "display_data"
    },
    {
     "data": {
      "text/plain": [
       "8"
      ]
     },
     "execution_count": 17,
     "metadata": {},
     "output_type": "execute_result"
    }
   ],
   "source": [
    "training_data_2 = [m for m in raw_training_data if (not (m['name'] == 'Nairobi' and np.cos(2 * np.pi * (parse_year_fraction(m['date'], m['pos'][1]) - june21_yf)) > 0))]\n",
    "m1_alpha_2,_,_,_ = model1_fit_alpha_and_sf(training_data_2)\n",
    "plot_model1_fit_1D(training_data_2, m1_alpha_2)\n",
    "len(raw_training_data) - len(training_data_2)"
   ]
  },
  {
   "cell_type": "markdown",
   "metadata": {},
   "source": [
    "By only removing 8 data points out of 200, our inferred value of $\\alpha$ has changed by 2°!\n",
    "\n",
    "I see this as an indication that we should question our regression method."
   ]
  },
  {
   "cell_type": "markdown",
   "metadata": {},
   "source": [
    "## Model 1 bis: non-linear least-squares regression"
   ]
  },
  {
   "cell_type": "markdown",
   "metadata": {},
   "source": [
    "In this section, we'll do another form of least-squares regression, to address the limitations of the previous section. To keep things simple, we will treat the solstice time $t_S$ as a known constant from now on, and infer only the Earth's tilt $\\alpha$.\n",
    "\n",
    "Let's come back to our initial formula from Model 1:\n",
    "\n",
    "$$ \\cos(\\pi (1- d_f)) =  \\tan(\\phi) \\tan(\\arcsin(\\sin(\\alpha) \\cos(2 \\pi \\frac{t - t_S}{T_Y}))) $$\n",
    "\n",
    "In the previous section, since we were aiming for linear regression, we reworked this formula so that the right-hand side could be seen as a linear combination with $\\sin(\\alpha)$ as a coefficient.\n",
    "\n",
    "In this section, we're simply not going to do that: we will **treat $y := \\cos(\\pi (1- d_f))$ as the regression target**, with a non-linear relationship to $u := \\sin(\\alpha)$.\n",
    "\n",
    "---\n",
    "#### Non-linear regression for Model 1 bis: \n",
    "\n",
    "$$ y =  \\tan(\\phi) \\tan(\\arcsin(u \\cos(\\psi(t)))) $$\n",
    "\n",
    "... in which:\n",
    "\n",
    "* $y := \\cos(\\pi (1- d_f))$ _(target variable, observed)_\n",
    "* $\\psi(t) := 2 \\pi \\frac{t - t_S}{T_Y}$ _(observed)_\n",
    "* $\\phi$ is the latitude _(observed)_\n",
    "* $u := \\sin(\\alpha)$ _(model parameter, to be fitted to the data)_\n",
    "\n",
    "---\n",
    "\n",
    "\n",
    "This implies that our regression is no longer linear. But that's not the end of the world: we can still do least-squares fitting, it only means that the underlying optimization problem is harder to solve.\n"
   ]
  },
  {
   "cell_type": "markdown",
   "metadata": {},
   "source": [
    "### Implementing the regression by numerical optimization"
   ]
  },
  {
   "cell_type": "markdown",
   "metadata": {},
   "source": [
    "We'll solve the optimization problem of least-squares fitting $u$ to the data using a numerical algorithm."
   ]
  },
  {
   "cell_type": "code",
   "execution_count": 18,
   "metadata": {},
   "outputs": [],
   "source": [
    "import scipy.optimize as opt"
   ]
  },
  {
   "cell_type": "markdown",
   "metadata": {},
   "source": [
    "Now, the $u$ parameter space that this algorithm has to explore is really quite small - a 1-dimensional segment. So we could just use a 'brute-force' algorithm to find the best fit.\n",
    "\n",
    "However I find it much more exciting to use an optimization algorithm that makes use of differential information such as the gradient and hessian, and it gives me an occasion to show off some symbolic computing as well. What's more, having the Hessian will prove useful in the final section, when we use the Laplace Approximation for Bayesian inference.\n",
    "\n",
    "Indeed, I could compute the gradient and Hessian by hand from the above formula, but I'm really terrible at this sort of calculation, so I'll let the machine do it for me:"
   ]
  },
  {
   "cell_type": "code",
   "execution_count": 19,
   "metadata": {},
   "outputs": [],
   "source": [
    "import sympy as sy                             ## For symbolic computing\n",
    "from sympy.utilities.lambdify import lambdify  ## For converting SymPy symbolic expressions to fast NumPy operations."
   ]
  },
  {
   "cell_type": "markdown",
   "metadata": {},
   "source": [
    "First, let's define some Sympy expressions for computing our error, in terms of our data and parameters:"
   ]
  },
  {
   "cell_type": "code",
   "execution_count": 20,
   "metadata": {},
   "outputs": [],
   "source": [
    "y_n, phi_n, psi_n = sy.symbols('y_n phi_n psi_n') ## data\n",
    "u = sy.symbols('u') ## params\n",
    "\n",
    "m1b_p_n = sy.tan(phi_n) * sy.tan(sy.asin(u * sy.cos(psi_n))) ## the prediction\n",
    "m1b_e_n = (y_n - m1b_p_n) ** 2 ## squared error"
   ]
  },
  {
   "cell_type": "markdown",
   "metadata": {},
   "source": [
    "Here is our **squared error term** for one data point:"
   ]
  },
  {
   "cell_type": "code",
   "execution_count": 21,
   "metadata": {
    "scrolled": true
   },
   "outputs": [
    {
     "data": {
      "text/latex": [
       "$\\displaystyle \\left(- \\frac{u \\cos{\\left(\\psi_{n} \\right)} \\tan{\\left(\\phi_{n} \\right)}}{\\sqrt{- u^{2} \\cos^{2}{\\left(\\psi_{n} \\right)} + 1}} + y_{n}\\right)^{2}$"
      ],
      "text/plain": [
       "(-u*cos(psi_n)*tan(phi_n)/sqrt(-u**2*cos(psi_n)**2 + 1) + y_n)**2"
      ]
     },
     "execution_count": 21,
     "metadata": {},
     "output_type": "execute_result"
    }
   ],
   "source": [
    "m1b_e_n"
   ]
  },
  {
   "cell_type": "markdown",
   "metadata": {},
   "source": [
    "What amount of work can SymPy save us? As an example, let's compute one the second derivative, which will be used by our algorithm:"
   ]
  },
  {
   "cell_type": "code",
   "execution_count": 22,
   "metadata": {
    "scrolled": true
   },
   "outputs": [
    {
     "data": {
      "text/latex": [
       "$\\displaystyle - \\frac{2 \\left(3 u^{2} \\cos^{2}{\\left(\\psi_{n} \\right)} \\tan{\\left(\\phi_{n} \\right)} - 3 u y_{n} \\sqrt{- u^{2} \\cos^{2}{\\left(\\psi_{n} \\right)} + 1} \\cos{\\left(\\psi_{n} \\right)} + \\tan{\\left(\\phi_{n} \\right)}\\right) \\cos^{2}{\\left(\\psi_{n} \\right)} \\tan{\\left(\\phi_{n} \\right)}}{\\left(u \\cos{\\left(\\psi_{n} \\right)} - 1\\right)^{3} \\left(u \\cos{\\left(\\psi_{n} \\right)} + 1\\right)^{3}}$"
      ],
      "text/plain": [
       "-2*(3*u**2*cos(psi_n)**2*tan(phi_n) - 3*u*y_n*sqrt(-u**2*cos(psi_n)**2 + 1)*cos(psi_n) + tan(phi_n))*cos(psi_n)**2*tan(phi_n)/((u*cos(psi_n) - 1)**3*(u*cos(psi_n) + 1)**3)"
      ]
     },
     "execution_count": 22,
     "metadata": {},
     "output_type": "execute_result"
    }
   ],
   "source": [
    "sy.diff(m1b_e_n, u, u).simplify()"
   ]
  },
  {
   "cell_type": "markdown",
   "metadata": {},
   "source": [
    "Ugh, alright, I'm glad I didn't do it by hand."
   ]
  },
  {
   "cell_type": "markdown",
   "metadata": {},
   "source": [
    "Now let's implement our regression algorithm. As before, we start with a **feature engineering function:**"
   ]
  },
  {
   "cell_type": "code",
   "execution_count": 23,
   "metadata": {},
   "outputs": [],
   "source": [
    "def model1b_feature_matrix(raw_data):\n",
    "    rows = []\n",
    "    for m in raw_data:\n",
    "        lat, lng = m['pos']\n",
    "        dl_s = parse_daylight_s(m['daylight'])\n",
    "        year_f = parse_year_fraction(m['date'], lng)\n",
    "        psi = (year_f - june21_yf) * (2 * np.pi)\n",
    "        phi = lat * np.pi / 180\n",
    "        night_fraction = (1 - dl_s / day_duration_s)\n",
    "        y = np.cos(np.pi * night_fraction)\n",
    "        rows.append([\n",
    "          phi,\n",
    "          psi,\n",
    "          y\n",
    "          ])\n",
    "    return np.array(rows)"
   ]
  },
  {
   "cell_type": "markdown",
   "metadata": {},
   "source": [
    "Now, we'll use `scipy.optimize` to minimize the sum of squared errors, while leaving the heavy lifting of evaluating the error and its derivatives to `sympy`. Because this is a small-dimensional problem and we have exact derivative information, we'll use the `trust-exact` method:"
   ]
  },
  {
   "cell_type": "code",
   "execution_count": 24,
   "metadata": {},
   "outputs": [],
   "source": [
    "def model1b_fit_params(raw_data):\n",
    "    feat_mat = model1b_feature_matrix(raw_data)\n",
    "\n",
    "    y = feat_mat[:,2]\n",
    "    phi = feat_mat[:,0]\n",
    "    psi = feat_mat[:,1]\n",
    "    \n",
    "    e_n = m1b_e_n\n",
    "    \n",
    "    lam_en = lambdify([y_n, phi_n, psi_n, u], e_n)\n",
    "    def squared_error(params):\n",
    "        u, = params\n",
    "        return np.average(lam_en(y, phi, psi, u))\n",
    "\n",
    "    lam_jac = lambdify([y_n, phi_n, psi_n, u], sy.diff(e_n, u))\n",
    "    def squared_err_jac(params):\n",
    "        u, = params\n",
    "        return np.array([np.average(lam_jac(y, phi, psi, u))])\n",
    "\n",
    "    lam_hess = lambdify([y_n, phi_n, psi_n, u], sy.diff(e_n, u, u))\n",
    "    def squared_err_hess(params):\n",
    "        u, = params\n",
    "        return np.array([[np.average(lam_hess(y, phi, psi, u))]])\n",
    "\n",
    "    def squared_err_hessp(params, p):\n",
    "        hess = np.matrix(squared_err_hess(params))\n",
    "        return np.matmul(hess, p)\n",
    "\n",
    "    opt_res = opt.minimize(\n",
    "        squared_error, (0.01), \n",
    "        bounds = ((0, 1)),\n",
    "        method='trust-exact', \n",
    "        jac=squared_err_jac, \n",
    "        hess=squared_err_hess\n",
    "        )\n",
    "    \n",
    "    return opt_res"
   ]
  },
  {
   "cell_type": "markdown",
   "metadata": {},
   "source": [
    "### Model 1 bis: results"
   ]
  },
  {
   "cell_type": "markdown",
   "metadata": {},
   "source": [
    "Let's run the above algorithm on our training data, to see the **inferred parameter $\\alpha$**:"
   ]
  },
  {
   "cell_type": "code",
   "execution_count": 25,
   "metadata": {},
   "outputs": [
    {
     "name": "stdout",
     "output_type": "stream",
     "text": [
      "Model 1b best-fit param is alpha = 23.79°, with an RMS error of 0.024\n"
     ]
    }
   ],
   "source": [
    "m1b_optres = model1b_fit_params(raw_training_data)\n",
    "m1b_u_opt, = m1b_optres.x\n",
    "m1b_alpha = np.arcsin(m1b_u_opt)\n",
    "print(\"Model 1b best-fit param is alpha = {:.2f}°, with an RMS error of {:.3f}\".format(in_degrees(m1b_alpha), np.sqrt(m1b_optres.fun)))\n",
    "#model2_rmse = np.sqrt(model2_optres.fun * 2)"
   ]
  },
  {
   "cell_type": "markdown",
   "metadata": {},
   "source": [
    "Our RMS error has gotten much smaller: our curve is fitting the training data more closely. Let's see if we get a much different answer on the imbalanced dataset:"
   ]
  },
  {
   "cell_type": "code",
   "execution_count": 26,
   "metadata": {},
   "outputs": [
    {
     "data": {
      "text/plain": [
       "23.78694516195515"
      ]
     },
     "execution_count": 26,
     "metadata": {},
     "output_type": "execute_result"
    }
   ],
   "source": [
    "in_degrees(np.arcsin(model1b_fit_params(training_data_2).x[0]))"
   ]
  },
  {
   "cell_type": "markdown",
   "metadata": {},
   "source": [
    "As intended, our new regression method seems much less sensitive to small variations in the training dataset."
   ]
  },
  {
   "cell_type": "markdown",
   "metadata": {},
   "source": [
    "As before, let's evaluate the **test error:**"
   ]
  },
  {
   "cell_type": "code",
   "execution_count": 27,
   "metadata": {
    "scrolled": true
   },
   "outputs": [
    {
     "name": "stdout",
     "output_type": "stream",
     "text": [
      "On test data, Model 1 bis achieves a Root Mean Squared prediction error of 11.0 minutes.\n"
     ]
    }
   ],
   "source": [
    "print(\"On test data, Model 1 bis achieves a Root Mean Squared prediction error of {:.1f} minutes.\".format(rms_test_error(model1_daylight_predictions(raw_test_data, m1b_alpha, june21_yf), daylight_durations(raw_test_data)) / 60))"
   ]
  },
  {
   "cell_type": "markdown",
   "metadata": {},
   "source": [
    "Unsurprisingly, our prediction accuracy hasn't improved. It's time to reach out for a less simplistic model."
   ]
  },
  {
   "cell_type": "markdown",
   "metadata": {},
   "source": [
    "## Model 2: accounting for an excess angle $\\epsilon$"
   ]
  },
  {
   "cell_type": "markdown",
   "metadata": {},
   "source": [
    "### Refined physical model"
   ]
  },
  {
   "cell_type": "markdown",
   "metadata": {},
   "source": [
    "<img src=\"../img/earth-tilt-sketch.jpg\" />"
   ]
  },
  {
   "cell_type": "markdown",
   "metadata": {},
   "source": [
    "Let's try refining our model. We'll start from the assumption that *some phenomenon* is causing our previous Model 1 to be slightly inaccurate - it could be the fact that the Sun is not punctual, or maybe atmospheric refraction... Whatever that *some phenomenon* is, we'll assume it respects a symmetry around the Earth-Sun axis.\n",
    "\n",
    "This means that the sunlight covers a little more than half a sphere: **it 'overflows' by a small angle $\\epsilon$.** Because the Earth orbit is close to circular, we'll assume that this angle is constant over time.\n",
    "\n",
    "In addition to the Earth tilt $\\alpha$, we'll now try to infer $\\epsilon$ from the data.\n",
    "\n",
    "The geometric derivation is slightly more involved here; geometrically, the main thing to notice is that the day/night separation still lies in a plane, which is at distance $R\\sin(\\epsilon)$ from the Earth center. Eventually I arrived at the following formula:\n",
    "\n",
    "$$ \\cos(\\pi (1 - d_f)) = \\sin(\\epsilon) \\frac{1}{\\cos(\\phi)\\cos(\\theta(t))} + \\tan(\\theta(t))\\tan(\\phi) $$\n",
    "\n",
    "Here we introduce some **new notation:**\n",
    "\n",
    "* $\\theta(t)$ is the angle between the Earth Equatorial Plane and the Earth-Sun axis. This angle is 0 at equinoxes, and $\\pm \\alpha$ at solstices.\n",
    "* We define a shorthand $\\psi(t) := \\frac{2 \\pi (t - t_S)}{T_Y}$\n",
    "* It can be shown that $\\sin(\\theta(t)) = \\sin(\\alpha)\\cos(\\psi(t))$ (see the [physical modeling section](#Physical-Model) of Model 1)\n",
    "\n",
    "Recalling that $cos(a) = \\pm \\sqrt{1 - \\sin(a)^2}$, the above formula expands into:\n",
    "\n",
    "$$ \\cos(\\pi (1 - d_f)) = \\frac{\\sin(\\epsilon)}{\\cos(\\phi)\\sqrt{1 - \\sin(\\alpha)^2 \\cos(\\psi)^2}} + \\tan(\\phi) \\tan(\\arcsin(\\sin(\\alpha) \\cos(\\psi))) $$\n",
    "\n",
    "Compared to Model 1, we have added a new term involving $\\epsilon$.\n",
    "\n",
    "Remember, our goal is to infer $\\alpha$ and $\\epsilon$; we'll do that by inferring $u := \\sin(\\alpha)$ and $v := \\sin(\\epsilon)$. This yields the following **non-linear ression in parameters $u$ and $v$:**\n",
    "\n",
    "---\n",
    "#### Non-linear regression for Model 2:\n",
    "\n",
    "$$ y = \\frac{v}{\\cos(\\phi)\\sqrt{1 - u^2 \\cos(\\psi)^2}} + \\tan(\\phi) \\tan(\\arcsin(u \\cos(\\psi))) $$\n",
    "\n",
    "... in which:\n",
    "\n",
    "* $y := \\cos(\\pi (1- d_f))$ _(target variable, observed)_\n",
    "* $\\psi(t) := 2 \\pi \\frac{t - t_S}{T_Y}$ _(observed)_\n",
    "* $\\phi$ is the latitude _(observed)_\n",
    "* $u := \\sin(\\alpha)$ _(model parameter, to be fitted to the data)_\n",
    "* $v := \\sin(\\epsilon)$ _(model parameter, to be fitted to the data)_\n",
    "\n",
    "---"
   ]
  },
  {
   "cell_type": "markdown",
   "metadata": {},
   "source": [
    "### Implementing the regression"
   ]
  },
  {
   "cell_type": "markdown",
   "metadata": {},
   "source": [
    "We'll follow the same steps as for Model 1 bis.\n",
    "\n",
    "Since our model has become more sophisticated, encoding it in SymPy is even more relevant:"
   ]
  },
  {
   "cell_type": "code",
   "execution_count": 28,
   "metadata": {},
   "outputs": [],
   "source": [
    "## We don't need any new symbols for data features.\n",
    "v = sy.symbols('v') ## the new parameter\n",
    "\n",
    "m2_p_n = m1b_p_n + v / (sy.cos(phi_n) * sy.sqrt(1 - (u * sy.cos(psi_n))**2))\n",
    "m2_e_n = (y_n - m2_p_n) ** 2"
   ]
  },
  {
   "cell_type": "markdown",
   "metadata": {},
   "source": [
    "Here is our squared error term for one data point:"
   ]
  },
  {
   "cell_type": "code",
   "execution_count": 29,
   "metadata": {
    "scrolled": false
   },
   "outputs": [
    {
     "data": {
      "text/latex": [
       "$\\displaystyle \\left(- \\frac{u \\cos{\\left(\\psi_{n} \\right)} \\tan{\\left(\\phi_{n} \\right)}}{\\sqrt{- u^{2} \\cos^{2}{\\left(\\psi_{n} \\right)} + 1}} - \\frac{v}{\\sqrt{- u^{2} \\cos^{2}{\\left(\\psi_{n} \\right)} + 1} \\cos{\\left(\\phi_{n} \\right)}} + y_{n}\\right)^{2}$"
      ],
      "text/plain": [
       "(-u*cos(psi_n)*tan(phi_n)/sqrt(-u**2*cos(psi_n)**2 + 1) - v/(sqrt(-u**2*cos(psi_n)**2 + 1)*cos(phi_n)) + y_n)**2"
      ]
     },
     "execution_count": 29,
     "metadata": {},
     "output_type": "execute_result"
    }
   ],
   "source": [
    "m2_e_n"
   ]
  },
  {
   "cell_type": "markdown",
   "metadata": {},
   "source": [
    "Now let's implement our regression algorithm. As before, we start with a feature engineering function. In this case, we can reuse the work that we did for Model 1 bis:"
   ]
  },
  {
   "cell_type": "code",
   "execution_count": 30,
   "metadata": {},
   "outputs": [],
   "source": [
    "def model2_feature_matrix(raw_data):\n",
    "    return model1b_feature_matrix(raw_data)"
   ]
  },
  {
   "cell_type": "markdown",
   "metadata": {},
   "source": [
    "We now write our optimization algorithm:"
   ]
  },
  {
   "cell_type": "code",
   "execution_count": 31,
   "metadata": {},
   "outputs": [],
   "source": [
    "def model2_fit_params(raw_data):\n",
    "    feat_mat = model2_feature_matrix(raw_data)\n",
    "\n",
    "    y = feat_mat[:,2]\n",
    "    phi = feat_mat[:,0]\n",
    "    psi = feat_mat[:,1]\n",
    "    \n",
    "    e_n = m2_e_n\n",
    "    \n",
    "    lam_en = lambdify([y_n, phi_n, psi_n, u, v], e_n)\n",
    "    def squared_error(params):\n",
    "        u, v = params\n",
    "        return np.average(lam_en(y, phi, psi, u, v))\n",
    "\n",
    "    lam_jac_s = [lambdify([y_n, phi_n, psi_n, u, v], sy.diff(e_n, var1)) for var1 in [u, v]]\n",
    "    def squared_err_jac(params):\n",
    "        u, v = params\n",
    "        return np.array([np.average(l(y, phi, psi, u, v)) for l in lam_jac_s])\n",
    "\n",
    "    lam_hess_s = [[lambdify([y_n, phi_n, psi_n, u, v], sy.diff(e_n, var1, var2)) for var1 in [u, v]] for var2 in [u, v]]\n",
    "    def squared_err_hess(params):\n",
    "        u, v = params\n",
    "        return np.array([[np.average(l(y, phi, psi, u, v)) for l in row] for row in lam_hess_s])\n",
    "\n",
    "    def squared_err_hessp(params, p):\n",
    "        hess = np.matrix(squared_err_hess(params))\n",
    "        return np.matmul(hess, p)\n",
    "\n",
    "    opt_res = opt.minimize(\n",
    "        squared_error, (0.01, 0.01), \n",
    "        bounds = ((0, 1), (0, 1)),\n",
    "        method='trust-exact', \n",
    "        jac=squared_err_jac, \n",
    "        hess=squared_err_hess\n",
    "        )\n",
    "    \n",
    "    return opt_res"
   ]
  },
  {
   "cell_type": "markdown",
   "metadata": {},
   "source": [
    "### Model 2: results"
   ]
  },
  {
   "cell_type": "markdown",
   "metadata": {},
   "source": [
    "Let's run the above algorithm on our training data, to see the **inferred parameters**:"
   ]
  },
  {
   "cell_type": "code",
   "execution_count": 32,
   "metadata": {},
   "outputs": [
    {
     "name": "stdout",
     "output_type": "stream",
     "text": [
      "Model 2 best-fit params are alpha = 23.69° and epsilon = 0.85°\n"
     ]
    }
   ],
   "source": [
    "model2_optres = model2_fit_params(raw_training_data)\n",
    "m2_u_opt, m2_v_opt = model2_optres.x\n",
    "print(\"Model 2 best-fit params are alpha = {:.2f}° and epsilon = {:.2f}°\".format(in_degrees(np.arcsin(m2_u_opt)), in_degrees(np.arcsin(m2_v_opt))))"
   ]
  },
  {
   "cell_type": "markdown",
   "metadata": {},
   "source": [
    "We obtain a similar value of $\\alpha$ as in the previous model, but a non-zero value of $\\epsilon$. \n",
    "\n",
    "This suggests that our new model fits the training data better, which we can verify by checking the RMS error:"
   ]
  },
  {
   "cell_type": "code",
   "execution_count": 33,
   "metadata": {},
   "outputs": [
    {
     "data": {
      "text/plain": [
       "0.020915923351698385"
      ]
     },
     "execution_count": 33,
     "metadata": {},
     "output_type": "execute_result"
    }
   ],
   "source": [
    "model2_rmse = np.sqrt(model2_optres.fun * 2)\n",
    "model2_rmse"
   ]
  },
  {
   "cell_type": "markdown",
   "metadata": {},
   "source": [
    "So our RMS error improved by about 20%. More importantly, what is our new **test error?**"
   ]
  },
  {
   "cell_type": "code",
   "execution_count": 34,
   "metadata": {},
   "outputs": [
    {
     "name": "stdout",
     "output_type": "stream",
     "text": [
      "On test data, Model 2 achieves a Root Mean Squared prediction error of 3.0 minutes.\n"
     ]
    }
   ],
   "source": [
    "def model2_daylight_predictions(raw_data, u_opt, v_opt):\n",
    "    feat_mat = model2_feature_matrix(raw_data)\n",
    "    lam_pn = lambdify([phi_n, psi_n, u, v], m2_p_n)\n",
    "    phi = feat_mat[:,0]\n",
    "    psi = feat_mat[:,1]\n",
    "    y = lam_pn(phi, psi, u_opt, v_opt)\n",
    "    return day_duration_s * (1 - np.arccos(y) / np.pi)\n",
    "\n",
    "print(\"On test data, Model 2 achieves a Root Mean Squared prediction error of {:.1f} minutes.\".format(rms_test_error(model2_daylight_predictions(raw_test_data, m2_u_opt, m2_v_opt), daylight_durations(raw_test_data))  / 60))\n"
   ]
  },
  {
   "cell_type": "markdown",
   "metadata": {},
   "source": [
    "Cool, we got our error down from 11 minutes to about 3 minutes! This suggests we have improved our prediction power."
   ]
  },
  {
   "cell_type": "markdown",
   "metadata": {},
   "source": [
    "Are we sure we found the best-fit values for our parameters, rather than a local minimum? Let's **plot our optimization landscape:**"
   ]
  },
  {
   "cell_type": "code",
   "execution_count": 35,
   "metadata": {
    "scrolled": false
   },
   "outputs": [
    {
     "data": {
      "image/png": "[encoded data removed]",
      "text/plain": [
       "<Figure size 432x288 with 2 Axes>"
      ]
     },
     "metadata": {
      "needs_background": "light"
     },
     "output_type": "display_data"
    }
   ],
   "source": [
    "def plot_model2_rms(raw_data, model2_optres):\n",
    "    u_opt, v_opt = model2_optres.x\n",
    "    \n",
    "    us = np.linspace(0.2, 0.6, 1e2)\n",
    "    vs = np.linspace(0.0, 0.4, 1e2)\n",
    "\n",
    "    C2 = np.zeros((np.shape(vs)[0], np.shape(us)[0]))\n",
    "    for m in raw_data:\n",
    "        lat, lng = m['pos']\n",
    "        dl_s = parse_daylight_s(m['daylight'])\n",
    "        year_f = parse_year_fraction(m['date'], lng)\n",
    "        psi = 2 * np.pi * (year_f - june21_yf)\n",
    "        phi = lat * np.pi / 180\n",
    "        night_fraction = (1 - dl_s / day_duration_s)\n",
    "        y = np.cos(np.pi * night_fraction)\n",
    "        Rn = np.square(y - np.matmul(np.mat(vs).transpose(), np.mat((1 - (np.cos(psi) * us) ** 2) ** (-0.5) / np.cos(phi))) - np.tan(phi) * np.tan(np.arcsin(np.cos(psi) * np.matmul(np.mat(np.ones(len(vs))).transpose(), np.mat(us)))))\n",
    "        C2 += Rn\n",
    "    C2 = (C2 / N) ** 0.5\n",
    "\n",
    "    fig, (ax0) = plt.subplots(nrows=1)\n",
    "    im = ax0.contourf(us, vs, C2, 50)\n",
    "    fig.colorbar(im, ax=ax0)\n",
    "    ax0.set_title('Model 2 RMSE')\n",
    "    ax0.xaxis.set_label_text('u (a.k.a sin(alpha))')\n",
    "    ax0.yaxis.set_label_text('v (a.k.a sin(eps))')\n",
    "    ax0.plot([u_opt], [v_opt], marker='+', color='r', label=\"Best fit\")\n",
    "    ax0.plot(np.full(len(vs), np.sin(real_tilt)), vs, color='w', linestyle='--', label=\"True alpha\")\n",
    "    ax0.legend()\n",
    "    plt.show()\n",
    "    \n",
    "plot_model2_rms(raw_training_data, model2_optres)"
   ]
  },
  {
   "cell_type": "markdown",
   "metadata": {},
   "source": [
    "This looks like a nicely convex problem, well approximated by a quadratic function, so it's no surprise that a Hessian-based algorithm quickly converged to the best solution:"
   ]
  },
  {
   "cell_type": "code",
   "execution_count": 36,
   "metadata": {},
   "outputs": [
    {
     "data": {
      "text/plain": [
       "     fun: 0.00021873792482706087\n",
       "    hess: array([[0.8785235 , 0.107316  ],\n",
       "       [0.107316  , 3.35093931]])\n",
       "     jac: array([3.88377123e-06, 1.94827207e-07])\n",
       " message: 'Optimization terminated successfully.'\n",
       "    nfev: 4\n",
       "    nhev: 4\n",
       "     nit: 3\n",
       "    njev: 4\n",
       "  status: 0\n",
       " success: True\n",
       "       x: array([0.40171826, 0.01486107])"
      ]
     },
     "execution_count": 36,
     "metadata": {},
     "output_type": "execute_result"
    }
   ],
   "source": [
    "model2_optres"
   ]
  },
  {
   "cell_type": "markdown",
   "metadata": {},
   "source": [
    "The above object is a `scipy.optimize` optimization result. We see that the optimization converged in only 3 iterations. Also notice that we get the best-fit point (`x`), value (`fun`) and hessian (`hess`) - these will be useful in the [section about Bayesian analysis](#Bayesian-analysis)!"
   ]
  },
  {
   "cell_type": "markdown",
   "metadata": {},
   "source": [
    "### What might be causing $\\epsilon$?"
   ]
  },
  {
   "cell_type": "markdown",
   "metadata": {},
   "source": [
    "The most immediate explanation for $\\epsilon$ is that **the Sun is not a punctual source of light** (night does not start as soon as the center of the Sun is below the horizon).\n",
    "\n",
    "Assuming this as the explanation, a little bit of modeling and some approximations would predict that:\n",
    "\n",
    "$$ \\epsilon = \\frac{R_S}{d_{ES}} $$\n",
    "\n",
    "... in which $R_S$ is the radius of the Sun, and $d_{ES}$ is the Earth-Sun distance. In numbers:"
   ]
  },
  {
   "cell_type": "code",
   "execution_count": 37,
   "metadata": {},
   "outputs": [
    {
     "data": {
      "text/plain": [
       "0.2673803043943842"
      ]
     },
     "execution_count": 37,
     "metadata": {},
     "output_type": "execute_result"
    }
   ],
   "source": [
    "R_S = 7e8\n",
    "d_ES = 1.5e11\n",
    "in_degrees((R_S / d_ES))"
   ]
  },
  {
   "cell_type": "markdown",
   "metadata": {},
   "source": [
    "This is much lower than the predicted 0.85°, so another physical phenomenon must be at play here. I'm not an expert, but my number 1 suspect is **atmospheric refraction**. In the future, I might extend this section to simulate it with differential equations."
   ]
  },
  {
   "cell_type": "markdown",
   "metadata": {},
   "source": [
    "## Bayesian analysis"
   ]
  },
  {
   "cell_type": "markdown",
   "metadata": {},
   "source": [
    "The above analysis leaves some questions open. Model 2 fits the data better, but Model 1 is simpler, so it's not definitely clear which one we should prefer. What's more, we have found best-fit parameters for both models, but we don't know what kind of _confidence_ the models have around these inferred values - in particular, could the difference between 23.44° and 23.69° be **explained by the precision level of the inference?**\n",
    "\n",
    "I'll approach these questions using Bayesian methods. This means that I will use a probability distribution to quantify my (our) 'belief' regarding what values our model parameters might take, and then use the observed data to update this belief based on new information, which will result in focusing this probability distribution.\n",
    "\n",
    "---\n",
    "\n",
    "#### Goals of our Bayesian analysis:\n",
    "\n",
    "* Infer our model parameters **not as a punctual value, but as a _posterior probability distribution_** , giving us insights as to the precision of our regression.\n",
    "* **Compare our models**, in terms of which one seems most likely given the observed data.\n",
    "\n",
    "---\n",
    "\n",
    "Professional data scientists would typically use specific software package for this, but for our small-scale problem Scipy will suffice, and I find it interesting to see how Scipy might be used for Bayesian analysis."
   ]
  },
  {
   "cell_type": "markdown",
   "metadata": {},
   "source": [
    "### A review of Bayesian inference"
   ]
  },
  {
   "cell_type": "markdown",
   "metadata": {},
   "source": [
    "For an insightful introduction to the concepts of Bayesian inference, I recommend reading Chapter 3 of David MacKay's _[Information Theory, Inference, and Learning Algorithms](http://www.inference.phy.cam.ac.uk/mackay/itila/)_ - especially relevant here, since MacKay was a physicist! Here I'll just do a small recap of what we'll use.\n",
    "\n",
    "Say we have a model $M_i$ for our data. This model has parameters $\\Theta$, and our goal is to infer $\\Theta$ from observed data $D$; I'll assume we have observed the value $D = D_0$ for the random variable $D$.\n",
    "\n",
    "We start by choosing a **_prior distribution_** $P(\\Theta | M_i)$ that we can all agree on for our parameters: this is a probability distribution which describes quantitatively what values $\\Theta$ might reasonably take. $P(\\Theta | M_i)$ will typically be rather broad, because we want to be open-minded about the possible values of our parameters.\n",
    "\n",
    "We also choose a probability distribution $P(D | \\Theta, M_i)$ for the observed data $D$ given the parameters $\\Theta$. In the case of curve-fitting (which is what we're doing here), the observed data $D$ will typically consist of observations $(t_n, x_n)$, describe probabilistically as $t_n = f_{\\Theta}(x_n) + \\nu_n$, where the $\\nu_n$ are independent 'noise' random variables which distribution depends on $\\Theta$ (a common choice is to choose 0-mean gaussian distributions for the $\\nu_n$).\n",
    "\n",
    "Having done that, we infer our **_posterior belief_** in the parameters using Bayes' Theorem:\n",
    "\n",
    "$$P(\\Theta | D = D_0, M_i) = \\frac{1}{P(D = D_0 | M_i)} P(D = D_0 | \\Theta, M_i) P(\\Theta | M_i)$$\n",
    "\n",
    "In the above formula, the only factor we can't compute directly is $P(D = D_0 | M_i)$, a.k.a the **_model evidence_**. But note that it does not depend on $\\Theta$, so that $\\frac{1}{P(D = D_0 | M_i)}$ can be treated as a normalization constant. What's more, since $P(\\Theta | D = D_0, M_i)$ is a probability density for $\\Theta$ (thus summing to $1$):\n",
    "\n",
    "$$ P(D = D_0 | M_i) = \\int{P(D = D_0 | \\Theta, M_i) P(\\Theta | M_i) d\\Theta} $$"
   ]
  },
  {
   "cell_type": "markdown",
   "metadata": {},
   "source": [
    "A final point of note about the Bayesian approach is that the methodology changes: we no longer need to separate the data between a training set and a test test. We will therefore run the analyses on all the available data:"
   ]
  },
  {
   "cell_type": "code",
   "execution_count": 38,
   "metadata": {},
   "outputs": [],
   "source": [
    "raw_data_all = raw_training_data + raw_test_data"
   ]
  },
  {
   "cell_type": "markdown",
   "metadata": {},
   "source": [
    "### Bayesian analysis of Model 1 bis"
   ]
  },
  {
   "cell_type": "markdown",
   "metadata": {},
   "source": [
    "In the case of Model 1, we define $\\Theta := (u, \\sigma)$ where $u = \\sin(\\alpha)$ and $\\sigma$ is the standard deviation for the noise around observations.\n",
    "\n",
    "We choose $P(D | \\Theta, M_1)$ by saying that:\n",
    "\n",
    "$$y_n = f_{\\Theta}(\\phi_n, \\psi_n) + \\nu_n$$ \n",
    "\n",
    "...where:\n",
    "\n",
    "* $y_n := \\cos(\\pi (1 - d_f))$ is the 'target' variable of the regression.\n",
    "* $\\phi_n$ is the latitude, $\\psi_n$ is the angle representing the time of the year ($\\psi := 2 \\pi \\frac{t - t_S}{T_Y}$)\n",
    "* $f_{\\Theta}(\\phi_n, \\psi_n) := \\tan(\\phi_n)  \\tan(\\arcsin(u \\cos(\\psi_n)))$\n",
    "* $\\nu_n$ is the element of randomness: a 'noise' random variable with a 0-mean Gaussian distribution, i.e:\n",
    "\n",
    "$$P(\\nu_n | \\Theta, M_1) = \\frac{1}{\\sqrt{2 \\pi} \\sigma} e^{-\\frac{\\nu_n^2}{2 \\sigma^2}}$$\n",
    "\n",
    "The above may seem arbitrary, but it is only reformulating our previous least-squares regression problem in probabilistic terms, so we are not really departing from Model 1. (More precisely, what we did in the least-squares regression corresponded to finding a _maximum likelihood_ estimate for $u$ in the above formula; our Bayesian analysis will yield a more nuanced answer as to what $u$ might be, as it will be a posterior probability distribution rather than a single point estimate).\n",
    "\n",
    "Finally, we have to choose a prior $P(\\Theta| M_1)$. I'll make the following assumptions, hopefully you won't find them too arbitrary:\n",
    "\n",
    "1. Given that $u = sin(\\alpha)$, I'll assume that **$u$ has a uniform distribution in $[0, 1]$.**\n",
    "2. I have no precise idea of what the order of magnitude of $\\sigma$ might be. Since $y_n$ ranges in $[-1,1]$, I'll assume $\\sigma$ can be no higher than $1$. Since my daylight lengths are measured with the precision of 1 minute, I expect at least that level of noise on $d_f$. To be open-minded about this, I'll assume $\\sigma$ can't go below $10^{-4}$. Putting all these arguments together, I'll assume that **$\\log_{10}(\\sigma)$ has a uniform distribution in $[-4, 0]$.**"
   ]
  },
  {
   "cell_type": "markdown",
   "metadata": {},
   "source": [
    "#### SymPy representation"
   ]
  },
  {
   "cell_type": "markdown",
   "metadata": {},
   "source": [
    "To help with our future computations, let's program these modeled probabilities using SymPy. Because probabilities tend to multiply, and additions are easier to handle than multiplications, we'll work with log-probabilities rather than direct probabilities.\n",
    "\n",
    "Let's start by describing our prior distribution by defining $\\ln(P(\\Theta =(u, \\sigma) | M_1))$:"
   ]
  },
  {
   "cell_type": "code",
   "execution_count": 39,
   "metadata": {
    "scrolled": true
   },
   "outputs": [
    {
     "data": {
      "text/latex": [
       "$\\displaystyle \\log{\\left(\\frac{1}{\\sigma} \\right)} - 2.22032680636785$"
      ],
      "text/plain": [
       "log(1/sigma) - 2.22032680636785"
      ]
     },
     "execution_count": 39,
     "metadata": {},
     "output_type": "execute_result"
    }
   ],
   "source": [
    "sigma = sy.symbols('sigma')\n",
    "\n",
    "u_bounds = (0, 1)\n",
    "sigma_bounds = (1e-4, 1)\n",
    "\n",
    "lp1b_theta = np.log(1 / (u_bounds[1] - u_bounds[0])) + sy.ln(1 / sigma) - np.log(np.log(sigma_bounds[1]) - np.log(sigma_bounds[0]))\n",
    "\n",
    "lp1b_theta"
   ]
  },
  {
   "cell_type": "markdown",
   "metadata": {},
   "source": [
    "Now we define the log-probability $\\ln(P(y_n, \\phi_n, \\psi_n| \\Theta, M_1))$ of observing a data point:"
   ]
  },
  {
   "cell_type": "code",
   "execution_count": 40,
   "metadata": {
    "scrolled": true
   },
   "outputs": [
    {
     "data": {
      "text/latex": [
       "$\\displaystyle - \\log{\\left(\\sigma \\right)} - 0.918938533204673 - \\frac{\\left(- \\frac{u \\cos{\\left(\\psi_{n} \\right)} \\tan{\\left(\\phi_{n} \\right)}}{\\sqrt{- u^{2} \\cos^{2}{\\left(\\psi_{n} \\right)} + 1}} + y_{n}\\right)^{2}}{2 \\sigma^{2}}$"
      ],
      "text/plain": [
       "-log(sigma) - 0.918938533204673 - (-u*cos(psi_n)*tan(phi_n)/sqrt(-u**2*cos(psi_n)**2 + 1) + y_n)**2/(2*sigma**2)"
      ]
     },
     "execution_count": 40,
     "metadata": {},
     "output_type": "execute_result"
    }
   ],
   "source": [
    "lp1b_n = - sy.ln(sigma) - 0.5 * np.log(2 * np.pi) - m1b_e_n / (2 * sigma**2) ## NOTE: because we have modeled our noise as a Gaussian, we can re-use our squared error expression.\n",
    "lp1b_n"
   ]
  },
  {
   "cell_type": "markdown",
   "metadata": {},
   "source": [
    "Now let's start the work of inference."
   ]
  },
  {
   "cell_type": "markdown",
   "metadata": {},
   "source": [
    "#### Inference with the Laplace Approximation"
   ]
  },
  {
   "cell_type": "markdown",
   "metadata": {},
   "source": [
    "As we saw above, exact computation of $P(\\Theta | D, M_1)$ involves integrating the function $P_1^{*}(\\Theta) := P(D | \\Theta, M_i) P(\\Theta | M_i)$. We can easily evaluate $P_1^{*}(\\Theta)$ at a given point $\\Theta$, but **integrals are not easy,** even for computers.\n",
    "\n",
    "So instead of doing that, we'll first use an approximation called the **[Laplace Method](http://www.inference.org.uk/mackay/itprnn/ps/341.342.pdf)**. This approximation will turn out to be very accurate here, and will also help us do the exact integration downstream.\n",
    "\n",
    "The Laplace Method consist at approximating $P(\\Theta | D, M_1)$ by a Gaussian. To do that, we need to find a point $\\Theta_{\\text{MAP}}$ at which $P_1^{*}$ reaches its maximum ('MAP' stands for _Maximum A Posteriori_ ), as well as the Hessian of $P_1^{*}(\\Theta)$ at $\\Theta_{\\text{MAP}}$, which will correspond to the precision matrix of the Gaussian.\n",
    "\n",
    "Luckily, `scipy.optimize` gives us everything we need for doing that efficiently: we can use `scipy.optimize.minimize()` for finding $\\Theta_{\\text{MAP}}$ by minimizing $- \\ln (P_1^{*}(\\Theta))$, along with Sympy for differentiating (and in particular computing the Hessian).\n",
    "\n",
    "I wrote a generic helper function [`find_map()`](https://github.com/vvvvalvalval/sciencey-stuff/blob/90615d901af98744d65d477b6a96b758de90cc53/utils/scipy_bayes.py#L17) for doing that in a package `utils.scipy_bayes`, which we can now apply to Model 1:"
   ]
  },
  {
   "cell_type": "code",
   "execution_count": 41,
   "metadata": {},
   "outputs": [],
   "source": [
    "import utils.scipy_bayes as scp_bayes"
   ]
  },
  {
   "cell_type": "code",
   "execution_count": 42,
   "metadata": {},
   "outputs": [],
   "source": [
    "def find_model1b_map(raw_data):\n",
    "    mat = model1b_feature_matrix(raw_data)\n",
    "    y = mat[:,-1]\n",
    "    phi = mat[:, 0]\n",
    "    psi = mat[:, 1]\n",
    "    \n",
    "    return scp_bayes.find_map(lp1b_theta, lp1b_n, [y_n, phi_n, psi_n], [u, sigma], [y, phi, psi], [0.5, 0.1], (u_bounds, sigma_bounds))\n",
    "\n",
    "m1b_map = find_model1b_map(raw_data_all)"
   ]
  },
  {
   "cell_type": "code",
   "execution_count": 43,
   "metadata": {
    "scrolled": true
   },
   "outputs": [
    {
     "data": {
      "text/plain": [
       "     fun: -525.0316918621952\n",
       "    hess: array([[1.74831348e+05, 5.00068330e-04],\n",
       "       [5.00068330e-04, 7.88057814e+05]])\n",
       "     jac: array([-6.01454462e-06, -5.63536908e-05])\n",
       " message: 'Optimization terminated successfully.'\n",
       "    nfev: 14\n",
       "    nhev: 14\n",
       "     nit: 13\n",
       "    njev: 9\n",
       "  status: 0\n",
       " success: True\n",
       "       x: array([0.4024909 , 0.02405489])"
      ]
     },
     "execution_count": 43,
     "metadata": {},
     "output_type": "execute_result"
    }
   ],
   "source": [
    "m1b_map"
   ]
  },
  {
   "cell_type": "markdown",
   "metadata": {},
   "source": [
    "The above optimization result gives us the mean (`m1_map.x`) and precision matrix (`m1_map.hess`) of the approximating Gaussian. We can use these to compute 99% **_credible intervals_ for $\\alpha$ and $\\sigma$**. Again, we use a [small generic function](https://github.com/vvvvalvalval/sciencey-stuff/blob/90615d901af98744d65d477b6a96b758de90cc53/utils/scipy_bayes.py#L82) written for that purpose:"
   ]
  },
  {
   "cell_type": "code",
   "execution_count": 44,
   "metadata": {},
   "outputs": [
    {
     "data": {
      "text/plain": [
       "[23.28568818582173, 24.183838379509243]"
      ]
     },
     "execution_count": 44,
     "metadata": {},
     "output_type": "execute_result"
    }
   ],
   "source": [
    "m1b_alpha_99 = [in_degrees(np.arcsin(u)) for u in scp_bayes.laplace_99_confidence_interval(m1b_map, 0)]\n",
    "m1b_alpha_99"
   ]
  },
  {
   "cell_type": "markdown",
   "metadata": {},
   "source": [
    "#### Inference with numerical integration"
   ]
  },
  {
   "cell_type": "markdown",
   "metadata": {},
   "source": [
    "We'll now compute the posterior distribution using numerical integration.\n",
    "\n",
    "`scipy.integrate` gives us ready-made algorithms for integration, but they unfortunately have **trouble dealing with sharply-peaked integrands**, as is typically the case of $P_1^{*}(\\Theta)$. We'll need to help `scipy.integrate` a bit, by pointing it at a region where most of the probability mass lies.\n",
    "\n",
    "Fortunately, our previous work for the Laplace Approximation has already given us all we need: $\\Theta_{\\text{MAP}}$ tells us where the probability peak is, and the Hessian tells us the approximate dimensions of the region occupied by this peak.\n",
    "\n",
    "Let's write a generic function for running the required integrations and plotting the posterior distribution of a model parameter:"
   ]
  },
  {
   "cell_type": "code",
   "execution_count": 45,
   "metadata": {},
   "outputs": [],
   "source": [
    "import scipy.integrate as intgr\n",
    "\n",
    "def plot_posterior(prior_logp_expr, datum_logp_expr, data_syms, theta_syms, data_values, theta0, theta_bounds, plotted_i):\n",
    "    \n",
    "    map_optres = scp_bayes.find_map(prior_logp_expr, datum_logp_expr, data_syms, theta_syms, data_values, theta0, theta_bounds)\n",
    "    \n",
    "    cov = linalg.inv(map_optres.hess)\n",
    "    std_dev = np.sqrt(cov[plotted_i,plotted_i])\n",
    "    mode = map_optres.x[plotted_i]\n",
    "    radius = 5 * std_dev\n",
    "    xs = np.linspace(mode - radius, mode + radius, 100)\n",
    "    ## Laplace Approximation\n",
    "    ys_lpl = np.array([np.exp(-0.5 * ((x - mode) / std_dev) ** 2) for x in xs])\n",
    "    ys_lpl = ys_lpl / np.sum(ys_lpl)\n",
    "    plt.plot(\n",
    "            xs,\n",
    "            ys_lpl,\n",
    "            '',\n",
    "            label=\"Laplace Approximation\")\n",
    "    \n",
    "    all_syms = [] + list(data_syms) + list(theta_syms)\n",
    "    lam_f_n = lambdify(all_syms, datum_logp_expr)\n",
    "    lam_f_prior = lambdify(all_syms, prior_logp_expr)\n",
    "    pvalues = [] + list(data_values)\n",
    "    \n",
    "    def f(theta):\n",
    "        args = pvalues + list(theta)\n",
    "        ## NOTE we're normalizing such that the density is 1 at the mode of the distribution.\n",
    "        return np.exp(np.sum(lam_f_n(*args)) + lam_f_prior(*args) + map_optres.fun)\n",
    "\n",
    "    D = len(theta_bounds)\n",
    "    \n",
    "    def fx(x):\n",
    "        def h(*theta1):\n",
    "            theta = theta1[0:plotted_i] + (x,) + theta1[plotted_i: D - 1]\n",
    "            return f(theta)\n",
    "        return h\n",
    "    \n",
    "    theta1_bounds = theta_bounds[0:plotted_i] + theta_bounds[plotted_i + 1: D]\n",
    "    \n",
    "    def var_intgr_opts(i):\n",
    "        points = [(map_optres.x[i] + k*np.sqrt(cov[i,i])) for k in [-10, 0, 10]]\n",
    "        return {'points': points}\n",
    "    \n",
    "    intgr_opts = [var_intgr_opts(i) for i in range(D) if i != plotted_i]\n",
    "    \n",
    "    def g(x):\n",
    "        r, err = intgr.nquad(fx(x), theta1_bounds, opts=intgr_opts)\n",
    "        return r\n",
    "    \n",
    "    ys_intr = np.array([g(x) for x in xs])\n",
    "    ys_intr = ys_intr / np.sum(ys_intr)\n",
    "    plt.plot(\n",
    "            xs,\n",
    "            ys_intr,\n",
    "            '',\n",
    "            label=\"Numerical Integration\")\n",
    "    ax = plt.gca()\n",
    "    ax.set_title('Posterior probability of {}'.format(str(theta_syms[plotted_i])))\n",
    "    ax.set_ylabel('Probability density')\n",
    "    ax.set_xlabel(str(theta_syms[plotted_i]))\n",
    "    plt.legend()\n",
    "    plt.show()"
   ]
  },
  {
   "cell_type": "markdown",
   "metadata": {},
   "source": [
    "Applying this to Model 1 bis:"
   ]
  },
  {
   "cell_type": "code",
   "execution_count": 46,
   "metadata": {},
   "outputs": [
    {
     "data": {
      "image/png": "[encoded data removed]",
      "text/plain": [
       "<Figure size 432x288 with 1 Axes>"
      ]
     },
     "metadata": {
      "needs_background": "light"
     },
     "output_type": "display_data"
    }
   ],
   "source": [
    "def plot_posterior_m1b(raw_data, var_idx):\n",
    "    mat = model1b_feature_matrix(raw_data)\n",
    "    y = mat[:,-1]\n",
    "    phi = mat[:, 0]\n",
    "    psi = mat[:, 1]\n",
    "    \n",
    "    theta0 = [0.5, 0.1]\n",
    "    theta_bounds = (u_bounds, sigma_bounds)\n",
    "    \n",
    "    return plot_posterior(lp1b_theta, lp1b_n, [y_n, phi_n, psi_n], [u, sigma], [y, phi, psi],\n",
    "                          [0.0, 0.1], (u_bounds, sigma_bounds),\n",
    "              var_idx)\n",
    "\n",
    "    \n",
    "def plot_u_posterior_m1b(raw_data):\n",
    "    return plot_posterior_m1b(raw_data, 0)\n",
    "\n",
    "\n",
    "plot_u_posterior_m1b(raw_data_all)"
   ]
  },
  {
   "cell_type": "markdown",
   "metadata": {},
   "source": [
    "This plot confirms that the Laplace Approximation worked really well for $u$.\n",
    "\n",
    "Let's do the same for $\\sigma$:"
   ]
  },
  {
   "cell_type": "code",
   "execution_count": 47,
   "metadata": {},
   "outputs": [
    {
     "data": {
      "image/png": "[encoded data removed]",
      "text/plain": [
       "<Figure size 432x288 with 1 Axes>"
      ]
     },
     "metadata": {
      "needs_background": "light"
     },
     "output_type": "display_data"
    }
   ],
   "source": [
    "def plot_sigma_posterior_m1b(raw_data):\n",
    "    return plot_posterior_m1b(raw_data, 1)\n",
    "\n",
    "\n",
    "plot_sigma_posterior_m1b(raw_data_all)"
   ]
  },
  {
   "cell_type": "markdown",
   "metadata": {},
   "source": [
    "Here the Laplace Approximation looks just slightly less effective."
   ]
  },
  {
   "cell_type": "markdown",
   "metadata": {},
   "source": [
    "#### Bayesian analysis of Model 1 (linear regression)"
   ]
  },
  {
   "cell_type": "markdown",
   "metadata": {},
   "source": [
    "When we did the linear regression from Model 1, I claimed that the regression result was not a precise one. Let's use Bayesian analysis to quantify that more rigorously.\n",
    "\n",
    "As before, we'll use the Laplace Method to find the posterior distribution of parameters:"
   ]
  },
  {
   "cell_type": "code",
   "execution_count": 48,
   "metadata": {},
   "outputs": [
    {
     "data": {
      "text/plain": [
       "[21.046545106363503, 26.31640253132589]"
      ]
     },
     "execution_count": 48,
     "metadata": {},
     "output_type": "execute_result"
    }
   ],
   "source": [
    "z_n, x_n = sy.symbols('z_n x_n') ## target of the linear regression\n",
    "\n",
    "lp1_theta = np.log(1 / (u_bounds[1] - u_bounds[0])) + sy.ln(1 / sigma) - np.log(np.log(sigma_bounds[1]) - np.log(sigma_bounds[0]))\n",
    "\n",
    "m1_p_n = u * x_n\n",
    "m1_e_n = (z_n - m1_p_n)**2\n",
    "lp1_n = - sy.ln(sigma) - 0.5 * np.log(2 * np.pi) - m1_e_n / (2 * sigma**2)\n",
    "\n",
    "def find_model1_map(raw_data):\n",
    "    psi_sf = 2 * np.pi * june21_yf\n",
    "\n",
    "    mat = model1_design_matrix(raw_data)\n",
    "    x = np.cos(psi_sf) * mat[:,0] + np.sin(psi_sf) * mat[:,1]\n",
    "    z = mat[:,-1]\n",
    "    \n",
    "    return scp_bayes.find_map(lp1_theta, lp1_n, [z_n, x_n], [u, sigma], [z, x], [0.0, 0.1], (u_bounds, sigma_bounds))\n",
    "    \n",
    "m1_map = find_model1_map(raw_data_all)\n",
    "m1_alpha_99 = [in_degrees(np.arcsin(u)) for u in scp_bayes.laplace_99_confidence_interval(m1_map, 0)]\n",
    "m1_alpha_99"
   ]
  },
  {
   "cell_type": "markdown",
   "metadata": {},
   "source": [
    "This supports my claim: our credible interval for $\\alpha$ using linear regression is more than 5 times wider than using non-linear regression!\n",
    "\n",
    "To make this more visual, let's plot jointly the posterior distributions for both regression methods:"
   ]
  },
  {
   "cell_type": "code",
   "execution_count": 64,
   "metadata": {
    "scrolled": false
   },
   "outputs": [
    {
     "data": {
      "image/png": "[encoded data removed]",
      "text/plain": [
       "<Figure size 432x288 with 1 Axes>"
      ]
     },
     "metadata": {
      "needs_background": "light"
     },
     "output_type": "display_data"
    }
   ],
   "source": [
    "def plot_m1_alpha_posteriors(m1_map, m1b_map):\n",
    "    ## NOTE we'll be using the Laplace Approximation here, since we've seen that it is quite accurate for these inferred parameters.\n",
    "    \n",
    "    def gaussian_params(map_optres, plotted_i):\n",
    "        cov = linalg.inv(map_optres.hess)\n",
    "        std_dev = np.sqrt(cov[plotted_i,plotted_i])\n",
    "        mode = map_optres.x[plotted_i]\n",
    "        return (mode, std_dev)\n",
    "        \n",
    "        \n",
    "    ## Choosing the plotted region\n",
    "    \n",
    "    def plotted_interval(map_optres, plotted_i):\n",
    "        mode, std_dev = gaussian_params(map_optres, plotted_i)\n",
    "        radius = 3.5 * std_dev\n",
    "        return (mode - radius, mode + radius)\n",
    "    \n",
    "    m1_low, m1_high = plotted_interval(m1_map, 0)\n",
    "    m1b_low, m1b_high = plotted_interval(m1b_map, 0)\n",
    "    \n",
    "    plotted_low = min(m1_low, m1b_low)\n",
    "    plotted_high = max(m1_high, m1b_high)\n",
    "\n",
    "    us = np.linspace(plotted_low, plotted_high, 2000)\n",
    "    \n",
    "    \n",
    "    ## Plotting\n",
    "\n",
    "    # This time we'll be plotting the posterior of alpha itself in degrees, rather than sin(alpha),\n",
    "    # which requires a density conversion.\n",
    "    def to_angle_density(sin_xs, p_sin_xs):\n",
    "        xs = in_degrees(np.arcsin(sin_xs))\n",
    "        p_xs = p_sin_xs * np.abs(np.cos(xs * np.pi / 180)) * np.pi / 180\n",
    "        return (xs, p_xs)\n",
    "\n",
    "    def plot_posterior(regr_method_name, map_optres, plotted_i):\n",
    "        mode, std_dev = gaussian_params(map_optres, plotted_i)\n",
    "\n",
    "        ys_lpl = np.exp(-0.5 * ((us - mode) / std_dev) ** 2)/ (np.sqrt(2 * np.pi) * std_dev)\n",
    "        alphas, p_alphas = to_angle_density(us, ys_lpl)\n",
    "        plt.plot(alphas, p_alphas, '', label=regr_method_name)\n",
    "        \n",
    "    plot_posterior(\"M1: linear regression\" , m1_map, 0)\n",
    "    plot_posterior(\"M1b: non-linear regression\" , m1b_map, 0)\n",
    "    \n",
    "    plt.plot(np.ones(100) * in_degrees(real_tilt), np.linspace(0, 1.0, 100), '--', label='True alpha')\n",
    "    \n",
    "    ax = plt.gca()\n",
    "    ax.set_title('Posterior distributions of alpha by Model 1')\n",
    "    ax.set_ylabel('Probability density')\n",
    "    ax.set_xlabel('alpha (degrees)')\n",
    "    plt.legend()\n",
    "    plt.show()\n",
    "    \n",
    "plot_m1_alpha_posteriors(m1_map, m1b_map)"
   ]
  },
  {
   "cell_type": "markdown",
   "metadata": {},
   "source": [
    "### Bayesian analysis of Model 2"
   ]
  },
  {
   "cell_type": "markdown",
   "metadata": {},
   "source": [
    "Our definition of Model 2 is very similar to Model1, with 2 differences:\n",
    "\n",
    "1. We add a parameter $v$, such that $\\Theta := (u, v, \\sigma)$. Similarly to $u$, because $v := \\sin(\\epsilon)$, our prior distribution for $v$ is uniform on $[0, 1]$.\n",
    "2. Our basis function $f_\\Theta$ is more complex: \n",
    "\n",
    "$$f_{\\Theta}(\\phi_n, \\psi_n) := \\frac{v}{\\cos(\\phi_n)\\sqrt{1 - u^2 \\cos(\\psi_n)^2}} + \\tan(\\phi_n)  \\tan(\\arcsin(u \\cos(\\psi_n)))$$"
   ]
  },
  {
   "cell_type": "markdown",
   "metadata": {},
   "source": [
    "We'll now do the analysis by following the same steps as Model 1.\n",
    "\n",
    "We represent our log-probabilities using SymPy:"
   ]
  },
  {
   "cell_type": "code",
   "execution_count": 50,
   "metadata": {},
   "outputs": [
    {
     "data": {
      "text/latex": [
       "$\\displaystyle \\log{\\left(\\frac{1}{\\sigma} \\right)} - 2.22032680636785$"
      ],
      "text/plain": [
       "log(1/sigma) - 2.22032680636785"
      ]
     },
     "execution_count": 50,
     "metadata": {},
     "output_type": "execute_result"
    }
   ],
   "source": [
    "v_bounds = (0, 1)\n",
    "\n",
    "lp2_theta = np.log(1 / (u_bounds[1] - u_bounds[0])) + np.log(1 / (v_bounds[1] - v_bounds[0])) + sy.ln(1 / sigma) - np.log(np.log(sigma_bounds[1]) - np.log(sigma_bounds[0]))\n",
    "lp2_theta"
   ]
  },
  {
   "cell_type": "code",
   "execution_count": 51,
   "metadata": {},
   "outputs": [
    {
     "data": {
      "text/latex": [
       "$\\displaystyle - \\log{\\left(\\sigma \\right)} - 0.918938533204673 - \\frac{\\left(- \\frac{u \\cos{\\left(\\psi_{n} \\right)} \\tan{\\left(\\phi_{n} \\right)}}{\\sqrt{- u^{2} \\cos^{2}{\\left(\\psi_{n} \\right)} + 1}} - \\frac{v}{\\sqrt{- u^{2} \\cos^{2}{\\left(\\psi_{n} \\right)} + 1} \\cos{\\left(\\phi_{n} \\right)}} + y_{n}\\right)^{2}}{2 \\sigma^{2}}$"
      ],
      "text/plain": [
       "-log(sigma) - 0.918938533204673 - (-u*cos(psi_n)*tan(phi_n)/sqrt(-u**2*cos(psi_n)**2 + 1) - v/(sqrt(-u**2*cos(psi_n)**2 + 1)*cos(phi_n)) + y_n)**2/(2*sigma**2)"
      ]
     },
     "execution_count": 51,
     "metadata": {},
     "output_type": "execute_result"
    }
   ],
   "source": [
    "lp2_n = - sy.ln(sigma) - 0.5 * np.log(2 * np.pi) - m2_e_n / (2 * sigma**2)\n",
    "lp2_n"
   ]
  },
  {
   "cell_type": "markdown",
   "metadata": {},
   "source": [
    "We now find the MAP parameters:"
   ]
  },
  {
   "cell_type": "code",
   "execution_count": 52,
   "metadata": {},
   "outputs": [
    {
     "data": {
      "text/plain": [
       "     fun: -648.232497007444\n",
       "    hess: array([[ 5.13730581e+05,  5.23299134e+04,  2.22615199e-06],\n",
       "       [ 5.23299134e+04,  1.94147133e+06, -1.60580385e-06],\n",
       "       [ 2.22615199e-06, -1.60580385e-06,  2.32222314e+06]])\n",
       "     jac: array([-1.55971520e-08,  1.12503358e-08, -2.40111461e-07])\n",
       " message: 'Optimization terminated successfully.'\n",
       "    nfev: 16\n",
       "    nhev: 16\n",
       "     nit: 15\n",
       "    njev: 11\n",
       "  status: 0\n",
       " success: True\n",
       "       x: array([0.40117631, 0.01513539, 0.01401298])"
      ]
     },
     "execution_count": 52,
     "metadata": {},
     "output_type": "execute_result"
    }
   ],
   "source": [
    "def find_model2_map(raw_data):\n",
    "    feat_mat = model2_feature_matrix(raw_data)\n",
    "    \n",
    "    y = feat_mat[:,2]\n",
    "    phi = feat_mat[:,0]\n",
    "    psi = feat_mat[:,1]\n",
    "    \n",
    "    theta0 = (0.5, 0.1, 0.1)\n",
    "    theta_bounds = (u_bounds, v_bounds, sigma_bounds)\n",
    "    \n",
    "    return scp_bayes.find_map(lp2_theta, lp2_n, [y_n, phi_n, psi_n], [u, v, sigma], [y, phi, psi], theta0, theta_bounds)\n",
    "\n",
    "m2_map = find_model2_map(raw_data_all)\n",
    "m2_map"
   ]
  },
  {
   "cell_type": "markdown",
   "metadata": {},
   "source": [
    "We now use the Laplace Approximation to get credible intervals for $\\alpha$ and $\\epsilon$:"
   ]
  },
  {
   "cell_type": "code",
   "execution_count": 53,
   "metadata": {},
   "outputs": [
    {
     "data": {
      "text/plain": [
       "[23.389830699963767, 23.914166723422912]"
      ]
     },
     "execution_count": 53,
     "metadata": {},
     "output_type": "execute_result"
    }
   ],
   "source": [
    "m2_alpha_99 = [in_degrees(np.arcsin(u)) for u in scp_bayes.laplace_99_confidence_interval(m2_map, 0)]\n",
    "m2_alpha_99"
   ]
  },
  {
   "cell_type": "code",
   "execution_count": 54,
   "metadata": {},
   "outputs": [
    {
     "data": {
      "text/plain": [
       "[0.7436837495528448, 0.9907739336626754]"
      ]
     },
     "execution_count": 54,
     "metadata": {},
     "output_type": "execute_result"
    }
   ],
   "source": [
    "m2_eps_99 = [in_degrees(np.arcsin(v)) for v in scp_bayes.laplace_99_confidence_interval(m2_map, 1)]\n",
    "m2_eps_99"
   ]
  },
  {
   "cell_type": "markdown",
   "metadata": {},
   "source": [
    "Let's now plot the posterior distributions for our parameters:"
   ]
  },
  {
   "cell_type": "code",
   "execution_count": 55,
   "metadata": {},
   "outputs": [],
   "source": [
    "def plot_posterior_m2(raw_data, var_idx):\n",
    "    feat_mat = model2_feature_matrix(raw_data)\n",
    "    \n",
    "    y = feat_mat[:,2]\n",
    "    phi = feat_mat[:,0]\n",
    "    psi = feat_mat[:,1]\n",
    "    \n",
    "    theta0 = (0.5, 0.1, 0.1)\n",
    "    theta_bounds = (u_bounds, v_bounds, sigma_bounds)\n",
    "    \n",
    "    return plot_posterior(lp2_theta, lp2_n, [y_n, phi_n, psi_n], [u, v, sigma], \n",
    "              [y, phi, psi], theta0, theta_bounds,\n",
    "              var_idx)"
   ]
  },
  {
   "cell_type": "code",
   "execution_count": 56,
   "metadata": {
    "scrolled": false
   },
   "outputs": [
    {
     "data": {
      "image/png": "[encoded data removed]",
      "text/plain": [
       "<Figure size 432x288 with 1 Axes>"
      ]
     },
     "metadata": {
      "needs_background": "light"
     },
     "output_type": "display_data"
    }
   ],
   "source": [
    "def plot_u_posterior_m2(raw_data):\n",
    "    return plot_posterior_m2(raw_data, 0)\n",
    "    \n",
    "plot_u_posterior_m2(raw_data_all)"
   ]
  },
  {
   "cell_type": "code",
   "execution_count": 57,
   "metadata": {
    "scrolled": true
   },
   "outputs": [
    {
     "data": {
      "image/png": "[encoded data removed]",
      "text/plain": [
       "<Figure size 432x288 with 1 Axes>"
      ]
     },
     "metadata": {
      "needs_background": "light"
     },
     "output_type": "display_data"
    }
   ],
   "source": [
    "def plot_v_posterior_m2(raw_data):\n",
    "    return plot_posterior_m2(raw_data, 1)\n",
    "\n",
    "plot_v_posterior_m2(raw_data_all)"
   ]
  },
  {
   "cell_type": "markdown",
   "metadata": {},
   "source": [
    "On my machine, these commands took much longer to execute, as they now involve integration in 3D. We start understanding why Bayesian data scientists use specialized integration tools! (or approximations)."
   ]
  },
  {
   "cell_type": "markdown",
   "metadata": {},
   "source": [
    "### Model comparison"
   ]
  },
  {
   "cell_type": "markdown",
   "metadata": {},
   "source": [
    "Bayesian methods can also help us assess our preference between several models, by computing the _model evidence_ $P(D | M_i)$. If a model has more evidence than another, we trust it more.\n",
    "\n",
    "As we saw above, the model evidence can be computed as:\n",
    "\n",
    "$$ P(D | M_i) = \\int{P^*_i(\\Theta) d\\Theta} $$\n",
    "\n",
    "in which $P^*_i(\\Theta) := P(D | \\Theta, M_i) P(\\Theta | M_i)$, and is easy to compute."
   ]
  },
  {
   "cell_type": "markdown",
   "metadata": {},
   "source": [
    "#### Using the Laplace approximation"
   ]
  },
  {
   "cell_type": "markdown",
   "metadata": {},
   "source": [
    "The Laplace Appriximation also gives us an efficient approximation for computing the model evidence: since $P^*_i(\\Theta)$ is approximated to be an un-normalized gaussian, we only need to compute the scaling factor for a gaussian, which can be done analytically.\n",
    "\n",
    "As before, I wrote a small [generic function for computing the model evidence](https://github.com/vvvvalvalval/sciencey-stuff/blob/90615d901af98744d65d477b6a96b758de90cc53/utils/scipy_bayes.py#L72), which we can apply directly to our MAP optimization results:"
   ]
  },
  {
   "cell_type": "code",
   "execution_count": 58,
   "metadata": {
    "scrolled": true
   },
   "outputs": [
    {
     "name": "stdout",
     "output_type": "stream",
     "text": [
      "By the Laplace approximation, there is 1.960289922500226e+50 times more evidence for Model 2 than for Model 1\n"
     ]
    }
   ],
   "source": [
    "m1b_lapl_logev = scp_bayes.laplace_log_evidence(m1b_map)\n",
    "m2_lapl_logev = scp_bayes.laplace_log_evidence(m2_map)\n",
    "\n",
    "print(\"By the Laplace approximation, there is {} times more evidence for Model 2 than for Model 1\".format(np.exp(m2_lapl_logev - m1b_lapl_logev)))"
   ]
  },
  {
   "cell_type": "markdown",
   "metadata": {},
   "source": [
    "There is **overwhelmingly more evidence for Model 2 than Model 1**, which is not too surprising given how much better it fits the data.\n",
    "\n",
    "That said, keep in mind that both models might have much less evidence than some other model we would come up with. In particular, in this case, **the hypothesis of i.i.d Gaussian noise for explaining errors seems very questionable to me**. As illustrated by the above model comparison, the errors are much more likely explained by the physical model being too simplistic, not by random measurement errors!\n",
    "\n",
    "While we're at it, let's put the final nail in the coffin of linear regression here, by comparing the evidences of Model 1 bis and Model 1:"
   ]
  },
  {
   "cell_type": "code",
   "execution_count": 59,
   "metadata": {
    "scrolled": true
   },
   "outputs": [
    {
     "name": "stdout",
     "output_type": "stream",
     "text": [
      "By the Laplace approximation, there is 1.676391003313434e+183 times more evidence for Model 1 bis (non-linear regression) than for Model 1 (linear regression)\n"
     ]
    }
   ],
   "source": [
    "m1_lapl_logev = scp_bayes.laplace_log_evidence(m1_map)\n",
    "print(\"By the Laplace approximation, there is {} times more evidence for Model 1 bis (non-linear regression) than for Model 1 (linear regression)\".format(np.exp(m1b_lapl_logev - m1_lapl_logev)))\n"
   ]
  },
  {
   "cell_type": "markdown",
   "metadata": {},
   "source": [
    "#### Using numerical integration"
   ]
  },
  {
   "cell_type": "markdown",
   "metadata": {},
   "source": [
    "We now compute Model evidences using numerical integration. Again, most of the work is done by calling a [generic helper function](https://github.com/vvvvalvalval/sciencey-stuff/blob/90615d901af98744d65d477b6a96b758de90cc53/utils/scipy_bayes.py#L89) in `scp_bayes`:"
   ]
  },
  {
   "cell_type": "code",
   "execution_count": 60,
   "metadata": {},
   "outputs": [],
   "source": [
    "def integrate_model1b_logevidence(raw_data):\n",
    "    feat_mat = model1b_feature_matrix(raw_data)\n",
    "    \n",
    "    y = feat_mat[:,2]\n",
    "    phi = feat_mat[:,0]\n",
    "    psi = feat_mat[:,1]\n",
    "    \n",
    "    theta0 = [0.5, 0.1]\n",
    "    theta_bounds = (u_bounds, sigma_bounds)\n",
    "    \n",
    "    return scp_bayes.integrate_evidence(lp1b_theta, lp1b_n, [y_n, phi_n, psi_n], [u, sigma], [y, phi, psi], theta0, theta_bounds)\n",
    "                \n",
    "m1b_logev, m1b_logev_err = integrate_model1b_logevidence(raw_data_all)    \n",
    "\n",
    "def integrate_model2_logevidence(raw_data):\n",
    "    feat_mat = model2_feature_matrix(raw_data)\n",
    "    \n",
    "    y = feat_mat[:,2]\n",
    "    phi = feat_mat[:,0]\n",
    "    psi = feat_mat[:,1]\n",
    "    \n",
    "    theta0 = (0.5, 0.1, 0.1)\n",
    "    theta_bounds = (u_bounds, v_bounds, sigma_bounds)\n",
    "    \n",
    "    return scp_bayes.integrate_evidence(lp2_theta, lp2_n, [y_n, phi_n, psi_n], [u, v, sigma], [y, phi, psi], theta0, theta_bounds)\n",
    "\n",
    "m2_logev, m2_logeverr = integrate_model2_logevidence(raw_data_all)    "
   ]
  },
  {
   "cell_type": "code",
   "execution_count": 61,
   "metadata": {
    "scrolled": true
   },
   "outputs": [
    {
     "name": "stdout",
     "output_type": "stream",
     "text": [
      "By numerical integration, there is 1.9755142857273216e+50 times more evidence for Model 2 than for Model 1 bis\n"
     ]
    }
   ],
   "source": [
    "print(\"By numerical integration, there is {} times more evidence for Model 2 than for Model 1 bis\".format(np.exp(m2_logev - m1b_logev)))"
   ]
  },
  {
   "cell_type": "markdown",
   "metadata": {},
   "source": [
    "We thus get similar results as with the Laplace approximation."
   ]
  },
  {
   "cell_type": "markdown",
   "metadata": {},
   "source": [
    "## Confession: the math error in the model"
   ]
  },
  {
   "cell_type": "markdown",
   "metadata": {},
   "source": [
    "When I first started writing my experiments into this notebook, I had made a geometry error when modeling the physics of the problem. I had seen a $\\sin(\\theta)$ where I should have seen $\\tan(\\theta)$, leading to the following model:\n",
    "\n",
    "$$ \\frac{\\cos(\\pi (1 - d_f))}{\\tan(\\phi)} = \\sin(\\alpha) \\cos\\left(2 \\pi \\frac{t - t_S}{T_Y}\\right) $$\n",
    "\n",
    "(Correcting this error consisted in wrapping the right-hand side in $\\tan(\\arcsin(...))$)"
   ]
  },
  {
   "cell_type": "markdown",
   "metadata": {},
   "source": [
    "This model, and its extension analogous to model 2, consistently predicted an Earth tilt of about 25.5° rather than 23.5° - but I only knew that was a problem because I was 'cheating': in a real world situation, I would not have known the true value of $\\alpha$. (what then would have been the point of inferring it?)\n",
    "\n",
    "Aside from that, my mathematically erroneous models fitted the data just as well, with similar prediction errors on test data, and similar evidence and posterior distribution widths in the Bayesian analysis. **From the analysis results alone, the faulty models looked just as credible and confident as the corrected ones.**\n",
    "\n",
    "To be fair, most mathematical errors in modeling would result in more spectacular effects in data analysis. In this case, a $\\tan$ was mistaken for a $\\sin$, but these two functions are pretty close for small angles.\n",
    "\n",
    "That said, I see 2 takeways from this:\n",
    "\n",
    "1. **Because a model is confident, does not mean it's right.** A model can predict very well without representing reality.\n",
    "2. When modeling, **write things down carefully.** Trying to explain my mathematical derivation was how I realized my mistake. \"Writing is nature's way of letting you know how sloppy your thinking is.\""
   ]
  },
  {
   "cell_type": "markdown",
   "metadata": {},
   "source": [
    "## Conclusion"
   ]
  },
  {
   "cell_type": "markdown",
   "metadata": {},
   "source": [
    "Without telescopes, and using only a small sample of data from everyday weather services on the Internet, we've been able to estimate the Earth's tilt to a precision of about 0.3°.\n",
    "\n",
    "A **small recap:**\n",
    "* We started with a simple physical model (Model 1), and fitted it to the data using **least-squares linear regression**.\n",
    "* We then discarded linear regression as too fragile. We turned too **non-linear least-squares regression** instead, and implemented it using numerical optimization assisted by symbolic computing. The robustness of the estimation improved, but not the prediction error.\n",
    "* We came up with a **more sophisticated physical model (Model 2)**, and fitted it with non-linear least squares as well.\n",
    "* We refined our analysis through **Bayesian inference**, using first the **Laplace Approximation**, then **numerical integration**.\n",
    "* Both the prediction error and Bayesian analysis depicted Model 2 as superior.\n",
    "\n",
    "Some **lessons learned:**\n",
    "* When doing regression, linearity should not be pursued at all costs. Optimizations algorithm can be very effective at implementing non-linear regression. The a choice of regression method should be made to match the reality of error patterns.\n",
    "* Bayesian analysis offers interesting methods for assessing our confidence in our analyses, and can be easy to implement without specialized tools.\n",
    "* A model can have a high predictive power without representing reality.\n",
    "* Theoretical modeling is tricky (for me at least), writing things down carefully can help.\n",
    "* Science on a computer is fun!\n",
    "\n",
    "I hope you found this interesting. I am fairly new to most of the tools and techniques mentioned here; suggestions for improvement are welcome."
   ]
  }
 ],
 "metadata": {
  "kernelspec": {
   "display_name": "Python 3",
   "language": "python",
   "name": "python3"
  },
  "language_info": {
   "codemirror_mode": {
    "name": "ipython",
    "version": 3
   },
   "file_extension": ".py",
   "mimetype": "text/x-python",
   "name": "python",
   "nbconvert_exporter": "python",
   "pygments_lexer": "ipython3",
   "version": "3.7.4"
  }
 },
 "nbformat": 4,
 "nbformat_minor": 2
}
