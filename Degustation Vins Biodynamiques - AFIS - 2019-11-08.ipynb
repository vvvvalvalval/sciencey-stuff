{
 "cells": [
  {
   "cell_type": "markdown",
   "metadata": {},
   "source": [
    "Cette analyse reprend les résultats d'une expérience de dégustation en double aveugle menée à l'occasion d'une [conférence de l'Association Française pour l'Information Scientifique](https://www.youtube.com/watch?v=gGIKDXt-NRE) sur le thème des vins biodynamiques. Cette expérience a notamment servi à remettre en question les proclamations de certains médias, selon lesquels les vins biodynamiques seraient franchement supérieurs en goût aux vins conventionnels.\n",
    "\n",
    "On propose ici **un traitement statistique différent de celui fait pendant la conférence**, ce qui peut permettre une interprétation plus intuitive des résultats. (Plus précisément : au lieu de calculer la p-valeur pour un _Test de Signifiance à Hypothèse Nulle,_ nous faisons une _Analyse de Données Bayésienne_.) Ceci nous permet notamment :\n",
    "\n",
    "- de répondre à des questions comme : _'quelle est la probabilité que le rouge biodynamique soit supérieur au rouge conventionnel ?'_\n",
    "- de laisser dans l'analyse **une place pour les a-priori personnels,** basés sur le vécu.\n",
    "\n",
    "Le code source de l'analyse est inclus pour les personnes qui souhaiteraient examiner ou reproduire le traitement statistique.\n",
    "\n",
    "Pour les autres, nous recommandons d'aller directement aux **conclusions:**\n",
    "\n",
    "- **[Résumé grand-public](#broad-audience-summary)**\n",
    "- **[Résumé pour relecteurs scientifiques](#scientific-summary)**"
   ]
  },
  {
   "cell_type": "markdown",
   "metadata": {},
   "source": [
    "# Code source"
   ]
  },
  {
   "cell_type": "code",
   "execution_count": 21,
   "metadata": {},
   "outputs": [],
   "source": [
    "import pandas as pd\n",
    "import scipy.stats as sp_stats\n",
    "#import statsmodels.api as stm\n",
    "#import statsmodels.stats.power as smpow\n",
    "\n",
    "from IPython.display import HTML, display"
   ]
  },
  {
   "cell_type": "markdown",
   "metadata": {},
   "source": [
    "#### Input data"
   ]
  },
  {
   "cell_type": "code",
   "execution_count": 2,
   "metadata": {},
   "outputs": [],
   "source": [
    "WINE_WHITE = \"vin blanc\"\n",
    "WINE_RED = \"vin rouge\"\n",
    "wine_colours = [WINE_WHITE, WINE_RED]\n",
    "\n",
    "CONV = \"conventionnel\"\n",
    "BIOD = \"biodynamique\"\n",
    "\n",
    "wine_labels = {\n",
    "    WINE_WHITE: {BIOD: \"A\", CONV: \"B\"},\n",
    "    WINE_RED: {BIOD: \"C\", CONV: \"D\"}\n",
    "}\n",
    "\n",
    "## Note this data won't be used in the analysis.\n",
    "notes_counts = pd.DataFrame(index = [1,2,3,4,5], data={\n",
    "    \"A\": [3,6,7,9,3], \n",
    "    \"B\": [2,7,10,7,2], \n",
    "    \"C\": [3,7,7,9,1], \n",
    "    \"D\": [2,3,11,7,4]\n",
    "  })"
   ]
  },
  {
   "cell_type": "code",
   "execution_count": 3,
   "metadata": {},
   "outputs": [
    {
     "data": {
      "text/html": [
       "<div>\n",
       "<style scoped>\n",
       "    .dataframe tbody tr th:only-of-type {\n",
       "        vertical-align: middle;\n",
       "    }\n",
       "\n",
       "    .dataframe tbody tr th {\n",
       "        vertical-align: top;\n",
       "    }\n",
       "\n",
       "    .dataframe thead th {\n",
       "        text-align: right;\n",
       "    }\n",
       "</style>\n",
       "<table border=\"1\" class=\"dataframe\">\n",
       "  <thead>\n",
       "    <tr style=\"text-align: right;\">\n",
       "      <th></th>\n",
       "      <th>A</th>\n",
       "      <th>B</th>\n",
       "      <th>C</th>\n",
       "      <th>D</th>\n",
       "    </tr>\n",
       "  </thead>\n",
       "  <tbody>\n",
       "    <tr>\n",
       "      <td>1</td>\n",
       "      <td>3</td>\n",
       "      <td>2</td>\n",
       "      <td>3</td>\n",
       "      <td>2</td>\n",
       "    </tr>\n",
       "    <tr>\n",
       "      <td>2</td>\n",
       "      <td>6</td>\n",
       "      <td>7</td>\n",
       "      <td>7</td>\n",
       "      <td>3</td>\n",
       "    </tr>\n",
       "    <tr>\n",
       "      <td>3</td>\n",
       "      <td>7</td>\n",
       "      <td>10</td>\n",
       "      <td>7</td>\n",
       "      <td>11</td>\n",
       "    </tr>\n",
       "    <tr>\n",
       "      <td>4</td>\n",
       "      <td>9</td>\n",
       "      <td>7</td>\n",
       "      <td>9</td>\n",
       "      <td>7</td>\n",
       "    </tr>\n",
       "    <tr>\n",
       "      <td>5</td>\n",
       "      <td>3</td>\n",
       "      <td>2</td>\n",
       "      <td>1</td>\n",
       "      <td>4</td>\n",
       "    </tr>\n",
       "  </tbody>\n",
       "</table>\n",
       "</div>"
      ],
      "text/plain": [
       "   A   B  C   D\n",
       "1  3   2  3   2\n",
       "2  6   7  7   3\n",
       "3  7  10  7  11\n",
       "4  9   7  9   7\n",
       "5  3   2  1   4"
      ]
     },
     "execution_count": 3,
     "metadata": {},
     "output_type": "execute_result"
    }
   ],
   "source": [
    "notes_counts"
   ]
  },
  {
   "cell_type": "code",
   "execution_count": 4,
   "metadata": {},
   "outputs": [
    {
     "data": {
      "text/html": [
       "<div>\n",
       "<style scoped>\n",
       "    .dataframe tbody tr th:only-of-type {\n",
       "        vertical-align: middle;\n",
       "    }\n",
       "\n",
       "    .dataframe tbody tr th {\n",
       "        vertical-align: top;\n",
       "    }\n",
       "\n",
       "    .dataframe thead th {\n",
       "        text-align: right;\n",
       "    }\n",
       "</style>\n",
       "<table border=\"1\" class=\"dataframe\">\n",
       "  <thead>\n",
       "    <tr style=\"text-align: right;\">\n",
       "      <th></th>\n",
       "      <th>préfère conventionnel</th>\n",
       "      <th>pas de préférence</th>\n",
       "      <th>préfère biodynamique</th>\n",
       "    </tr>\n",
       "  </thead>\n",
       "  <tbody>\n",
       "    <tr>\n",
       "      <td>vin blanc</td>\n",
       "      <td>0.43</td>\n",
       "      <td>0.14</td>\n",
       "      <td>0.43</td>\n",
       "    </tr>\n",
       "    <tr>\n",
       "      <td>vin rouge</td>\n",
       "      <td>0.37</td>\n",
       "      <td>0.11</td>\n",
       "      <td>0.52</td>\n",
       "    </tr>\n",
       "  </tbody>\n",
       "</table>\n",
       "</div>"
      ],
      "text/plain": [
       "           préfère conventionnel  pas de préférence  préfère biodynamique\n",
       "vin blanc                   0.43               0.14                  0.43\n",
       "vin rouge                   0.37               0.11                  0.52"
      ]
     },
     "execution_count": 4,
     "metadata": {},
     "output_type": "execute_result"
    }
   ],
   "source": [
    "EX_AEQUO = \"pas de préférence\"\n",
    "PREF_BIOD = \"préfère biodynamique\"\n",
    "PREF_CONV = \"préfère conventionnel\"\n",
    "pref_types = [PREF_CONV, EX_AEQUO, PREF_BIOD]\n",
    "\n",
    "\n",
    "prefs_float = pd.DataFrame(\n",
    "    index = [WINE_WHITE, WINE_RED], \n",
    "    data = {\n",
    "        PREF_CONV: [0.43, 0.37],\n",
    "        EX_AEQUO: [0.14, 0.11],\n",
    "        PREF_BIOD: [0.43, 0.52]\n",
    "    })\n",
    "prefs_float"
   ]
  },
  {
   "cell_type": "code",
   "execution_count": 5,
   "metadata": {},
   "outputs": [
    {
     "data": {
      "text/html": [
       "<div>\n",
       "<style scoped>\n",
       "    .dataframe tbody tr th:only-of-type {\n",
       "        vertical-align: middle;\n",
       "    }\n",
       "\n",
       "    .dataframe tbody tr th {\n",
       "        vertical-align: top;\n",
       "    }\n",
       "\n",
       "    .dataframe thead th {\n",
       "        text-align: right;\n",
       "    }\n",
       "</style>\n",
       "<table border=\"1\" class=\"dataframe\">\n",
       "  <thead>\n",
       "    <tr style=\"text-align: right;\">\n",
       "      <th></th>\n",
       "      <th>préfère conventionnel</th>\n",
       "      <th>pas de préférence</th>\n",
       "      <th>préfère biodynamique</th>\n",
       "    </tr>\n",
       "  </thead>\n",
       "  <tbody>\n",
       "    <tr>\n",
       "      <td>vin blanc</td>\n",
       "      <td>12</td>\n",
       "      <td>4</td>\n",
       "      <td>12</td>\n",
       "    </tr>\n",
       "    <tr>\n",
       "      <td>vin rouge</td>\n",
       "      <td>10</td>\n",
       "      <td>3</td>\n",
       "      <td>14</td>\n",
       "    </tr>\n",
       "  </tbody>\n",
       "</table>\n",
       "</div>"
      ],
      "text/plain": [
       "           préfère conventionnel  pas de préférence  préfère biodynamique\n",
       "vin blanc                     12                  4                    12\n",
       "vin rouge                     10                  3                    14"
      ]
     },
     "execution_count": 5,
     "metadata": {},
     "output_type": "execute_result"
    }
   ],
   "source": [
    "sample_sizes = {\n",
    "    WINE_WHITE: notes_counts[wine_labels[WINE_WHITE][CONV]].sum(),\n",
    "    WINE_RED: notes_counts[wine_labels[WINE_RED][CONV]].sum()\n",
    "}\n",
    "\n",
    "\n",
    "def guess_pref_counts():\n",
    "    \"\"\"\n",
    "    Works out the how many people had each preference, based on the reported fractions.\n",
    "    \"\"\"\n",
    "\n",
    "    def n_having_pref(wine, pref):\n",
    "        if (pref == EX_AEQUO):\n",
    "            return sample_sizes[wine] - (n_having_pref(wine, PREF_CONV) + n_having_pref(wine, PREF_BIOD))\n",
    "        else:\n",
    "            fraction = prefs_float[pref][wine]\n",
    "            sample_size = sample_sizes[wine]\n",
    "            return int(round(fraction * sample_size))\n",
    "        \n",
    "    column_series = {}\n",
    "    for pref in pref_types:\n",
    "        col_counts = []\n",
    "        for wine in wine_colours:\n",
    "           col_counts.append(n_having_pref(wine, pref))\n",
    "        column_series[pref] = col_counts\n",
    "    \n",
    "    prefs_counts = pd.DataFrame(\n",
    "        index = wine_colours, \n",
    "        data = dict(column_series)\n",
    "    )\n",
    "    return prefs_counts\n",
    "\n",
    "\n",
    "prefs_counts = guess_pref_counts()\n",
    "prefs_counts"
   ]
  },
  {
   "cell_type": "markdown",
   "metadata": {},
   "source": [
    "#### Bayesian inference"
   ]
  },
  {
   "cell_type": "code",
   "execution_count": 16,
   "metadata": {},
   "outputs": [],
   "source": [
    "def credibility_that_biodynamical_is_superior(superiority_threshold, prior_counts, pref_counts_for_colour):\n",
    "    \"\"\"\n",
    "    Computes the credibility (i.e posterior probability) that the biodynamical wine is 'superior' (see below) given observed preference counts.\n",
    "    \n",
    "    The proposition 'the biodynamical wine is superior' is true if the probability of someone giving a better score\n",
    "    to the biodynamical wine is at least superiority_threshold.\n",
    "    \n",
    "    \n",
    "    \n",
    "    Returns a tuple of probabilities: (posterior_credibility, prior_credibility)\n",
    "    \"\"\"\n",
    "    \n",
    "    def p_biod_sup(pref_counts):\n",
    "        n_biod = 1 + pref_counts[PREF_BIOD]\n",
    "        n_non_biod = sum([(1 + pref_counts[pref]) for pref in pref_types if not (pref == PREF_BIOD)])\n",
    "        bet = sp_stats.beta(n_biod, n_non_biod)\n",
    "        return bet.sf(superiority_threshold)\n",
    "    \n",
    "    return (p_biod_sup(prior_counts + pref_counts_for_colour), p_biod_sup(prior_counts))\n",
    "\n",
    "\n",
    "superiority_threshold = 2./3.\n",
    "\n",
    "def make_prior_counts(dict_prefs_counts):\n",
    "    return pd.Series(data=dict_prefs_counts, index=None)"
   ]
  },
  {
   "cell_type": "code",
   "execution_count": 14,
   "metadata": {},
   "outputs": [],
   "source": [
    "priors = [{\n",
    "    'prior_label': \"Neutre\",\n",
    "    'prior_description': \"Même crédibilité pour toutes les répartitions possibles entre \" + \"/\".join(pref_types),\n",
    "    'prior_previous_counts': {PREF_BIOD: 0, EX_AEQUO: 0, PREF_CONV:0}\n",
    "}, {\n",
    "    'prior_label': \"Uniforme sur proportion de préférence biodynamique\",\n",
    "    'prior_description': \"Même crédibilité pour toutes les proportions possibles de \" + PREF_BIOD,\n",
    "    'prior_previous_counts': {PREF_BIOD: 0, EX_AEQUO: -0.5, PREF_CONV:-0.5}\n",
    "}, {\n",
    "    'prior_label': \"Légèrement favorable biodynamique\",\n",
    "    'prior_description': \"Correspond à une expérience antérieure de 6 avis préférant le biodynamique à 83%\",\n",
    "    'prior_previous_counts': {PREF_BIOD: 5, EX_AEQUO: 1, PREF_CONV:0}\n",
    "}, {\n",
    "    'prior_label': \"Assez favorable biodynamique\",\n",
    "    'prior_description': \"Correspond à une expérience antérieure de 8 avis préférant le biodynamique à 75%\",\n",
    "    'prior_previous_counts': {PREF_BIOD: 7, EX_AEQUO: 1, PREF_CONV:0}\n",
    "}, {\n",
    "    'prior_label': \"Très favorable biodynamique\",\n",
    "    'prior_description': \"Correspond à une expérience antérieure de 10 avis préférant le biodynamique unanimement.\",\n",
    "    'prior_previous_counts': {PREF_BIOD: 10, EX_AEQUO: 0, PREF_CONV:0}\n",
    "}]"
   ]
  },
  {
   "cell_type": "code",
   "execution_count": 20,
   "metadata": {},
   "outputs": [],
   "source": [
    "## Computing an HTML table of the results\n",
    "\n",
    "def thead(rows):\n",
    "    ret = '<thead>'\n",
    "    for row in rows:\n",
    "        ret += '<tr>'\n",
    "        for (title, colspan) in row:\n",
    "            ret += '<th colspan=' + str(colspan) + '>' + title + '</th>'\n",
    "        ret += '</tr>'\n",
    "    ret += '</thead>'\n",
    "    return ret\n",
    "\n",
    "def html_tr(values):\n",
    "    ret = ''\n",
    "    ret += '<tr>'\n",
    "    for v in values:\n",
    "        ret += '<td>' + str(v) + '</td>'\n",
    "    ret += '</tr>'\n",
    "    return ret\n",
    "    \n",
    "        \n",
    "def results_table():\n",
    "    table_html = '<table>'\n",
    "    table_html += thead([[(\"A priori\",1), (\"Vins\",1), (\"Crédibilité de 'biodynamique >> conventionnel'\", 2)],\n",
    "                        [(\"\",1),\n",
    "                         (\"\",1),\n",
    "                         (\"Avant expérience\",1),\n",
    "                         (\"Après expérience\",1),]])\n",
    "    for prior in priors:\n",
    "        for wine in wine_colours:\n",
    "            (p1, p0) = credibility_that_biodynamical_is_superior(superiority_threshold, make_prior_counts(prior['prior_previous_counts']), prefs_counts.loc[wine])\n",
    "            table_html += html_tr([\n",
    "                prior['prior_label'],\n",
    "                wine,\n",
    "                \"{:.2f}\".format(p0 * 100) + \"%\",\n",
    "                \"{:.2f}\".format(p1 * 100) + \"%\"\n",
    "             ])\n",
    "    table_html += '</table>'\n",
    "    return table_html\n"
   ]
  },
  {
   "cell_type": "markdown",
   "metadata": {},
   "source": [
    "# Conclusions"
   ]
  },
  {
   "cell_type": "markdown",
   "metadata": {},
   "source": [
    "<a id=\"broad-audience-summary\"></a>\n",
    "\n",
    "## Résumé grand-public\n"
   ]
  },
  {
   "cell_type": "markdown",
   "metadata": {},
   "source": [
    "Cette étude analyse les résultats de la dégustation de manière à **estimer la proportion des personnes qui donneraient une meilleure note au vin biodynamique.**\n",
    "\n",
    "Le nombre de voix dans les préférences exprimées en donnent une idée intuitive : 43% pour les vins blancs, 52% pour les vins rouges. Cependant, ces chiffres sont approximatifs, à cause du petit nombre de participants. Peut-être que la vraie proportion est 70%, et que les vins biodynamiques n'ont pas eu de chance."
   ]
  },
  {
   "cell_type": "code",
   "execution_count": 10,
   "metadata": {},
   "outputs": [
    {
     "data": {
      "text/html": [
       "<div>\n",
       "<style scoped>\n",
       "    .dataframe tbody tr th:only-of-type {\n",
       "        vertical-align: middle;\n",
       "    }\n",
       "\n",
       "    .dataframe tbody tr th {\n",
       "        vertical-align: top;\n",
       "    }\n",
       "\n",
       "    .dataframe thead th {\n",
       "        text-align: right;\n",
       "    }\n",
       "</style>\n",
       "<table border=\"1\" class=\"dataframe\">\n",
       "  <thead>\n",
       "    <tr style=\"text-align: right;\">\n",
       "      <th></th>\n",
       "      <th>préfère conventionnel</th>\n",
       "      <th>pas de préférence</th>\n",
       "      <th>préfère biodynamique</th>\n",
       "    </tr>\n",
       "  </thead>\n",
       "  <tbody>\n",
       "    <tr>\n",
       "      <td>vin blanc</td>\n",
       "      <td>12</td>\n",
       "      <td>4</td>\n",
       "      <td>12</td>\n",
       "    </tr>\n",
       "    <tr>\n",
       "      <td>vin rouge</td>\n",
       "      <td>10</td>\n",
       "      <td>3</td>\n",
       "      <td>14</td>\n",
       "    </tr>\n",
       "  </tbody>\n",
       "</table>\n",
       "</div>"
      ],
      "text/plain": [
       "           préfère conventionnel  pas de préférence  préfère biodynamique\n",
       "vin blanc                     12                  4                    12\n",
       "vin rouge                     10                  3                    14"
      ]
     },
     "execution_count": 10,
     "metadata": {},
     "output_type": "execute_result"
    }
   ],
   "source": [
    "prefs_counts ## Ci-dessous, les préférences exprimées lors de la dégustation :"
   ]
  },
  {
   "cell_type": "markdown",
   "metadata": {},
   "source": [
    "Nous partons du principe que si le vin biodynamique était aussi nettement supérieur au vin conventionnel que le prétendent certains médias, au moins 2 personnes sur 3 préfèreraient le vin biodynamiques, et donc la vraie proportion serait au dessus de 66% : si on demandait à 100 millions de personnes de faire la dégustation, plus 66 millions préfèreraient le vin biodynamique.\n",
    "\n",
    "Notre analyse statistique calcule la probabilité que cette proprotion soit si élevée, en tenant compte des a-priori que le lecteur peut raisonnablement avoir de par son expérience préalable des vins biodynamiques. Les résultats sont les suivants :"
   ]
  },
  {
   "cell_type": "code",
   "execution_count": 18,
   "metadata": {},
   "outputs": [
    {
     "data": {
      "text/html": [
       "<table><thead><tr><th colspan=1>A priori</th><th colspan=1>Vins</th><th colspan=2>Crédibilité de 'biodynamique >> conventionnel'</th></tr><tr><th colspan=1></th><th colspan=1></th><th colspan=1>Avant expérience</th><th colspan=1>Après expérience</th></tr></thead><tr><td>Neutre</td><td>vin blanc</td><td>11.11%</td><td>0.25%</td></tr><tr><td>Neutre</td><td>vin rouge</td><td>11.11%</td><td>3.11%</td></tr><tr><td>Uniforme sur proportion de préférence biodynamique</td><td>vin blanc</td><td>33.33%</td><td>0.45%</td></tr><tr><td>Uniforme sur proportion de préférence biodynamique</td><td>vin rouge</td><td>33.33%</td><td>5.03%</td></tr><tr><td>Légèrement favorable biodynamique</td><td>vin blanc</td><td>53.18%</td><td>1.25%</td></tr><tr><td>Légèrement favorable biodynamique</td><td>vin rouge</td><td>53.18%</td><td>8.67%</td></tr><tr><td>Assez favorable biodynamique</td><td>vin blanc</td><td>70.09%</td><td>2.46%</td></tr><tr><td>Assez favorable biodynamique</td><td>vin rouge</td><td>70.09%</td><td>13.54%</td></tr><tr><td>Très favorable biodynamique</td><td>vin blanc</td><td>94.60%</td><td>8.32%</td></tr><tr><td>Très favorable biodynamique</td><td>vin rouge</td><td>94.60%</td><td>30.05%</td></tr></table>"
      ],
      "text/plain": [
       "<IPython.core.display.HTML object>"
      ]
     },
     "metadata": {},
     "output_type": "display_data"
    }
   ],
   "source": [
    "display(HTML(results_table())) ## Les résultats du traitement statistique :"
   ]
  },
  {
   "cell_type": "markdown",
   "metadata": {},
   "source": [
    "Ces résultats montrent pour chaque paire de vins que **l'hypothèse selon laquelle le vin biodynamique serait _nettement supérieur_ au goût est peu crédible,** même en partant d'un a-priori personnel très biaisé en faveur du biodynamique.\n",
    "\n",
    "**Comment interpréter:** La colonne de droite dit par exemple qu'une personne rationnelle avec l'a-priori _'Assez favorable au biodynamique',_ serait avant l'expérience confiante à 70,09% dans la nette supériorité du vin rouge biodynamique, et après l'expérience ne serait plus confiante qu'à 2,46%.\n",
    "\n",
    "- Une manière intuitive d'interpréter ces pourcentages est la suivante : avant l'expérience, cette personne parierait à 7 contre 3 que le rouge biodynamique est _nettement supérieur._ Puis, en tirant les apprentissages de l'expérience, cette personne changerait d'avis, et parierait à 97 contre 3 que le rouge biodynamique n'est **pas** _nettement supérieur._"
   ]
  },
  {
   "cell_type": "markdown",
   "metadata": {},
   "source": [
    "Un aspect intéressant de ce type d'analyses statistiques (dites _bayésiennes_ ) est que contrairement aux tests d'hypothèses avec p-valeur, elles prennent en compte les a-priori personnels. Ça peut être intéressant pour s'adresser à des personnes qui revendiquent que leur pressentiment, forgé par leur vécu, se voie accordé le poids qu'il mérite dans l'analyse."
   ]
  },
  {
   "cell_type": "markdown",
   "metadata": {},
   "source": [
    "<a id=\"scientific-summary\"></a>\n",
    "\n",
    "## Résumé pour relecteurs scientifiques"
   ]
  },
  {
   "cell_type": "markdown",
   "metadata": {},
   "source": [
    "#### Modélisation de l'expérience\n",
    "\n",
    "On modélise la préférence mesurée des goûteurs comme autant de réalisations indépendantes d'une loi multinomiale à 3 valeurs (\"préfère biodynamique\" / \"préfère conventionnel\" / \"pas de préférence\"). \n",
    "\n",
    "- Les 3 paramètres de cette loi correspondent donc aux probabilités qu'une personne prise au hasard préfère respectivement le vin biodynamique, le vin conventionnel, ou n'ait pas de préférence. \n",
    "- On cherche à calculer la distribution de probabilité a-posteriori pour ces 3 paramètres, via une inférence Bayésienne.\n",
    "\n",
    "On propose plusieurs distributions a-priori, plus ou moins favorables au vins biodynamiques.\n",
    "- Toutes sont sous forme de distributions de Dirichlet: chacune est donc équivalente à avoir assisté à une expérience antérieure de dégustation en double aveugle.\n",
    "- L'utilisation de distributions de Dirichlet permet aussi une dérivation analytique pratique: notamment, les distributions a-posteriori sont aussi des Distributions de Dirichlet.\n",
    "\n",
    "#### Résultats rapportés\n",
    "\n",
    "On définit la proposition *'le vin biodynamique est nettement supérieur au vin conventionnel'* , qu'on note *'biodynamique >> conventionnel'*, par $\\mathbb P[\\text{préfère biodynamique}] \\geq \\frac{2}{3}$. C'est donc une condition sur l'un des coefficients de la loi multinomiale mesurée.\n",
    "\n",
    "- **Justification:** l'analyse se fait dans le cadre d'une remise en question de proclamations dithyrambiques prétendant à la supériorité sans équivoque des vins biodynamqiues, notamment dans les médias. Le ratio de $\\frac{2}{3}$ nous semble ne pas mettre la barre très haut pour que permettre à ces proclamations de faire leurs preuves.\n",
    "\n",
    "On rapportera $\\mathbb P[\\text{biodynamique >> conventionnel } | \\text{ résultats mesurés, distribution a-priori}]$, c'est à dire la crédibilité après expérience que le vin biodynamique dégusté soit 'supérieur' au vin conventionnel dégusté. \n",
    "\n",
    "- En notant $\\pi_B := \\mathbb P[\\text{préfère biodynamique}]$, on rapportera donc $\\mathbb P[\\pi_B \\geq \\frac{2}{3}]$ a-posteriori.\n",
    "- On rapportera ce résultat pour chaque paire de vins comparés (rouges et blancs) et chaque distribution a-priori.\n",
    "\n",
    "\n",
    "#### Dérivation analytique\n",
    "\n",
    "Les distributions a-priori considérées sont toutes des distributions de Dirichlet. Ces distributions étant conjuguées à la loi multinomiale, les distributions a-posteriori sont aussi de Dirichlet, dont les coefficients sont obtenus en ajoutant le \"nombre de votes\" pour chaque préférence au coefficient a-priori.\n",
    "\n",
    "En marginalisant, il vient que la distribution a-posteriori de $\\pi_B$ suit une loi Beta. On en déduit la probabilité a-posteriori de l'hypothèse de _nette supériorité._\n",
    "\n",
    "#### Résultats\n",
    "\n",
    "Les données mesurées pour chaque paire de vins sont :"
   ]
  },
  {
   "cell_type": "code",
   "execution_count": 12,
   "metadata": {},
   "outputs": [
    {
     "data": {
      "text/html": [
       "<div>\n",
       "<style scoped>\n",
       "    .dataframe tbody tr th:only-of-type {\n",
       "        vertical-align: middle;\n",
       "    }\n",
       "\n",
       "    .dataframe tbody tr th {\n",
       "        vertical-align: top;\n",
       "    }\n",
       "\n",
       "    .dataframe thead th {\n",
       "        text-align: right;\n",
       "    }\n",
       "</style>\n",
       "<table border=\"1\" class=\"dataframe\">\n",
       "  <thead>\n",
       "    <tr style=\"text-align: right;\">\n",
       "      <th></th>\n",
       "      <th>préfère conventionnel</th>\n",
       "      <th>pas de préférence</th>\n",
       "      <th>préfère biodynamique</th>\n",
       "    </tr>\n",
       "  </thead>\n",
       "  <tbody>\n",
       "    <tr>\n",
       "      <td>vin blanc</td>\n",
       "      <td>12</td>\n",
       "      <td>4</td>\n",
       "      <td>12</td>\n",
       "    </tr>\n",
       "    <tr>\n",
       "      <td>vin rouge</td>\n",
       "      <td>10</td>\n",
       "      <td>3</td>\n",
       "      <td>14</td>\n",
       "    </tr>\n",
       "  </tbody>\n",
       "</table>\n",
       "</div>"
      ],
      "text/plain": [
       "           préfère conventionnel  pas de préférence  préfère biodynamique\n",
       "vin blanc                     12                  4                    12\n",
       "vin rouge                     10                  3                    14"
      ]
     },
     "execution_count": 12,
     "metadata": {},
     "output_type": "execute_result"
    }
   ],
   "source": [
    "prefs_counts"
   ]
  },
  {
   "cell_type": "code",
   "execution_count": 13,
   "metadata": {},
   "outputs": [
    {
     "data": {
      "text/html": [
       "<table><thead><tr><th colspan=1>A priori</th><th colspan=1>Vins</th><th colspan=2>Crédibilité de 'biodynamique >> conventionnel'</th></tr><tr><th colspan=1></th><th colspan=1></th><th colspan=1>Avant expérience</th><th colspan=1>Après expérience</th></tr></thead><tr><td>Neutre</td><td>vin blanc</td><td>11.11%</td><td>0.25%</td></tr><tr><td>Neutre</td><td>vin rouge</td><td>11.11%</td><td>3.11%</td></tr><tr><td>Uniforme sur proportion de préférence biodynamique</td><td>vin blanc</td><td>33.33%</td><td>0.45%</td></tr><tr><td>Uniforme sur proportion de préférence biodynamique</td><td>vin rouge</td><td>33.33%</td><td>5.03%</td></tr><tr><td>Légèrement favorable biodynamique</td><td>vin blanc</td><td>53.18%</td><td>1.25%</td></tr><tr><td>Légèrement favorable biodynamique</td><td>vin rouge</td><td>53.18%</td><td>8.67%</td></tr><tr><td>Assez favorable biodynamique</td><td>vin blanc</td><td>70.09%</td><td>2.46%</td></tr><tr><td>Assez favorable biodynamique</td><td>vin rouge</td><td>70.09%</td><td>13.54%</td></tr><tr><td>Très favorable biodynamique</td><td>vin blanc</td><td>94.60%</td><td>8.32%</td></tr><tr><td>Très favorable biodynamique</td><td>vin rouge</td><td>94.60%</td><td>30.05%</td></tr></table>"
      ],
      "text/plain": [
       "<IPython.core.display.HTML object>"
      ]
     },
     "metadata": {},
     "output_type": "display_data"
    }
   ],
   "source": [
    "display(HTML(results_table()))"
   ]
  },
  {
   "cell_type": "markdown",
   "metadata": {},
   "source": [
    "Ces résulats indiquent pour chaque paire de vins que **même en partant d'un a-priori fortement biaisé en faveur du vin biodynamique, il est peu crédible que le vin biodynamique soit _nettement supérieur_ au vin conventionnel.**"
   ]
  }
 ],
 "metadata": {
  "kernelspec": {
   "display_name": "Python 3",
   "language": "python",
   "name": "python3"
  },
  "language_info": {
   "codemirror_mode": {
    "name": "ipython",
    "version": 3
   },
   "file_extension": ".py",
   "mimetype": "text/x-python",
   "name": "python",
   "nbconvert_exporter": "python",
   "pygments_lexer": "ipython3",
   "version": "3.7.4"
  }
 },
 "nbformat": 4,
 "nbformat_minor": 2
}
